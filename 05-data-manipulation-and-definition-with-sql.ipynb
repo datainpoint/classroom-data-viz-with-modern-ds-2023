{
 "cells": [
  {
   "cell_type": "markdown",
   "metadata": {
    "slideshow": {
     "slide_type": "slide"
    }
   },
   "source": [
    "# Data Visualization with Modern Data Science\n",
    "\n",
    "> Data Definition and Manipulation with SQL\n",
    "\n",
    "Yao-Jen Kuo <yaojenkuo@ntu.edu.tw> from [DATAINPOINT](https://www.datainpoint.com)"
   ]
  },
  {
   "cell_type": "code",
   "execution_count": 1,
   "metadata": {
    "slideshow": {
     "slide_type": "subslide"
    }
   },
   "outputs": [],
   "source": [
    "%LOAD sqlite3 db=data/demo.db timeout=2 shared_cache=true"
   ]
  },
  {
   "cell_type": "markdown",
   "metadata": {
    "slideshow": {
     "slide_type": "subslide"
    }
   },
   "source": [
    "## (Recap)Subcategories of SQL\n",
    "\n",
    "- DQL, short for **Data Query Language**.\n",
    "- DML, short for **Data Manipulation Language**.\n",
    "- DDL, short for **Data Definition Language**.\n",
    "- DCL, short for **Data Control Language**.\n",
    "- TCL, short for **Transaction Control Language**."
   ]
  },
  {
   "cell_type": "markdown",
   "metadata": {
    "slideshow": {
     "slide_type": "subslide"
    }
   },
   "source": [
    "## (Recap)Subcategories of SQL(Cont'd)\n",
    "\n",
    "- DQL: statements begin with `SELECT`.\n",
    "- DML: statements begin with `INSERT`, `UPDATE`, `DELETE`...etc.\n",
    "- DDL: statements begin with `CREATE`, `DROP`, `ALTER`...etc.\n",
    "- DCL: statements begin with `GRANT`, `REVOKE`...etc.\n",
    "- TCL: statements begin with `COMMIT`, `ROLLBACK`...etc."
   ]
  },
  {
   "cell_type": "markdown",
   "metadata": {
    "slideshow": {
     "slide_type": "subslide"
    }
   },
   "source": [
    "## (Recap)What will be covered in this course\n",
    "\n",
    "- DQL.\n",
    "- A bit of DML.\n",
    "- A bit of DDL.\n",
    "- ~~DCL.~~\n",
    "- A little bit of TCL."
   ]
  },
  {
   "cell_type": "markdown",
   "metadata": {
    "slideshow": {
     "slide_type": "slide"
    }
   },
   "source": [
    "## Data Definition with SQL"
   ]
  },
  {
   "cell_type": "markdown",
   "metadata": {
    "slideshow": {
     "slide_type": "subslide"
    }
   },
   "source": [
    "## DDL(Data Definition Language)\n",
    "\n",
    "- `CREATE` tables.\n",
    "- `CREATE` views."
   ]
  },
  {
   "cell_type": "markdown",
   "metadata": {
    "slideshow": {
     "slide_type": "subslide"
    }
   },
   "source": [
    "## What are tables?\n",
    "\n",
    "> A table is a collection of related data held in a table format within a database. It consists of columns and rows.In relational databases, and flat file databases, a table is a set of data elements (values) using a model of vertical columns (identifiable by name) and horizontal rows, the cell being the unit where a row and column intersect. A table has a specified number of columns, but can have any number of rows.\n",
    "\n",
    "Source: <https://en.wikipedia.org/wiki/Table_(database)>"
   ]
  },
  {
   "cell_type": "markdown",
   "metadata": {
    "slideshow": {
     "slide_type": "subslide"
    }
   },
   "source": [
    "## Planning a database\n",
    "\n",
    "1. Design questions.\n",
    "2. Data questions.\n",
    "3. Security questions."
   ]
  },
  {
   "cell_type": "markdown",
   "metadata": {
    "slideshow": {
     "slide_type": "subslide"
    }
   },
   "source": [
    "## Design questions\n",
    "\n",
    "- What are the business requirements?\n",
    "- What tables will I need to fulfill those requirements?\n",
    "- What columns will each table contain?\n",
    "- ...etc."
   ]
  },
  {
   "cell_type": "markdown",
   "metadata": {
    "slideshow": {
     "slide_type": "subslide"
    }
   },
   "source": [
    "## Data questions\n",
    "\n",
    "- How much data will be populated into these tables?\n",
    "- Where will the data come from?\n",
    "- Do we need processes to automatically populate the tables?\n",
    "- ...etc."
   ]
  },
  {
   "cell_type": "markdown",
   "metadata": {
    "slideshow": {
     "slide_type": "subslide"
    }
   },
   "source": [
    "## Security questions\n",
    "\n",
    "- Who should have access to this database?\n",
    "- Who should have access to which tables? Read-only access? Write access?\n",
    "- Is this database critical to business operations?\n",
    "- ...etc."
   ]
  },
  {
   "cell_type": "markdown",
   "metadata": {
    "slideshow": {
     "slide_type": "subslide"
    }
   },
   "source": [
    "## Create a new database using SQLiteStudio\n",
    "\n",
    "Database > Add a Database.\n",
    "\n",
    "![](https://i.imgur.com/ioRzyif.png)"
   ]
  },
  {
   "cell_type": "markdown",
   "metadata": {
    "slideshow": {
     "slide_type": "subslide"
    }
   },
   "source": [
    "## `CREATE` statement\n",
    "\n",
    "```sql\n",
    "CREATE TABLE table_name (\n",
    "    column_name DATA_TYPE CONSTRAINTS,\n",
    "    column_name DATA_TYPE\n",
    ");\n",
    "```"
   ]
  },
  {
   "cell_type": "code",
   "execution_count": 2,
   "metadata": {
    "slideshow": {
     "slide_type": "subslide"
    }
   },
   "outputs": [],
   "source": [
    "DROP TABLE IF EXISTS movies;"
   ]
  },
  {
   "cell_type": "code",
   "execution_count": 3,
   "metadata": {
    "slideshow": {
     "slide_type": "-"
    }
   },
   "outputs": [],
   "source": [
    "CREATE TABLE movies (\n",
    "    id INTEGER PRIMARY KEY AUTOINCREMENT,\n",
    "    title TEXT,\n",
    "    year INTEGER,\n",
    "    rating REAL\n",
    ");"
   ]
  },
  {
   "cell_type": "markdown",
   "metadata": {
    "slideshow": {
     "slide_type": "subslide"
    }
   },
   "source": [
    "## After `CREATE` statement"
   ]
  },
  {
   "cell_type": "code",
   "execution_count": 4,
   "metadata": {},
   "outputs": [
    {
     "data": {
      "text/html": [
       "</table>\n",
       "Empty set (0.00 sec)"
      ],
      "text/plain": [
       "\n",
       "Empty set (0.00 sec)"
      ]
     },
     "execution_count": 4,
     "metadata": {},
     "output_type": "execute_result"
    }
   ],
   "source": [
    "SELECT *\n",
    "  FROM movies;"
   ]
  },
  {
   "cell_type": "code",
   "execution_count": 5,
   "metadata": {},
   "outputs": [
    {
     "data": {
      "text/html": [
       "<table>\n",
       "<tr>\n",
       "<th>COUNT(*)</th>\n",
       "</tr>\n",
       "<tr>\n",
       "<td>0</td>\n",
       "</tr>\n",
       "</table>\n",
       "1 row in set (0.00 sec)"
      ],
      "text/plain": [
       "+----------+\n",
       "| COUNT(*) |\n",
       "+----------+\n",
       "| 0        |\n",
       "+----------+\n",
       "1 row in set (0.00 sec)"
      ]
     },
     "execution_count": 5,
     "metadata": {},
     "output_type": "execute_result"
    }
   ],
   "source": [
    "SELECT COUNT(*)\n",
    "  FROM movies;"
   ]
  },
  {
   "cell_type": "code",
   "execution_count": 6,
   "metadata": {
    "slideshow": {
     "slide_type": "subslide"
    }
   },
   "outputs": [],
   "source": [
    "INSERT INTO movies (title, year, rating)\n",
    "VALUES \n",
    "    ('The Shawshank Redemption', 1994, 9.2),\n",
    "    ('The Godfather', 1972, 9.1),\n",
    "    ('The Dark Knight', 2008, 9.0),\n",
    "    ('Forrest Gump', 1994, 8.8);"
   ]
  },
  {
   "cell_type": "markdown",
   "metadata": {
    "slideshow": {
     "slide_type": "subslide"
    }
   },
   "source": [
    "## After multiple `INSERT`s"
   ]
  },
  {
   "cell_type": "code",
   "execution_count": 7,
   "metadata": {
    "slideshow": {
     "slide_type": "-"
    }
   },
   "outputs": [
    {
     "data": {
      "text/html": [
       "<table>\n",
       "<tr>\n",
       "<th>id</th>\n",
       "<th>title</th>\n",
       "<th>year</th>\n",
       "<th>rating</th>\n",
       "</tr>\n",
       "<tr>\n",
       "<td>1</td>\n",
       "<td>The Shawshank Redemption</td>\n",
       "<td>1994</td>\n",
       "<td>9.2</td>\n",
       "</tr>\n",
       "<tr>\n",
       "<td>2</td>\n",
       "<td>The Godfather</td>\n",
       "<td>1972</td>\n",
       "<td>9.1</td>\n",
       "</tr>\n",
       "<tr>\n",
       "<td>3</td>\n",
       "<td>The Dark Knight</td>\n",
       "<td>2008</td>\n",
       "<td>9</td>\n",
       "</tr>\n",
       "<tr>\n",
       "<td>4</td>\n",
       "<td>Forrest Gump</td>\n",
       "<td>1994</td>\n",
       "<td>8.8</td>\n",
       "</tr>\n",
       "</table>\n",
       "4 rows in set (0.00 sec)"
      ],
      "text/plain": [
       "+----+--------------------------+------+--------+\n",
       "| id | title                    | year | rating |\n",
       "+----+--------------------------+------+--------+\n",
       "| 1  | The Shawshank Redemption | 1994 | 9.2    |\n",
       "+----+--------------------------+------+--------+\n",
       "| 2  | The Godfather            | 1972 | 9.1    |\n",
       "+----+--------------------------+------+--------+\n",
       "| 3  | The Dark Knight          | 2008 | 9      |\n",
       "+----+--------------------------+------+--------+\n",
       "| 4  | Forrest Gump             | 1994 | 8.8    |\n",
       "+----+--------------------------+------+--------+\n",
       "4 rows in set (0.00 sec)"
      ]
     },
     "execution_count": 7,
     "metadata": {},
     "output_type": "execute_result"
    }
   ],
   "source": [
    "SELECT *\n",
    "  FROM movies;"
   ]
  },
  {
   "cell_type": "code",
   "execution_count": 8,
   "metadata": {},
   "outputs": [
    {
     "data": {
      "text/html": [
       "<table>\n",
       "<tr>\n",
       "<th>COUNT(*)</th>\n",
       "</tr>\n",
       "<tr>\n",
       "<td>4</td>\n",
       "</tr>\n",
       "</table>\n",
       "1 row in set (0.00 sec)"
      ],
      "text/plain": [
       "+----------+\n",
       "| COUNT(*) |\n",
       "+----------+\n",
       "| 4        |\n",
       "+----------+\n",
       "1 row in set (0.00 sec)"
      ]
     },
     "execution_count": 8,
     "metadata": {},
     "output_type": "execute_result"
    }
   ],
   "source": [
    "SELECT COUNT(*)\n",
    "  FROM movies;"
   ]
  },
  {
   "cell_type": "code",
   "execution_count": 9,
   "metadata": {
    "slideshow": {
     "slide_type": "subslide"
    }
   },
   "outputs": [],
   "source": [
    "CREATE TABLE actors (\n",
    "    id INTEGER PRIMARY KEY AUTOINCREMENT,\n",
    "    name TEXT,\n",
    "    movie_id INTEGER,\n",
    "    FOREIGN KEY (movie_id) REFERENCES movies (id)\n",
    ");"
   ]
  },
  {
   "cell_type": "code",
   "execution_count": 10,
   "metadata": {},
   "outputs": [],
   "source": [
    "INSERT INTO actors (name, movie_id)\n",
    "VALUES \n",
    "    ('Tim Robbins', 1),\n",
    "    ('Morgan Freeman', 1),\n",
    "    ('Marlon Brando', 2),\n",
    "    ('Al Pacino', 2),\n",
    "    ('Christian Bale', 3),\n",
    "    ('Heath Ledger', 3),\n",
    "    ('Tom Hanks', 4),\n",
    "    ('Robin Wright', 4);"
   ]
  },
  {
   "cell_type": "code",
   "execution_count": 11,
   "metadata": {},
   "outputs": [
    {
     "data": {
      "text/html": [
       "<table>\n",
       "<tr>\n",
       "<th>id</th>\n",
       "<th>name</th>\n",
       "<th>movie_id</th>\n",
       "</tr>\n",
       "<tr>\n",
       "<td>1</td>\n",
       "<td>Tim Robbins</td>\n",
       "<td>1</td>\n",
       "</tr>\n",
       "<tr>\n",
       "<td>2</td>\n",
       "<td>Morgan Freeman</td>\n",
       "<td>1</td>\n",
       "</tr>\n",
       "<tr>\n",
       "<td>3</td>\n",
       "<td>Marlon Brando</td>\n",
       "<td>2</td>\n",
       "</tr>\n",
       "<tr>\n",
       "<td>4</td>\n",
       "<td>Al Pacino</td>\n",
       "<td>2</td>\n",
       "</tr>\n",
       "<tr>\n",
       "<td>5</td>\n",
       "<td>Christian Bale</td>\n",
       "<td>3</td>\n",
       "</tr>\n",
       "<tr>\n",
       "<td>6</td>\n",
       "<td>Heath Ledger</td>\n",
       "<td>3</td>\n",
       "</tr>\n",
       "<tr>\n",
       "<td>7</td>\n",
       "<td>Tom Hanks</td>\n",
       "<td>4</td>\n",
       "</tr>\n",
       "<tr>\n",
       "<td>8</td>\n",
       "<td>Robin Wright</td>\n",
       "<td>4</td>\n",
       "</tr>\n",
       "</table>\n",
       "8 rows in set (0.00 sec)"
      ],
      "text/plain": [
       "+----+----------------+----------+\n",
       "| id | name           | movie_id |\n",
       "+----+----------------+----------+\n",
       "| 1  | Tim Robbins    | 1        |\n",
       "+----+----------------+----------+\n",
       "| 2  | Morgan Freeman | 1        |\n",
       "+----+----------------+----------+\n",
       "| 3  | Marlon Brando  | 2        |\n",
       "+----+----------------+----------+\n",
       "| 4  | Al Pacino      | 2        |\n",
       "+----+----------------+----------+\n",
       "| 5  | Christian Bale | 3        |\n",
       "+----+----------------+----------+\n",
       "| 6  | Heath Ledger   | 3        |\n",
       "+----+----------------+----------+\n",
       "| 7  | Tom Hanks      | 4        |\n",
       "+----+----------------+----------+\n",
       "| 8  | Robin Wright   | 4        |\n",
       "+----+----------------+----------+\n",
       "8 rows in set (0.00 sec)"
      ]
     },
     "execution_count": 11,
     "metadata": {},
     "output_type": "execute_result"
    }
   ],
   "source": [
    "SELECT *\n",
    "  FROM actors;"
   ]
  },
  {
   "cell_type": "code",
   "execution_count": 12,
   "metadata": {
    "slideshow": {
     "slide_type": "subslide"
    }
   },
   "outputs": [
    {
     "data": {
      "text/html": [
       "<table>\n",
       "<tr>\n",
       "<th>id</th>\n",
       "<th>title</th>\n",
       "<th>year</th>\n",
       "<th>rating</th>\n",
       "<th>id</th>\n",
       "<th>name</th>\n",
       "<th>movie_id</th>\n",
       "</tr>\n",
       "<tr>\n",
       "<td>1</td>\n",
       "<td>The Shawshank Redemption</td>\n",
       "<td>1994</td>\n",
       "<td>9.2</td>\n",
       "<td>1</td>\n",
       "<td>Tim Robbins</td>\n",
       "<td>1</td>\n",
       "</tr>\n",
       "<tr>\n",
       "<td>1</td>\n",
       "<td>The Shawshank Redemption</td>\n",
       "<td>1994</td>\n",
       "<td>9.2</td>\n",
       "<td>2</td>\n",
       "<td>Morgan Freeman</td>\n",
       "<td>1</td>\n",
       "</tr>\n",
       "<tr>\n",
       "<td>2</td>\n",
       "<td>The Godfather</td>\n",
       "<td>1972</td>\n",
       "<td>9.1</td>\n",
       "<td>3</td>\n",
       "<td>Marlon Brando</td>\n",
       "<td>2</td>\n",
       "</tr>\n",
       "<tr>\n",
       "<td>2</td>\n",
       "<td>The Godfather</td>\n",
       "<td>1972</td>\n",
       "<td>9.1</td>\n",
       "<td>4</td>\n",
       "<td>Al Pacino</td>\n",
       "<td>2</td>\n",
       "</tr>\n",
       "<tr>\n",
       "<td>3</td>\n",
       "<td>The Dark Knight</td>\n",
       "<td>2008</td>\n",
       "<td>9</td>\n",
       "<td>5</td>\n",
       "<td>Christian Bale</td>\n",
       "<td>3</td>\n",
       "</tr>\n",
       "<tr>\n",
       "<td>3</td>\n",
       "<td>The Dark Knight</td>\n",
       "<td>2008</td>\n",
       "<td>9</td>\n",
       "<td>6</td>\n",
       "<td>Heath Ledger</td>\n",
       "<td>3</td>\n",
       "</tr>\n",
       "<tr>\n",
       "<td>4</td>\n",
       "<td>Forrest Gump</td>\n",
       "<td>1994</td>\n",
       "<td>8.8</td>\n",
       "<td>7</td>\n",
       "<td>Tom Hanks</td>\n",
       "<td>4</td>\n",
       "</tr>\n",
       "<tr>\n",
       "<td>4</td>\n",
       "<td>Forrest Gump</td>\n",
       "<td>1994</td>\n",
       "<td>8.8</td>\n",
       "<td>8</td>\n",
       "<td>Robin Wright</td>\n",
       "<td>4</td>\n",
       "</tr>\n",
       "</table>\n",
       "8 rows in set (0.00 sec)"
      ],
      "text/plain": [
       "+----+--------------------------+------+--------+----+----------------+----------+\n",
       "| id | title                    | year | rating | id | name           | movie_id |\n",
       "+----+--------------------------+------+--------+----+----------------+----------+\n",
       "| 1  | The Shawshank Redemption | 1994 | 9.2    | 1  | Tim Robbins    | 1        |\n",
       "+----+--------------------------+------+--------+----+----------------+----------+\n",
       "| 1  | The Shawshank Redemption | 1994 | 9.2    | 2  | Morgan Freeman | 1        |\n",
       "+----+--------------------------+------+--------+----+----------------+----------+\n",
       "| 2  | The Godfather            | 1972 | 9.1    | 3  | Marlon Brando  | 2        |\n",
       "+----+--------------------------+------+--------+----+----------------+----------+\n",
       "| 2  | The Godfather            | 1972 | 9.1    | 4  | Al Pacino      | 2        |\n",
       "+----+--------------------------+------+--------+----+----------------+----------+\n",
       "| 3  | The Dark Knight          | 2008 | 9      | 5  | Christian Bale | 3        |\n",
       "+----+--------------------------+------+--------+----+----------------+----------+\n",
       "| 3  | The Dark Knight          | 2008 | 9      | 6  | Heath Ledger   | 3        |\n",
       "+----+--------------------------+------+--------+----+----------------+----------+\n",
       "| 4  | Forrest Gump             | 1994 | 8.8    | 7  | Tom Hanks      | 4        |\n",
       "+----+--------------------------+------+--------+----+----------------+----------+\n",
       "| 4  | Forrest Gump             | 1994 | 8.8    | 8  | Robin Wright   | 4        |\n",
       "+----+--------------------------+------+--------+----+----------------+----------+\n",
       "8 rows in set (0.00 sec)"
      ]
     },
     "execution_count": 12,
     "metadata": {},
     "output_type": "execute_result"
    }
   ],
   "source": [
    "SELECT *\n",
    "  FROM movies\n",
    "  JOIN actors\n",
    "    ON movies.id = actors.movie_id;"
   ]
  },
  {
   "cell_type": "markdown",
   "metadata": {
    "slideshow": {
     "slide_type": "subslide"
    }
   },
   "source": [
    "## `DROP` statement\n",
    "\n",
    "```sql\n",
    "DROP TABLE IF EXISTS table_name;\n",
    "```"
   ]
  },
  {
   "cell_type": "code",
   "execution_count": 13,
   "metadata": {},
   "outputs": [],
   "source": [
    "DROP TABLE IF EXISTS movies;"
   ]
  },
  {
   "cell_type": "code",
   "execution_count": 14,
   "metadata": {},
   "outputs": [],
   "source": [
    "DROP TABLE IF EXISTS actors;"
   ]
  },
  {
   "cell_type": "markdown",
   "metadata": {
    "slideshow": {
     "slide_type": "subslide"
    }
   },
   "source": [
    "## After `DROP` statement\n",
    "\n",
    "```sql\n",
    "SELECT *\n",
    "  FROM movies;\n",
    "```\n",
    "\n",
    "```\n",
    "Error: sqlite3_statement_backend::prepare: no such table: movies while preparing \"SELECT *\n",
    "  FROM movies;\".\n",
    "```"
   ]
  },
  {
   "cell_type": "markdown",
   "metadata": {
    "slideshow": {
     "slide_type": "subslide"
    }
   },
   "source": [
    "## After `DROP` statement(Cont'd)\n",
    "\n",
    "```sql\n",
    "SELECT *\n",
    "  FROM actors;\n",
    "```\n",
    "\n",
    "```\n",
    "Error: sqlite3_statement_backend::prepare: no such table: actors while preparing \"SELECT *\n",
    "  FROM actors;\".\n",
    "```"
   ]
  },
  {
   "cell_type": "markdown",
   "metadata": {
    "slideshow": {
     "slide_type": "subslide"
    }
   },
   "source": [
    "## We can also use SQLiteStudio to import CSV file as a table\n",
    "\n",
    "![](https://i.imgur.com/qhMFMRP.png)"
   ]
  },
  {
   "cell_type": "markdown",
   "metadata": {
    "slideshow": {
     "slide_type": "subslide"
    }
   },
   "source": [
    "## Try `DROP DATABASE covid19.db` and create from scratch\n",
    "\n",
    "- [daily_report.csv](https://classroom-data-viz.s3.ap-northeast-1.amazonaws.com/daily_report.csv)\n",
    "- [lookup_table.csv](https://classroom-data-viz.s3.ap-northeast-1.amazonaws.com/lookup_table.csv)\n",
    "- [time_series.csv](https://classroom-data-viz.s3.ap-northeast-1.amazonaws.com/time_series.csv)"
   ]
  },
  {
   "cell_type": "markdown",
   "metadata": {
    "slideshow": {
     "slide_type": "subslide"
    }
   },
   "source": [
    "## What are views?\n",
    "\n",
    "> In a database, a view is the result set of a stored query on the data, which the database users can query just as they would in a persistent database collection object. This pre-established query command is kept in the database dictionary.\n",
    "\n",
    "Source: <https://en.wikipedia.org/wiki/View_(SQL)>"
   ]
  },
  {
   "cell_type": "markdown",
   "metadata": {
    "slideshow": {
     "slide_type": "subslide"
    }
   },
   "source": [
    "## Views are like\n",
    "\n",
    "- A persistent sub-query.\n",
    "- A stored `SELECT` statement that feels like a table for users.\n",
    "- A feature lies between sub-queries and creating a table."
   ]
  },
  {
   "cell_type": "markdown",
   "metadata": {
    "slideshow": {
     "slide_type": "subslide"
    }
   },
   "source": [
    "## `CREATE VIEW` statement\n",
    "\n",
    "```sql\n",
    "CREATE VIEW view_name (column_names)\n",
    "    AS\n",
    "SELECT ...;\n",
    "```"
   ]
  },
  {
   "cell_type": "markdown",
   "metadata": {
    "slideshow": {
     "slide_type": "subslide"
    }
   },
   "source": [
    "## The incidence rate summary"
   ]
  },
  {
   "cell_type": "code",
   "execution_count": 15,
   "metadata": {},
   "outputs": [],
   "source": [
    "%LOAD sqlite3 db=data/covid19.db timeout=2 shared_cache=true"
   ]
  },
  {
   "cell_type": "code",
   "execution_count": 16,
   "metadata": {},
   "outputs": [
    {
     "data": {
      "text/html": [
       "<table>\n",
       "<tr>\n",
       "<th>Country_Region</th>\n",
       "<th>Incidence_Rate</th>\n",
       "</tr>\n",
       "<tr>\n",
       "<td>San Marino</td>\n",
       "<td>69028</td>\n",
       "</tr>\n",
       "<tr>\n",
       "<td>Austria</td>\n",
       "<td>64179</td>\n",
       "</tr>\n",
       "<tr>\n",
       "<td>Slovenia</td>\n",
       "<td>63570</td>\n",
       "</tr>\n",
       "<tr>\n",
       "<td>Brunei</td>\n",
       "<td>63103</td>\n",
       "</tr>\n",
       "<tr>\n",
       "<td>Andorra</td>\n",
       "<td>61915</td>\n",
       "</tr>\n",
       "<tr>\n",
       "<td>Iceland</td>\n",
       "<td>61153</td>\n",
       "</tr>\n",
       "<tr>\n",
       "<td>Korea, South</td>\n",
       "<td>58899</td>\n",
       "</tr>\n",
       "<tr>\n",
       "<td>France</td>\n",
       "<td>58315</td>\n",
       "</tr>\n",
       "<tr>\n",
       "<td>Denmark</td>\n",
       "<td>57992</td>\n",
       "</tr>\n",
       "<tr>\n",
       "<td>Liechtenstein</td>\n",
       "<td>55979</td>\n",
       "</tr>\n",
       "<tr>\n",
       "<td>Israel</td>\n",
       "<td>55296</td>\n",
       "</tr>\n",
       "<tr>\n",
       "<td>Portugal</td>\n",
       "<td>54565</td>\n",
       "</tr>\n",
       "<tr>\n",
       "<td>Greece</td>\n",
       "<td>53232</td>\n",
       "</tr>\n",
       "<tr>\n",
       "<td>Cyprus</td>\n",
       "<td>53228</td>\n",
       "</tr>\n",
       "<tr>\n",
       "<td>Latvia</td>\n",
       "<td>51706</td>\n",
       "</tr>\n",
       "<tr>\n",
       "<td>Seychelles</td>\n",
       "<td>51520</td>\n",
       "</tr>\n",
       "<tr>\n",
       "<td>Switzerland</td>\n",
       "<td>50931</td>\n",
       "</tr>\n",
       "<tr>\n",
       "<td>Luxembourg</td>\n",
       "<td>50278</td>\n",
       "</tr>\n",
       "<tr>\n",
       "<td>Netherlands</td>\n",
       "<td>48993</td>\n",
       "</tr>\n",
       "<tr>\n",
       "<td>Slovakia</td>\n",
       "<td>48957</td>\n",
       "</tr>\n",
       "<tr>\n",
       "<td>Lithuania</td>\n",
       "<td>47625</td>\n",
       "</tr>\n",
       "<tr>\n",
       "<td>Estonia</td>\n",
       "<td>46278</td>\n",
       "</tr>\n",
       "<tr>\n",
       "<td>Montenegro</td>\n",
       "<td>45593</td>\n",
       "</tr>\n",
       "<tr>\n",
       "<td>Georgia</td>\n",
       "<td>45477</td>\n",
       "</tr>\n",
       "<tr>\n",
       "<td>Germany</td>\n",
       "<td>45433</td>\n",
       "</tr>\n",
       "<tr>\n",
       "<td>New Zealand</td>\n",
       "<td>45237</td>\n",
       "</tr>\n",
       "<tr>\n",
       "<td>Australia</td>\n",
       "<td>44365</td>\n",
       "</tr>\n",
       "<tr>\n",
       "<td>Czechia</td>\n",
       "<td>42856</td>\n",
       "</tr>\n",
       "<tr>\n",
       "<td>Nauru</td>\n",
       "<td>42652</td>\n",
       "</tr>\n",
       "<tr>\n",
       "<td>Italy</td>\n",
       "<td>42169</td>\n",
       "</tr>\n",
       "<tr>\n",
       "<td>Bahrain</td>\n",
       "<td>41164</td>\n",
       "</tr>\n",
       "<tr>\n",
       "<td>Monaco</td>\n",
       "<td>40931</td>\n",
       "</tr>\n",
       "<tr>\n",
       "<td>Belgium</td>\n",
       "<td>40821</td>\n",
       "</tr>\n",
       "<tr>\n",
       "<td>Taiwan</td>\n",
       "<td>40046</td>\n",
       "</tr>\n",
       "<tr>\n",
       "<td>Singapore</td>\n",
       "<td>37897</td>\n",
       "</tr>\n",
       "<tr>\n",
       "<td>Barbados</td>\n",
       "<td>36940</td>\n",
       "</tr>\n",
       "<tr>\n",
       "<td>United Kingdom</td>\n",
       "<td>36497</td>\n",
       "</tr>\n",
       "<tr>\n",
       "<td>Ireland</td>\n",
       "<td>34433</td>\n",
       "</tr>\n",
       "<tr>\n",
       "<td>Maldives</td>\n",
       "<td>34357</td>\n",
       "</tr>\n",
       "<tr>\n",
       "<td>Palau</td>\n",
       "<td>33240</td>\n",
       "</tr>\n",
       "<tr>\n",
       "<td>Croatia</td>\n",
       "<td>30876</td>\n",
       "</tr>\n",
       "<tr>\n",
       "<td>US</td>\n",
       "<td>30802</td>\n",
       "</tr>\n",
       "<tr>\n",
       "<td>Mongolia</td>\n",
       "<td>30743</td>\n",
       "</tr>\n",
       "<tr>\n",
       "<td>Uruguay</td>\n",
       "<td>29729</td>\n",
       "</tr>\n",
       "<tr>\n",
       "<td>Spain</td>\n",
       "<td>29255</td>\n",
       "</tr>\n",
       "<tr>\n",
       "<td>Chile</td>\n",
       "<td>29123</td>\n",
       "</tr>\n",
       "<tr>\n",
       "<td>Serbia</td>\n",
       "<td>28283</td>\n",
       "</tr>\n",
       "<tr>\n",
       "<td>Norway</td>\n",
       "<td>27260</td>\n",
       "</tr>\n",
       "<tr>\n",
       "<td>Marshall Islands</td>\n",
       "<td>26678</td>\n",
       "</tr>\n",
       "<tr>\n",
       "<td>Malta</td>\n",
       "<td>26512</td>\n",
       "</tr>\n",
       "<tr>\n",
       "<td>Finland</td>\n",
       "<td>26325</td>\n",
       "</tr>\n",
       "<tr>\n",
       "<td>Sweden</td>\n",
       "<td>26080</td>\n",
       "</tr>\n",
       "<tr>\n",
       "<td>Japan</td>\n",
       "<td>25803</td>\n",
       "</tr>\n",
       "<tr>\n",
       "<td>Panama</td>\n",
       "<td>23864</td>\n",
       "</tr>\n",
       "<tr>\n",
       "<td>Tuvalu</td>\n",
       "<td>23787</td>\n",
       "</tr>\n",
       "<tr>\n",
       "<td>Costa Rica</td>\n",
       "<td>23285</td>\n",
       "</tr>\n",
       "<tr>\n",
       "<td>Mauritius</td>\n",
       "<td>23164</td>\n",
       "</tr>\n",
       "<tr>\n",
       "<td>Hungary</td>\n",
       "<td>22688</td>\n",
       "</tr>\n",
       "<tr>\n",
       "<td>Argentina</td>\n",
       "<td>22208</td>\n",
       "</tr>\n",
       "<tr>\n",
       "<td>Dominica</td>\n",
       "<td>21891</td>\n",
       "</tr>\n",
       "<tr>\n",
       "<td>Turkey</td>\n",
       "<td>20207</td>\n",
       "</tr>\n",
       "<tr>\n",
       "<td>Micronesia</td>\n",
       "<td>19923</td>\n",
       "</tr>\n",
       "<tr>\n",
       "<td>Bulgaria</td>\n",
       "<td>18643</td>\n",
       "</tr>\n",
       "<tr>\n",
       "<td>Lebanon</td>\n",
       "<td>18000</td>\n",
       "</tr>\n",
       "<tr>\n",
       "<td>Belize</td>\n",
       "<td>17770</td>\n",
       "</tr>\n",
       "<tr>\n",
       "<td>Brazil</td>\n",
       "<td>17523</td>\n",
       "</tr>\n",
       "<tr>\n",
       "<td>Grenada</td>\n",
       "<td>17490</td>\n",
       "</tr>\n",
       "<tr>\n",
       "<td>Romania</td>\n",
       "<td>17283</td>\n",
       "</tr>\n",
       "<tr>\n",
       "<td>Jordan</td>\n",
       "<td>17122</td>\n",
       "</tr>\n",
       "<tr>\n",
       "<td>Qatar</td>\n",
       "<td>17093</td>\n",
       "</tr>\n",
       "<tr>\n",
       "<td>Poland</td>\n",
       "<td>16855</td>\n",
       "</tr>\n",
       "<tr>\n",
       "<td>North Macedonia</td>\n",
       "<td>16628</td>\n",
       "</tr>\n",
       "<tr>\n",
       "<td>Saint Lucia</td>\n",
       "<td>16230</td>\n",
       "</tr>\n",
       "<tr>\n",
       "<td>Tonga</td>\n",
       "<td>15832</td>\n",
       "</tr>\n",
       "<tr>\n",
       "<td>Kuwait</td>\n",
       "<td>15521</td>\n",
       "</tr>\n",
       "<tr>\n",
       "<td>Malaysia</td>\n",
       "<td>15434</td>\n",
       "</tr>\n",
       "<tr>\n",
       "<td>Kosovo</td>\n",
       "<td>15054</td>\n",
       "</tr>\n",
       "<tr>\n",
       "<td>Armenia</td>\n",
       "<td>15051</td>\n",
       "</tr>\n",
       "<tr>\n",
       "<td>Moldova</td>\n",
       "<td>14863</td>\n",
       "</tr>\n",
       "<tr>\n",
       "<td>Russia</td>\n",
       "<td>14757</td>\n",
       "</tr>\n",
       "<tr>\n",
       "<td>Botswana</td>\n",
       "<td>13999</td>\n",
       "</tr>\n",
       "<tr>\n",
       "<td>Suriname</td>\n",
       "<td>13981</td>\n",
       "</tr>\n",
       "<tr>\n",
       "<td>West Bank and Gaza</td>\n",
       "<td>13784</td>\n",
       "</tr>\n",
       "<tr>\n",
       "<td>Peru</td>\n",
       "<td>13735</td>\n",
       "</tr>\n",
       "<tr>\n",
       "<td>Trinidad and Tobago</td>\n",
       "<td>13426</td>\n",
       "</tr>\n",
       "<tr>\n",
       "<td>Colombia</td>\n",
       "<td>13164</td>\n",
       "</tr>\n",
       "<tr>\n",
       "<td>Saint Kitts and Nevis</td>\n",
       "<td>12392</td>\n",
       "</tr>\n",
       "<tr>\n",
       "<td>Ukraine</td>\n",
       "<td>12373</td>\n",
       "</tr>\n",
       "<tr>\n",
       "<td>Bosnia and Herzegovina</td>\n",
       "<td>12234</td>\n",
       "</tr>\n",
       "<tr>\n",
       "<td>Canada</td>\n",
       "<td>11933</td>\n",
       "</tr>\n",
       "<tr>\n",
       "<td>Vietnam</td>\n",
       "<td>11841</td>\n",
       "</tr>\n",
       "<tr>\n",
       "<td>Albania</td>\n",
       "<td>11611</td>\n",
       "</tr>\n",
       "<tr>\n",
       "<td>Cabo Verde</td>\n",
       "<td>11372</td>\n",
       "</tr>\n",
       "<tr>\n",
       "<td>Paraguay</td>\n",
       "<td>11303</td>\n",
       "</tr>\n",
       "<tr>\n",
       "<td>United Arab Emirates</td>\n",
       "<td>10610</td>\n",
       "</tr>\n",
       "<tr>\n",
       "<td>Belarus</td>\n",
       "<td>10519</td>\n",
       "</tr>\n",
       "<tr>\n",
       "<td>Bolivia</td>\n",
       "<td>10177</td>\n",
       "</tr>\n",
       "<tr>\n",
       "<td>Cuba</td>\n",
       "<td>9821</td>\n",
       "</tr>\n",
       "<tr>\n",
       "<td>Tunisia</td>\n",
       "<td>9733</td>\n",
       "</tr>\n",
       "<tr>\n",
       "<td>Bahamas</td>\n",
       "<td>9533</td>\n",
       "</tr>\n",
       "<tr>\n",
       "<td>Antigua and Barbuda</td>\n",
       "<td>9298</td>\n",
       "</tr>\n",
       "<tr>\n",
       "<td>Guyana</td>\n",
       "<td>9274</td>\n",
       "</tr>\n",
       "<tr>\n",
       "<td>Iran</td>\n",
       "<td>9005</td>\n",
       "</tr>\n",
       "<tr>\n",
       "<td>Saint Vincent and the Grenadines</td>\n",
       "<td>8639</td>\n",
       "</tr>\n",
       "<tr>\n",
       "<td>Samoa</td>\n",
       "<td>8202</td>\n",
       "</tr>\n",
       "<tr>\n",
       "<td>Azerbaijan</td>\n",
       "<td>8165</td>\n",
       "</tr>\n",
       "<tr>\n",
       "<td>Bhutan</td>\n",
       "<td>8113</td>\n",
       "</tr>\n",
       "<tr>\n",
       "<td>Kazakhstan</td>\n",
       "<td>7970</td>\n",
       "</tr>\n",
       "<tr>\n",
       "<td>Oman</td>\n",
       "<td>7822</td>\n",
       "</tr>\n",
       "<tr>\n",
       "<td>Fiji</td>\n",
       "<td>7676</td>\n",
       "</tr>\n",
       "<tr>\n",
       "<td>Libya</td>\n",
       "<td>7380</td>\n",
       "</tr>\n",
       "<tr>\n",
       "<td>Guatemala</td>\n",
       "<td>6853</td>\n",
       "</tr>\n",
       "<tr>\n",
       "<td>South Africa</td>\n",
       "<td>6838</td>\n",
       "</tr>\n",
       "<tr>\n",
       "<td>Thailand</td>\n",
       "<td>6772</td>\n",
       "</tr>\n",
       "<tr>\n",
       "<td>Namibia</td>\n",
       "<td>6719</td>\n",
       "</tr>\n",
       "<tr>\n",
       "<td>Eswatini</td>\n",
       "<td>6389</td>\n",
       "</tr>\n",
       "<tr>\n",
       "<td>Iraq</td>\n",
       "<td>6129</td>\n",
       "</tr>\n",
       "<tr>\n",
       "<td>Dominican Republic</td>\n",
       "<td>6085</td>\n",
       "</tr>\n",
       "<tr>\n",
       "<td>Ecuador</td>\n",
       "<td>5958</td>\n",
       "</tr>\n",
       "<tr>\n",
       "<td>Mexico</td>\n",
       "<td>5765</td>\n",
       "</tr>\n",
       "<tr>\n",
       "<td>Jamaica</td>\n",
       "<td>5180</td>\n",
       "</tr>\n",
       "<tr>\n",
       "<td>Honduras</td>\n",
       "<td>4752</td>\n",
       "</tr>\n",
       "<tr>\n",
       "<td>Kiribati</td>\n",
       "<td>4258</td>\n",
       "</tr>\n",
       "<tr>\n",
       "<td>Vanuatu</td>\n",
       "<td>4104</td>\n",
       "</tr>\n",
       "<tr>\n",
       "<td>Solomon Islands</td>\n",
       "<td>3764</td>\n",
       "</tr>\n",
       "<tr>\n",
       "<td>Philippines</td>\n",
       "<td>3717</td>\n",
       "</tr>\n",
       "<tr>\n",
       "<td>Holy See</td>\n",
       "<td>3584</td>\n",
       "</tr>\n",
       "<tr>\n",
       "<td>Morocco</td>\n",
       "<td>3446</td>\n",
       "</tr>\n",
       "<tr>\n",
       "<td>Nepal</td>\n",
       "<td>3435</td>\n",
       "</tr>\n",
       "<tr>\n",
       "<td>India</td>\n",
       "<td>3258</td>\n",
       "</tr>\n",
       "<tr>\n",
       "<td>Kyrgyzstan</td>\n",
       "<td>3166</td>\n",
       "</tr>\n",
       "<tr>\n",
       "<td>Sri Lanka</td>\n",
       "<td>3138</td>\n",
       "</tr>\n",
       "<tr>\n",
       "<td>El Salvador</td>\n",
       "<td>3110</td>\n",
       "</tr>\n",
       "<tr>\n",
       "<td>Laos</td>\n",
       "<td>2995</td>\n",
       "</tr>\n",
       "<tr>\n",
       "<td>Sao Tome and Principe</td>\n",
       "<td>2865</td>\n",
       "</tr>\n",
       "<tr>\n",
       "<td>Indonesia</td>\n",
       "<td>2460</td>\n",
       "</tr>\n",
       "<tr>\n",
       "<td>Saudi Arabia</td>\n",
       "<td>2378</td>\n",
       "</tr>\n",
       "<tr>\n",
       "<td>Gabon</td>\n",
       "<td>2200</td>\n",
       "</tr>\n",
       "<tr>\n",
       "<td>Venezuela</td>\n",
       "<td>1939</td>\n",
       "</tr>\n",
       "<tr>\n",
       "<td>Zambia</td>\n",
       "<td>1853</td>\n",
       "</tr>\n",
       "<tr>\n",
       "<td>Timor-Leste</td>\n",
       "<td>1775</td>\n",
       "</tr>\n",
       "<tr>\n",
       "<td>Zimbabwe</td>\n",
       "<td>1760</td>\n",
       "</tr>\n",
       "<tr>\n",
       "<td>Lesotho</td>\n",
       "<td>1623</td>\n",
       "</tr>\n",
       "<tr>\n",
       "<td>Djibouti</td>\n",
       "<td>1588</td>\n",
       "</tr>\n",
       "<tr>\n",
       "<td>Mauritania</td>\n",
       "<td>1369</td>\n",
       "</tr>\n",
       "<tr>\n",
       "<td>Bangladesh</td>\n",
       "<td>1237</td>\n",
       "</tr>\n",
       "<tr>\n",
       "<td>Equatorial Guinea</td>\n",
       "<td>1225</td>\n",
       "</tr>\n",
       "<tr>\n",
       "<td>Burma</td>\n",
       "<td>1164</td>\n",
       "</tr>\n",
       "<tr>\n",
       "<td>Comoros</td>\n",
       "<td>1034</td>\n",
       "</tr>\n",
       "<tr>\n",
       "<td>Rwanda</td>\n",
       "<td>1027</td>\n",
       "</tr>\n",
       "<tr>\n",
       "<td>Cambodia</td>\n",
       "<td>829</td>\n",
       "</tr>\n",
       "<tr>\n",
       "<td>Pakistan</td>\n",
       "<td>758</td>\n",
       "</tr>\n",
       "<tr>\n",
       "<td>Uzbekistan</td>\n",
       "<td>748</td>\n",
       "</tr>\n",
       "<tr>\n",
       "<td>Mozambique</td>\n",
       "<td>742</td>\n",
       "</tr>\n",
       "<tr>\n",
       "<td>Kenya</td>\n",
       "<td>637</td>\n",
       "</tr>\n",
       "<tr>\n",
       "<td>Algeria</td>\n",
       "<td>618</td>\n",
       "</tr>\n",
       "<tr>\n",
       "<td>Ghana</td>\n",
       "<td>550</td>\n",
       "</tr>\n",
       "<tr>\n",
       "<td>Afghanistan</td>\n",
       "<td>535</td>\n",
       "</tr>\n",
       "<tr>\n",
       "<td>Senegal</td>\n",
       "<td>530</td>\n",
       "</tr>\n",
       "<tr>\n",
       "<td>Papua New Guinea</td>\n",
       "<td>522</td>\n",
       "</tr>\n",
       "<tr>\n",
       "<td>Gambia</td>\n",
       "<td>520</td>\n",
       "</tr>\n",
       "<tr>\n",
       "<td>Egypt</td>\n",
       "<td>503</td>\n",
       "</tr>\n",
       "<tr>\n",
       "<td>Togo</td>\n",
       "<td>475</td>\n",
       "</tr>\n",
       "<tr>\n",
       "<td>Cameroon</td>\n",
       "<td>467</td>\n",
       "</tr>\n",
       "<tr>\n",
       "<td>Malawi</td>\n",
       "<td>462</td>\n",
       "</tr>\n",
       "<tr>\n",
       "<td>Congo (Brazzaville)</td>\n",
       "<td>459</td>\n",
       "</tr>\n",
       "<tr>\n",
       "<td>Guinea-Bissau</td>\n",
       "<td>454</td>\n",
       "</tr>\n",
       "<tr>\n",
       "<td>Burundi</td>\n",
       "<td>448</td>\n",
       "</tr>\n",
       "<tr>\n",
       "<td>Ethiopia</td>\n",
       "<td>434</td>\n",
       "</tr>\n",
       "<tr>\n",
       "<td>Uganda</td>\n",
       "<td>372</td>\n",
       "</tr>\n",
       "<tr>\n",
       "<td>China</td>\n",
       "<td>345</td>\n",
       "</tr>\n",
       "<tr>\n",
       "<td>Cote d'Ivoire</td>\n",
       "<td>333</td>\n",
       "</tr>\n",
       "<tr>\n",
       "<td>Syria</td>\n",
       "<td>328</td>\n",
       "</tr>\n",
       "<tr>\n",
       "<td>Angola</td>\n",
       "<td>320</td>\n",
       "</tr>\n",
       "<tr>\n",
       "<td>Central African Republic</td>\n",
       "<td>318</td>\n",
       "</tr>\n",
       "<tr>\n",
       "<td>Haiti</td>\n",
       "<td>298</td>\n",
       "</tr>\n",
       "<tr>\n",
       "<td>Guinea</td>\n",
       "<td>291</td>\n",
       "</tr>\n",
       "<tr>\n",
       "<td>Eritrea</td>\n",
       "<td>287</td>\n",
       "</tr>\n",
       "<tr>\n",
       "<td>Madagascar</td>\n",
       "<td>244</td>\n",
       "</tr>\n",
       "<tr>\n",
       "<td>Nicaragua</td>\n",
       "<td>235</td>\n",
       "</tr>\n",
       "<tr>\n",
       "<td>Benin</td>\n",
       "<td>230</td>\n",
       "</tr>\n",
       "<tr>\n",
       "<td>Tajikistan</td>\n",
       "<td>186</td>\n",
       "</tr>\n",
       "<tr>\n",
       "<td>Somalia</td>\n",
       "<td>171</td>\n",
       "</tr>\n",
       "<tr>\n",
       "<td>South Sudan</td>\n",
       "<td>164</td>\n",
       "</tr>\n",
       "<tr>\n",
       "<td>Mali</td>\n",
       "<td>161</td>\n",
       "</tr>\n",
       "<tr>\n",
       "<td>Liberia</td>\n",
       "<td>159</td>\n",
       "</tr>\n",
       "<tr>\n",
       "<td>Sudan</td>\n",
       "<td>145</td>\n",
       "</tr>\n",
       "<tr>\n",
       "<td>Nigeria</td>\n",
       "<td>129</td>\n",
       "</tr>\n",
       "<tr>\n",
       "<td>Congo (Kinshasa)</td>\n",
       "<td>106</td>\n",
       "</tr>\n",
       "<tr>\n",
       "<td>Burkina Faso</td>\n",
       "<td>105</td>\n",
       "</tr>\n",
       "<tr>\n",
       "<td>Sierra Leone</td>\n",
       "<td>97</td>\n",
       "</tr>\n",
       "<tr>\n",
       "<td>Tanzania</td>\n",
       "<td>71</td>\n",
       "</tr>\n",
       "<tr>\n",
       "<td>Chad</td>\n",
       "<td>46</td>\n",
       "</tr>\n",
       "<tr>\n",
       "<td>Yemen</td>\n",
       "<td>40</td>\n",
       "</tr>\n",
       "<tr>\n",
       "<td>Niger</td>\n",
       "<td>39</td>\n",
       "</tr>\n",
       "<tr>\n",
       "<td>Korea, North</td>\n",
       "<td>0</td>\n",
       "</tr>\n",
       "<tr>\n",
       "<td>Winter Olympics 2022</td>\n",
       "<td>NULL</td>\n",
       "</tr>\n",
       "<tr>\n",
       "<td>Summer Olympics 2020</td>\n",
       "<td>NULL</td>\n",
       "</tr>\n",
       "<tr>\n",
       "<td>MS Zaandam</td>\n",
       "<td>NULL</td>\n",
       "</tr>\n",
       "<tr>\n",
       "<td>Diamond Princess</td>\n",
       "<td>NULL</td>\n",
       "</tr>\n",
       "<tr>\n",
       "<td>Antarctica</td>\n",
       "<td>NULL</td>\n",
       "</tr>\n",
       "</table>\n",
       "201 rows in set (0.03 sec)"
      ],
      "text/plain": [
       "+----------------------------------+----------------+\n",
       "| Country_Region                   | Incidence_Rate |\n",
       "+----------------------------------+----------------+\n",
       "| San Marino                       | 69028          |\n",
       "+----------------------------------+----------------+\n",
       "| Austria                          | 64179          |\n",
       "+----------------------------------+----------------+\n",
       "| Slovenia                         | 63570          |\n",
       "+----------------------------------+----------------+\n",
       "| Brunei                           | 63103          |\n",
       "+----------------------------------+----------------+\n",
       "| Andorra                          | 61915          |\n",
       "+----------------------------------+----------------+\n",
       "| Iceland                          | 61153          |\n",
       "+----------------------------------+----------------+\n",
       "| Korea, South                     | 58899          |\n",
       "+----------------------------------+----------------+\n",
       "| France                           | 58315          |\n",
       "+----------------------------------+----------------+\n",
       "| Denmark                          | 57992          |\n",
       "+----------------------------------+----------------+\n",
       "| Liechtenstein                    | 55979          |\n",
       "+----------------------------------+----------------+\n",
       "| Israel                           | 55296          |\n",
       "+----------------------------------+----------------+\n",
       "| Portugal                         | 54565          |\n",
       "+----------------------------------+----------------+\n",
       "| Greece                           | 53232          |\n",
       "+----------------------------------+----------------+\n",
       "| Cyprus                           | 53228          |\n",
       "+----------------------------------+----------------+\n",
       "| Latvia                           | 51706          |\n",
       "+----------------------------------+----------------+\n",
       "| Seychelles                       | 51520          |\n",
       "+----------------------------------+----------------+\n",
       "| Switzerland                      | 50931          |\n",
       "+----------------------------------+----------------+\n",
       "| Luxembourg                       | 50278          |\n",
       "+----------------------------------+----------------+\n",
       "| Netherlands                      | 48993          |\n",
       "+----------------------------------+----------------+\n",
       "| Slovakia                         | 48957          |\n",
       "+----------------------------------+----------------+\n",
       "| Lithuania                        | 47625          |\n",
       "+----------------------------------+----------------+\n",
       "| Estonia                          | 46278          |\n",
       "+----------------------------------+----------------+\n",
       "| Montenegro                       | 45593          |\n",
       "+----------------------------------+----------------+\n",
       "| Georgia                          | 45477          |\n",
       "+----------------------------------+----------------+\n",
       "| Germany                          | 45433          |\n",
       "+----------------------------------+----------------+\n",
       "| New Zealand                      | 45237          |\n",
       "+----------------------------------+----------------+\n",
       "| Australia                        | 44365          |\n",
       "+----------------------------------+----------------+\n",
       "| Czechia                          | 42856          |\n",
       "+----------------------------------+----------------+\n",
       "| Nauru                            | 42652          |\n",
       "+----------------------------------+----------------+\n",
       "| Italy                            | 42169          |\n",
       "+----------------------------------+----------------+\n",
       "| Bahrain                          | 41164          |\n",
       "+----------------------------------+----------------+\n",
       "| Monaco                           | 40931          |\n",
       "+----------------------------------+----------------+\n",
       "| Belgium                          | 40821          |\n",
       "+----------------------------------+----------------+\n",
       "| Taiwan                           | 40046          |\n",
       "+----------------------------------+----------------+\n",
       "| Singapore                        | 37897          |\n",
       "+----------------------------------+----------------+\n",
       "| Barbados                         | 36940          |\n",
       "+----------------------------------+----------------+\n",
       "| United Kingdom                   | 36497          |\n",
       "+----------------------------------+----------------+\n",
       "| Ireland                          | 34433          |\n",
       "+----------------------------------+----------------+\n",
       "| Maldives                         | 34357          |\n",
       "+----------------------------------+----------------+\n",
       "| Palau                            | 33240          |\n",
       "+----------------------------------+----------------+\n",
       "| Croatia                          | 30876          |\n",
       "+----------------------------------+----------------+\n",
       "| US                               | 30802          |\n",
       "+----------------------------------+----------------+\n",
       "| Mongolia                         | 30743          |\n",
       "+----------------------------------+----------------+\n",
       "| Uruguay                          | 29729          |\n",
       "+----------------------------------+----------------+\n",
       "| Spain                            | 29255          |\n",
       "+----------------------------------+----------------+\n",
       "| Chile                            | 29123          |\n",
       "+----------------------------------+----------------+\n",
       "| Serbia                           | 28283          |\n",
       "+----------------------------------+----------------+\n",
       "| Norway                           | 27260          |\n",
       "+----------------------------------+----------------+\n",
       "| Marshall Islands                 | 26678          |\n",
       "+----------------------------------+----------------+\n",
       "| Malta                            | 26512          |\n",
       "+----------------------------------+----------------+\n",
       "| Finland                          | 26325          |\n",
       "+----------------------------------+----------------+\n",
       "| Sweden                           | 26080          |\n",
       "+----------------------------------+----------------+\n",
       "| Japan                            | 25803          |\n",
       "+----------------------------------+----------------+\n",
       "| Panama                           | 23864          |\n",
       "+----------------------------------+----------------+\n",
       "| Tuvalu                           | 23787          |\n",
       "+----------------------------------+----------------+\n",
       "| Costa Rica                       | 23285          |\n",
       "+----------------------------------+----------------+\n",
       "| Mauritius                        | 23164          |\n",
       "+----------------------------------+----------------+\n",
       "| Hungary                          | 22688          |\n",
       "+----------------------------------+----------------+\n",
       "| Argentina                        | 22208          |\n",
       "+----------------------------------+----------------+\n",
       "| Dominica                         | 21891          |\n",
       "+----------------------------------+----------------+\n",
       "| Turkey                           | 20207          |\n",
       "+----------------------------------+----------------+\n",
       "| Micronesia                       | 19923          |\n",
       "+----------------------------------+----------------+\n",
       "| Bulgaria                         | 18643          |\n",
       "+----------------------------------+----------------+\n",
       "| Lebanon                          | 18000          |\n",
       "+----------------------------------+----------------+\n",
       "| Belize                           | 17770          |\n",
       "+----------------------------------+----------------+\n",
       "| Brazil                           | 17523          |\n",
       "+----------------------------------+----------------+\n",
       "| Grenada                          | 17490          |\n",
       "+----------------------------------+----------------+\n",
       "| Romania                          | 17283          |\n",
       "+----------------------------------+----------------+\n",
       "| Jordan                           | 17122          |\n",
       "+----------------------------------+----------------+\n",
       "| Qatar                            | 17093          |\n",
       "+----------------------------------+----------------+\n",
       "| Poland                           | 16855          |\n",
       "+----------------------------------+----------------+\n",
       "| North Macedonia                  | 16628          |\n",
       "+----------------------------------+----------------+\n",
       "| Saint Lucia                      | 16230          |\n",
       "+----------------------------------+----------------+\n",
       "| Tonga                            | 15832          |\n",
       "+----------------------------------+----------------+\n",
       "| Kuwait                           | 15521          |\n",
       "+----------------------------------+----------------+\n",
       "| Malaysia                         | 15434          |\n",
       "+----------------------------------+----------------+\n",
       "| Kosovo                           | 15054          |\n",
       "+----------------------------------+----------------+\n",
       "| Armenia                          | 15051          |\n",
       "+----------------------------------+----------------+\n",
       "| Moldova                          | 14863          |\n",
       "+----------------------------------+----------------+\n",
       "| Russia                           | 14757          |\n",
       "+----------------------------------+----------------+\n",
       "| Botswana                         | 13999          |\n",
       "+----------------------------------+----------------+\n",
       "| Suriname                         | 13981          |\n",
       "+----------------------------------+----------------+\n",
       "| West Bank and Gaza               | 13784          |\n",
       "+----------------------------------+----------------+\n",
       "| Peru                             | 13735          |\n",
       "+----------------------------------+----------------+\n",
       "| Trinidad and Tobago              | 13426          |\n",
       "+----------------------------------+----------------+\n",
       "| Colombia                         | 13164          |\n",
       "+----------------------------------+----------------+\n",
       "| Saint Kitts and Nevis            | 12392          |\n",
       "+----------------------------------+----------------+\n",
       "| Ukraine                          | 12373          |\n",
       "+----------------------------------+----------------+\n",
       "| Bosnia and Herzegovina           | 12234          |\n",
       "+----------------------------------+----------------+\n",
       "| Canada                           | 11933          |\n",
       "+----------------------------------+----------------+\n",
       "| Vietnam                          | 11841          |\n",
       "+----------------------------------+----------------+\n",
       "| Albania                          | 11611          |\n",
       "+----------------------------------+----------------+\n",
       "| Cabo Verde                       | 11372          |\n",
       "+----------------------------------+----------------+\n",
       "| Paraguay                         | 11303          |\n",
       "+----------------------------------+----------------+\n",
       "| United Arab Emirates             | 10610          |\n",
       "+----------------------------------+----------------+\n",
       "| Belarus                          | 10519          |\n",
       "+----------------------------------+----------------+\n",
       "| Bolivia                          | 10177          |\n",
       "+----------------------------------+----------------+\n",
       "| Cuba                             | 9821           |\n",
       "+----------------------------------+----------------+\n",
       "| Tunisia                          | 9733           |\n",
       "+----------------------------------+----------------+\n",
       "| Bahamas                          | 9533           |\n",
       "+----------------------------------+----------------+\n",
       "| Antigua and Barbuda              | 9298           |\n",
       "+----------------------------------+----------------+\n",
       "| Guyana                           | 9274           |\n",
       "+----------------------------------+----------------+\n",
       "| Iran                             | 9005           |\n",
       "+----------------------------------+----------------+\n",
       "| Saint Vincent and the Grenadines | 8639           |\n",
       "+----------------------------------+----------------+\n",
       "| Samoa                            | 8202           |\n",
       "+----------------------------------+----------------+\n",
       "| Azerbaijan                       | 8165           |\n",
       "+----------------------------------+----------------+\n",
       "| Bhutan                           | 8113           |\n",
       "+----------------------------------+----------------+\n",
       "| Kazakhstan                       | 7970           |\n",
       "+----------------------------------+----------------+\n",
       "| Oman                             | 7822           |\n",
       "+----------------------------------+----------------+\n",
       "| Fiji                             | 7676           |\n",
       "+----------------------------------+----------------+\n",
       "| Libya                            | 7380           |\n",
       "+----------------------------------+----------------+\n",
       "| Guatemala                        | 6853           |\n",
       "+----------------------------------+----------------+\n",
       "| South Africa                     | 6838           |\n",
       "+----------------------------------+----------------+\n",
       "| Thailand                         | 6772           |\n",
       "+----------------------------------+----------------+\n",
       "| Namibia                          | 6719           |\n",
       "+----------------------------------+----------------+\n",
       "| Eswatini                         | 6389           |\n",
       "+----------------------------------+----------------+\n",
       "| Iraq                             | 6129           |\n",
       "+----------------------------------+----------------+\n",
       "| Dominican Republic               | 6085           |\n",
       "+----------------------------------+----------------+\n",
       "| Ecuador                          | 5958           |\n",
       "+----------------------------------+----------------+\n",
       "| Mexico                           | 5765           |\n",
       "+----------------------------------+----------------+\n",
       "| Jamaica                          | 5180           |\n",
       "+----------------------------------+----------------+\n",
       "| Honduras                         | 4752           |\n",
       "+----------------------------------+----------------+\n",
       "| Kiribati                         | 4258           |\n",
       "+----------------------------------+----------------+\n",
       "| Vanuatu                          | 4104           |\n",
       "+----------------------------------+----------------+\n",
       "| Solomon Islands                  | 3764           |\n",
       "+----------------------------------+----------------+\n",
       "| Philippines                      | 3717           |\n",
       "+----------------------------------+----------------+\n",
       "| Holy See                         | 3584           |\n",
       "+----------------------------------+----------------+\n",
       "| Morocco                          | 3446           |\n",
       "+----------------------------------+----------------+\n",
       "| Nepal                            | 3435           |\n",
       "+----------------------------------+----------------+\n",
       "| India                            | 3258           |\n",
       "+----------------------------------+----------------+\n",
       "| Kyrgyzstan                       | 3166           |\n",
       "+----------------------------------+----------------+\n",
       "| Sri Lanka                        | 3138           |\n",
       "+----------------------------------+----------------+\n",
       "| El Salvador                      | 3110           |\n",
       "+----------------------------------+----------------+\n",
       "| Laos                             | 2995           |\n",
       "+----------------------------------+----------------+\n",
       "| Sao Tome and Principe            | 2865           |\n",
       "+----------------------------------+----------------+\n",
       "| Indonesia                        | 2460           |\n",
       "+----------------------------------+----------------+\n",
       "| Saudi Arabia                     | 2378           |\n",
       "+----------------------------------+----------------+\n",
       "| Gabon                            | 2200           |\n",
       "+----------------------------------+----------------+\n",
       "| Venezuela                        | 1939           |\n",
       "+----------------------------------+----------------+\n",
       "| Zambia                           | 1853           |\n",
       "+----------------------------------+----------------+\n",
       "| Timor-Leste                      | 1775           |\n",
       "+----------------------------------+----------------+\n",
       "| Zimbabwe                         | 1760           |\n",
       "+----------------------------------+----------------+\n",
       "| Lesotho                          | 1623           |\n",
       "+----------------------------------+----------------+\n",
       "| Djibouti                         | 1588           |\n",
       "+----------------------------------+----------------+\n",
       "| Mauritania                       | 1369           |\n",
       "+----------------------------------+----------------+\n",
       "| Bangladesh                       | 1237           |\n",
       "+----------------------------------+----------------+\n",
       "| Equatorial Guinea                | 1225           |\n",
       "+----------------------------------+----------------+\n",
       "| Burma                            | 1164           |\n",
       "+----------------------------------+----------------+\n",
       "| Comoros                          | 1034           |\n",
       "+----------------------------------+----------------+\n",
       "| Rwanda                           | 1027           |\n",
       "+----------------------------------+----------------+\n",
       "| Cambodia                         | 829            |\n",
       "+----------------------------------+----------------+\n",
       "| Pakistan                         | 758            |\n",
       "+----------------------------------+----------------+\n",
       "| Uzbekistan                       | 748            |\n",
       "+----------------------------------+----------------+\n",
       "| Mozambique                       | 742            |\n",
       "+----------------------------------+----------------+\n",
       "| Kenya                            | 637            |\n",
       "+----------------------------------+----------------+\n",
       "| Algeria                          | 618            |\n",
       "+----------------------------------+----------------+\n",
       "| Ghana                            | 550            |\n",
       "+----------------------------------+----------------+\n",
       "| Afghanistan                      | 535            |\n",
       "+----------------------------------+----------------+\n",
       "| Senegal                          | 530            |\n",
       "+----------------------------------+----------------+\n",
       "| Papua New Guinea                 | 522            |\n",
       "+----------------------------------+----------------+\n",
       "| Gambia                           | 520            |\n",
       "+----------------------------------+----------------+\n",
       "| Egypt                            | 503            |\n",
       "+----------------------------------+----------------+\n",
       "| Togo                             | 475            |\n",
       "+----------------------------------+----------------+\n",
       "| Cameroon                         | 467            |\n",
       "+----------------------------------+----------------+\n",
       "| Malawi                           | 462            |\n",
       "+----------------------------------+----------------+\n",
       "| Congo (Brazzaville)              | 459            |\n",
       "+----------------------------------+----------------+\n",
       "| Guinea-Bissau                    | 454            |\n",
       "+----------------------------------+----------------+\n",
       "| Burundi                          | 448            |\n",
       "+----------------------------------+----------------+\n",
       "| Ethiopia                         | 434            |\n",
       "+----------------------------------+----------------+\n",
       "| Uganda                           | 372            |\n",
       "+----------------------------------+----------------+\n",
       "| China                            | 345            |\n",
       "+----------------------------------+----------------+\n",
       "| Cote d'Ivoire                    | 333            |\n",
       "+----------------------------------+----------------+\n",
       "| Syria                            | 328            |\n",
       "+----------------------------------+----------------+\n",
       "| Angola                           | 320            |\n",
       "+----------------------------------+----------------+\n",
       "| Central African Republic         | 318            |\n",
       "+----------------------------------+----------------+\n",
       "| Haiti                            | 298            |\n",
       "+----------------------------------+----------------+\n",
       "| Guinea                           | 291            |\n",
       "+----------------------------------+----------------+\n",
       "| Eritrea                          | 287            |\n",
       "+----------------------------------+----------------+\n",
       "| Madagascar                       | 244            |\n",
       "+----------------------------------+----------------+\n",
       "| Nicaragua                        | 235            |\n",
       "+----------------------------------+----------------+\n",
       "| Benin                            | 230            |\n",
       "+----------------------------------+----------------+\n",
       "| Tajikistan                       | 186            |\n",
       "+----------------------------------+----------------+\n",
       "| Somalia                          | 171            |\n",
       "+----------------------------------+----------------+\n",
       "| South Sudan                      | 164            |\n",
       "+----------------------------------+----------------+\n",
       "| Mali                             | 161            |\n",
       "+----------------------------------+----------------+\n",
       "| Liberia                          | 159            |\n",
       "+----------------------------------+----------------+\n",
       "| Sudan                            | 145            |\n",
       "+----------------------------------+----------------+\n",
       "| Nigeria                          | 129            |\n",
       "+----------------------------------+----------------+\n",
       "| Congo (Kinshasa)                 | 106            |\n",
       "+----------------------------------+----------------+\n",
       "| Burkina Faso                     | 105            |\n",
       "+----------------------------------+----------------+\n",
       "| Sierra Leone                     | 97             |\n",
       "+----------------------------------+----------------+\n",
       "| Tanzania                         | 71             |\n",
       "+----------------------------------+----------------+\n",
       "| Chad                             | 46             |\n",
       "+----------------------------------+----------------+\n",
       "| Yemen                            | 40             |\n",
       "+----------------------------------+----------------+\n",
       "| Niger                            | 39             |\n",
       "+----------------------------------+----------------+\n",
       "| Korea, North                     | 0              |\n",
       "+----------------------------------+----------------+\n",
       "| Winter Olympics 2022             | NULL           |\n",
       "+----------------------------------+----------------+\n",
       "| Summer Olympics 2020             | NULL           |\n",
       "+----------------------------------+----------------+\n",
       "| MS Zaandam                       | NULL           |\n",
       "+----------------------------------+----------------+\n",
       "| Diamond Princess                 | NULL           |\n",
       "+----------------------------------+----------------+\n",
       "| Antarctica                       | NULL           |\n",
       "+----------------------------------+----------------+\n",
       "201 rows in set (0.03 sec)"
      ]
     },
     "execution_count": 16,
     "metadata": {},
     "output_type": "execute_result"
    }
   ],
   "source": [
    "SELECT lookup_table.Country_Region,\n",
    "       SUM(daily_report.Confirmed)*100000 / SUM(lookup_table.Population) AS Incidence_Rate\n",
    "  FROM daily_report\n",
    "  JOIN lookup_table\n",
    "    ON daily_report.Combined_Key = lookup_table.Combined_Key\n",
    " GROUP BY lookup_table.Country_Region\n",
    " ORDER BY Incidence_Rate DESC;"
   ]
  },
  {
   "cell_type": "code",
   "execution_count": 17,
   "metadata": {
    "slideshow": {
     "slide_type": "subslide"
    }
   },
   "outputs": [],
   "source": [
    "DROP VIEW IF EXISTS incidence_rate_by_country;"
   ]
  },
  {
   "cell_type": "code",
   "execution_count": 18,
   "metadata": {},
   "outputs": [],
   "source": [
    "CREATE VIEW incidence_rate_by_country\n",
    "    AS\n",
    "SELECT lookup_table.Country_Region,\n",
    "       SUM(daily_report.Confirmed)*100000 / SUM(lookup_table.Population) AS Incidence_Rate\n",
    "  FROM daily_report\n",
    "  JOIN lookup_table\n",
    "    ON daily_report.Combined_Key = lookup_table.Combined_Key\n",
    " GROUP BY lookup_table.Country_Region\n",
    " ORDER BY Incidence_Rate DESC;"
   ]
  },
  {
   "cell_type": "markdown",
   "metadata": {
    "slideshow": {
     "slide_type": "subslide"
    }
   },
   "source": [
    "## Once a view is created, use it like a table"
   ]
  },
  {
   "cell_type": "code",
   "execution_count": 19,
   "metadata": {},
   "outputs": [
    {
     "data": {
      "text/html": [
       "<table>\n",
       "<tr>\n",
       "<th>Country_Region</th>\n",
       "<th>Incidence_Rate</th>\n",
       "</tr>\n",
       "<tr>\n",
       "<td>Taiwan</td>\n",
       "<td>40046</td>\n",
       "</tr>\n",
       "</table>\n",
       "1 row in set (0.00 sec)"
      ],
      "text/plain": [
       "+----------------+----------------+\n",
       "| Country_Region | Incidence_Rate |\n",
       "+----------------+----------------+\n",
       "| Taiwan         | 40046          |\n",
       "+----------------+----------------+\n",
       "1 row in set (0.00 sec)"
      ]
     },
     "execution_count": 19,
     "metadata": {},
     "output_type": "execute_result"
    }
   ],
   "source": [
    "SELECT *\n",
    "  FROM incidence_rate_by_country\n",
    " WHERE Country_Region = 'Taiwan';"
   ]
  },
  {
   "cell_type": "markdown",
   "metadata": {
    "slideshow": {
     "slide_type": "subslide"
    }
   },
   "source": [
    "## Using views to demonstrate different `JOIN`s"
   ]
  },
  {
   "cell_type": "code",
   "execution_count": 20,
   "metadata": {
    "slideshow": {
     "slide_type": "-"
    }
   },
   "outputs": [],
   "source": [
    "DROP VIEW IF EXISTS daily_report_tw_kr;"
   ]
  },
  {
   "cell_type": "code",
   "execution_count": 21,
   "metadata": {
    "slideshow": {
     "slide_type": "-"
    }
   },
   "outputs": [],
   "source": [
    "CREATE VIEW daily_report_tw_kr\n",
    "    AS\n",
    "SELECT *\n",
    "  FROM daily_report\n",
    " WHERE Combined_Key IN ('Taiwan', 'Korea, South');"
   ]
  },
  {
   "cell_type": "code",
   "execution_count": 22,
   "metadata": {
    "slideshow": {
     "slide_type": "subslide"
    }
   },
   "outputs": [],
   "source": [
    "DROP VIEW IF EXISTS lookup_table_tw_sg;"
   ]
  },
  {
   "cell_type": "code",
   "execution_count": 23,
   "metadata": {},
   "outputs": [],
   "source": [
    "CREATE VIEW lookup_table_tw_sg\n",
    "    AS\n",
    "SELECT *\n",
    "  FROM lookup_table\n",
    " WHERE iso2 IN ('TW', 'SG');"
   ]
  },
  {
   "cell_type": "markdown",
   "metadata": {
    "slideshow": {
     "slide_type": "subslide"
    }
   },
   "source": [
    "## `JOIN` returns rows from the left and the right table where matching values are found"
   ]
  },
  {
   "cell_type": "code",
   "execution_count": 24,
   "metadata": {},
   "outputs": [
    {
     "data": {
      "text/html": [
       "<table>\n",
       "<tr>\n",
       "<th>Combined_Key</th>\n",
       "<th>Confirmed</th>\n",
       "<th>Population</th>\n",
       "</tr>\n",
       "<tr>\n",
       "<td>Taiwan</td>\n",
       "<td>9537823</td>\n",
       "<td>23816775</td>\n",
       "</tr>\n",
       "</table>\n",
       "1 row in set (0.00 sec)"
      ],
      "text/plain": [
       "+--------------+-----------+------------+\n",
       "| Combined_Key | Confirmed | Population |\n",
       "+--------------+-----------+------------+\n",
       "| Taiwan       | 9537823   | 23816775   |\n",
       "+--------------+-----------+------------+\n",
       "1 row in set (0.00 sec)"
      ]
     },
     "execution_count": 24,
     "metadata": {},
     "output_type": "execute_result"
    }
   ],
   "source": [
    "SELECT daily_report_tw_kr.Combined_Key,\n",
    "       daily_report_tw_kr.Confirmed,\n",
    "       lookup_table_tw_sg.Population\n",
    "  FROM daily_report_tw_kr\n",
    "  JOIN lookup_table_tw_sg\n",
    "    ON daily_report_tw_kr.Combined_Key = lookup_table_tw_sg.Combined_Key;"
   ]
  },
  {
   "cell_type": "markdown",
   "metadata": {
    "slideshow": {
     "slide_type": "subslide"
    }
   },
   "source": [
    "## `LEFT JOIN` returns all rows from the left table and display blank rows from the other table if no matching values are found"
   ]
  },
  {
   "cell_type": "code",
   "execution_count": 25,
   "metadata": {},
   "outputs": [
    {
     "data": {
      "text/html": [
       "<table>\n",
       "<tr>\n",
       "<th>Combined_Key</th>\n",
       "<th>Confirmed</th>\n",
       "<th>Population</th>\n",
       "</tr>\n",
       "<tr>\n",
       "<td>Korea, South</td>\n",
       "<td>30197066</td>\n",
       "<td>NULL</td>\n",
       "</tr>\n",
       "<tr>\n",
       "<td>Taiwan</td>\n",
       "<td>9537823</td>\n",
       "<td>23816775</td>\n",
       "</tr>\n",
       "</table>\n",
       "2 rows in set (0.01 sec)"
      ],
      "text/plain": [
       "+--------------+-----------+------------+\n",
       "| Combined_Key | Confirmed | Population |\n",
       "+--------------+-----------+------------+\n",
       "| Korea, South | 30197066  | NULL       |\n",
       "+--------------+-----------+------------+\n",
       "| Taiwan       | 9537823   | 23816775   |\n",
       "+--------------+-----------+------------+\n",
       "2 rows in set (0.01 sec)"
      ]
     },
     "execution_count": 25,
     "metadata": {},
     "output_type": "execute_result"
    }
   ],
   "source": [
    "SELECT daily_report_tw_kr.Combined_Key,\n",
    "       daily_report_tw_kr.Confirmed,\n",
    "       lookup_table_tw_sg.Population\n",
    "  FROM daily_report_tw_kr\n",
    "  LEFT JOIN lookup_table_tw_sg\n",
    "    ON daily_report_tw_kr.Combined_Key = lookup_table_tw_sg.Combined_Key;"
   ]
  },
  {
   "cell_type": "markdown",
   "metadata": {
    "slideshow": {
     "slide_type": "subslide"
    }
   },
   "source": [
    "## `DROP` statement\n",
    "\n",
    "```sql\n",
    "DROP VIEW IF EXISTS view_name;\n",
    "```"
   ]
  },
  {
   "cell_type": "code",
   "execution_count": 26,
   "metadata": {
    "slideshow": {
     "slide_type": "-"
    }
   },
   "outputs": [],
   "source": [
    "DROP VIEW IF EXISTS daily_report_tw_kr;"
   ]
  },
  {
   "cell_type": "code",
   "execution_count": 27,
   "metadata": {
    "slideshow": {
     "slide_type": "-"
    }
   },
   "outputs": [],
   "source": [
    "DROP VIEW IF EXISTS lookup_table_tw_sg;"
   ]
  },
  {
   "cell_type": "markdown",
   "metadata": {
    "slideshow": {
     "slide_type": "subslide"
    }
   },
   "source": [
    "## After `DROP` statement\n",
    "\n",
    "```sql\n",
    "SELECT *\n",
    "  FROM daily_report_tw_kr;\n",
    "```\n",
    "\n",
    "```\n",
    "Error: sqlite3_statement_backend::prepare: no such table: daily_report_tw_kr while preparing \"SELECT *\n",
    "  FROM daily_report_tw_kr;\".\n",
    "```"
   ]
  },
  {
   "cell_type": "markdown",
   "metadata": {
    "slideshow": {
     "slide_type": "subslide"
    }
   },
   "source": [
    "## After `DROP` statement(Cont'd)\n",
    "\n",
    "```sql\n",
    "SELECT *\n",
    "  FROM lookup_table_tw_sg;\n",
    "```\n",
    "\n",
    "```\n",
    "Error: sqlite3_statement_backend::prepare: no such table: lookup_table_tw_sg while preparing \"SELECT *\n",
    "  FROM lookup_table_tw_sg;\".\n",
    "```"
   ]
  },
  {
   "cell_type": "markdown",
   "metadata": {
    "slideshow": {
     "slide_type": "slide"
    }
   },
   "source": [
    "## Data Manipulation with SQL"
   ]
  },
  {
   "cell_type": "markdown",
   "metadata": {
    "slideshow": {
     "slide_type": "subslide"
    }
   },
   "source": [
    "## DML(Data Manipulation Language)\n",
    "\n",
    "- `INSERT`\n",
    "- `DELETE`\n",
    "- `UPDATE`"
   ]
  },
  {
   "cell_type": "markdown",
   "metadata": {
    "slideshow": {
     "slide_type": "subslide"
    }
   },
   "source": [
    "## `INSERT` statement\n",
    "\n",
    "```sql\n",
    "INSERT INTO table_name (column_names, ...)\n",
    "VALUES (values, ...);\n",
    "```"
   ]
  },
  {
   "cell_type": "markdown",
   "metadata": {
    "slideshow": {
     "slide_type": "subslide"
    }
   },
   "source": [
    "## Before `INSERT` statement"
   ]
  },
  {
   "cell_type": "code",
   "execution_count": 28,
   "metadata": {},
   "outputs": [],
   "source": [
    "%LOAD sqlite3 db=data/demo.db timeout=2 shared_cache=true"
   ]
  },
  {
   "cell_type": "code",
   "execution_count": 29,
   "metadata": {
    "slideshow": {
     "slide_type": "-"
    }
   },
   "outputs": [],
   "source": [
    "CREATE TABLE movies (\n",
    "    id INTEGER PRIMARY KEY AUTOINCREMENT,\n",
    "    title TEXT,\n",
    "    year INTEGER,\n",
    "    rating REAL\n",
    ");"
   ]
  },
  {
   "cell_type": "code",
   "execution_count": 30,
   "metadata": {
    "slideshow": {
     "slide_type": "subslide"
    }
   },
   "outputs": [],
   "source": [
    "INSERT INTO movies (title, year, rating)\n",
    "VALUES \n",
    "    ('The Shawshank Redemption', 1994, 9.2),\n",
    "    ('The Godfather', 1972, 9.1),\n",
    "    ('The Dark Knight', 2008, 9.0),\n",
    "    ('Forrest Gump', 1994, 8.8);"
   ]
  },
  {
   "cell_type": "code",
   "execution_count": 31,
   "metadata": {
    "slideshow": {
     "slide_type": "subslide"
    }
   },
   "outputs": [
    {
     "data": {
      "text/html": [
       "<table>\n",
       "<tr>\n",
       "<th>id</th>\n",
       "<th>title</th>\n",
       "<th>year</th>\n",
       "<th>rating</th>\n",
       "</tr>\n",
       "<tr>\n",
       "<td>1</td>\n",
       "<td>The Shawshank Redemption</td>\n",
       "<td>1994</td>\n",
       "<td>9.2</td>\n",
       "</tr>\n",
       "<tr>\n",
       "<td>2</td>\n",
       "<td>The Godfather</td>\n",
       "<td>1972</td>\n",
       "<td>9.1</td>\n",
       "</tr>\n",
       "<tr>\n",
       "<td>3</td>\n",
       "<td>The Dark Knight</td>\n",
       "<td>2008</td>\n",
       "<td>9</td>\n",
       "</tr>\n",
       "<tr>\n",
       "<td>4</td>\n",
       "<td>Forrest Gump</td>\n",
       "<td>1994</td>\n",
       "<td>8.8</td>\n",
       "</tr>\n",
       "</table>\n",
       "4 rows in set (0.00 sec)"
      ],
      "text/plain": [
       "+----+--------------------------+------+--------+\n",
       "| id | title                    | year | rating |\n",
       "+----+--------------------------+------+--------+\n",
       "| 1  | The Shawshank Redemption | 1994 | 9.2    |\n",
       "+----+--------------------------+------+--------+\n",
       "| 2  | The Godfather            | 1972 | 9.1    |\n",
       "+----+--------------------------+------+--------+\n",
       "| 3  | The Dark Knight          | 2008 | 9      |\n",
       "+----+--------------------------+------+--------+\n",
       "| 4  | Forrest Gump             | 1994 | 8.8    |\n",
       "+----+--------------------------+------+--------+\n",
       "4 rows in set (0.00 sec)"
      ]
     },
     "execution_count": 31,
     "metadata": {},
     "output_type": "execute_result"
    }
   ],
   "source": [
    "SELECT *\n",
    "  FROM movies;"
   ]
  },
  {
   "cell_type": "code",
   "execution_count": 32,
   "metadata": {
    "slideshow": {
     "slide_type": "subslide"
    }
   },
   "outputs": [],
   "source": [
    "INSERT INTO movies (title, year, rating)\n",
    "VALUES ('Schindler''s List', 1993, 8.9);"
   ]
  },
  {
   "cell_type": "markdown",
   "metadata": {
    "slideshow": {
     "slide_type": "subslide"
    }
   },
   "source": [
    "## After `INSERT` statement"
   ]
  },
  {
   "cell_type": "code",
   "execution_count": 33,
   "metadata": {},
   "outputs": [
    {
     "data": {
      "text/html": [
       "<table>\n",
       "<tr>\n",
       "<th>id</th>\n",
       "<th>title</th>\n",
       "<th>year</th>\n",
       "<th>rating</th>\n",
       "</tr>\n",
       "<tr>\n",
       "<td>1</td>\n",
       "<td>The Shawshank Redemption</td>\n",
       "<td>1994</td>\n",
       "<td>9.2</td>\n",
       "</tr>\n",
       "<tr>\n",
       "<td>2</td>\n",
       "<td>The Godfather</td>\n",
       "<td>1972</td>\n",
       "<td>9.1</td>\n",
       "</tr>\n",
       "<tr>\n",
       "<td>3</td>\n",
       "<td>The Dark Knight</td>\n",
       "<td>2008</td>\n",
       "<td>9</td>\n",
       "</tr>\n",
       "<tr>\n",
       "<td>4</td>\n",
       "<td>Forrest Gump</td>\n",
       "<td>1994</td>\n",
       "<td>8.8</td>\n",
       "</tr>\n",
       "<tr>\n",
       "<td>5</td>\n",
       "<td>Schindler's List</td>\n",
       "<td>1993</td>\n",
       "<td>8.9</td>\n",
       "</tr>\n",
       "</table>\n",
       "5 rows in set (0.00 sec)"
      ],
      "text/plain": [
       "+----+--------------------------+------+--------+\n",
       "| id | title                    | year | rating |\n",
       "+----+--------------------------+------+--------+\n",
       "| 1  | The Shawshank Redemption | 1994 | 9.2    |\n",
       "+----+--------------------------+------+--------+\n",
       "| 2  | The Godfather            | 1972 | 9.1    |\n",
       "+----+--------------------------+------+--------+\n",
       "| 3  | The Dark Knight          | 2008 | 9      |\n",
       "+----+--------------------------+------+--------+\n",
       "| 4  | Forrest Gump             | 1994 | 8.8    |\n",
       "+----+--------------------------+------+--------+\n",
       "| 5  | Schindler's List         | 1993 | 8.9    |\n",
       "+----+--------------------------+------+--------+\n",
       "5 rows in set (0.00 sec)"
      ]
     },
     "execution_count": 33,
     "metadata": {},
     "output_type": "execute_result"
    }
   ],
   "source": [
    "SELECT *\n",
    "  FROM movies;"
   ]
  },
  {
   "cell_type": "markdown",
   "metadata": {
    "slideshow": {
     "slide_type": "subslide"
    }
   },
   "source": [
    "## Multiple `INSERT`s\n",
    "\n",
    "```sql\n",
    "INSERT INTO table_name (column_names, ...)\n",
    "VALUES\n",
    "(values, ...),\n",
    "(values, ...);\n",
    "```"
   ]
  },
  {
   "cell_type": "code",
   "execution_count": 34,
   "metadata": {},
   "outputs": [],
   "source": [
    "INSERT INTO movies (title, year, rating)\n",
    "VALUES\n",
    "('Fight Club', 1999, 8.7),\n",
    "('Parasite', 2019, 8.5);"
   ]
  },
  {
   "cell_type": "markdown",
   "metadata": {
    "slideshow": {
     "slide_type": "subslide"
    }
   },
   "source": [
    "## After multiple `INSERT` statements"
   ]
  },
  {
   "cell_type": "code",
   "execution_count": 35,
   "metadata": {},
   "outputs": [
    {
     "data": {
      "text/html": [
       "<table>\n",
       "<tr>\n",
       "<th>id</th>\n",
       "<th>title</th>\n",
       "<th>year</th>\n",
       "<th>rating</th>\n",
       "</tr>\n",
       "<tr>\n",
       "<td>1</td>\n",
       "<td>The Shawshank Redemption</td>\n",
       "<td>1994</td>\n",
       "<td>9.2</td>\n",
       "</tr>\n",
       "<tr>\n",
       "<td>2</td>\n",
       "<td>The Godfather</td>\n",
       "<td>1972</td>\n",
       "<td>9.1</td>\n",
       "</tr>\n",
       "<tr>\n",
       "<td>3</td>\n",
       "<td>The Dark Knight</td>\n",
       "<td>2008</td>\n",
       "<td>9</td>\n",
       "</tr>\n",
       "<tr>\n",
       "<td>4</td>\n",
       "<td>Forrest Gump</td>\n",
       "<td>1994</td>\n",
       "<td>8.8</td>\n",
       "</tr>\n",
       "<tr>\n",
       "<td>5</td>\n",
       "<td>Schindler's List</td>\n",
       "<td>1993</td>\n",
       "<td>8.9</td>\n",
       "</tr>\n",
       "<tr>\n",
       "<td>6</td>\n",
       "<td>Fight Club</td>\n",
       "<td>1999</td>\n",
       "<td>8.7</td>\n",
       "</tr>\n",
       "<tr>\n",
       "<td>7</td>\n",
       "<td>Parasite</td>\n",
       "<td>2019</td>\n",
       "<td>8.5</td>\n",
       "</tr>\n",
       "</table>\n",
       "7 rows in set (0.00 sec)"
      ],
      "text/plain": [
       "+----+--------------------------+------+--------+\n",
       "| id | title                    | year | rating |\n",
       "+----+--------------------------+------+--------+\n",
       "| 1  | The Shawshank Redemption | 1994 | 9.2    |\n",
       "+----+--------------------------+------+--------+\n",
       "| 2  | The Godfather            | 1972 | 9.1    |\n",
       "+----+--------------------------+------+--------+\n",
       "| 3  | The Dark Knight          | 2008 | 9      |\n",
       "+----+--------------------------+------+--------+\n",
       "| 4  | Forrest Gump             | 1994 | 8.8    |\n",
       "+----+--------------------------+------+--------+\n",
       "| 5  | Schindler's List         | 1993 | 8.9    |\n",
       "+----+--------------------------+------+--------+\n",
       "| 6  | Fight Club               | 1999 | 8.7    |\n",
       "+----+--------------------------+------+--------+\n",
       "| 7  | Parasite                 | 2019 | 8.5    |\n",
       "+----+--------------------------+------+--------+\n",
       "7 rows in set (0.00 sec)"
      ]
     },
     "execution_count": 35,
     "metadata": {},
     "output_type": "execute_result"
    }
   ],
   "source": [
    "SELECT *\n",
    "  FROM movies;"
   ]
  },
  {
   "cell_type": "markdown",
   "metadata": {
    "slideshow": {
     "slide_type": "subslide"
    }
   },
   "source": [
    "## `DELETE` statement\n",
    "\n",
    "```sql\n",
    "-- delete all records in a table\n",
    "DELETE FROM table_name;\n",
    "-- delete specific records in a table\n",
    "DELETE FROM table_name\n",
    " WHERE conditions;\n",
    "```"
   ]
  },
  {
   "cell_type": "code",
   "execution_count": 36,
   "metadata": {},
   "outputs": [],
   "source": [
    "DELETE FROM movies\n",
    " WHERE year < 2000;"
   ]
  },
  {
   "cell_type": "markdown",
   "metadata": {
    "slideshow": {
     "slide_type": "subslide"
    }
   },
   "source": [
    "## After `DELETE` statement"
   ]
  },
  {
   "cell_type": "code",
   "execution_count": 37,
   "metadata": {
    "slideshow": {
     "slide_type": "-"
    }
   },
   "outputs": [
    {
     "data": {
      "text/html": [
       "<table>\n",
       "<tr>\n",
       "<th>id</th>\n",
       "<th>title</th>\n",
       "<th>year</th>\n",
       "<th>rating</th>\n",
       "</tr>\n",
       "<tr>\n",
       "<td>3</td>\n",
       "<td>The Dark Knight</td>\n",
       "<td>2008</td>\n",
       "<td>9</td>\n",
       "</tr>\n",
       "<tr>\n",
       "<td>7</td>\n",
       "<td>Parasite</td>\n",
       "<td>2019</td>\n",
       "<td>8.5</td>\n",
       "</tr>\n",
       "</table>\n",
       "2 rows in set (0.00 sec)"
      ],
      "text/plain": [
       "+----+-----------------+------+--------+\n",
       "| id | title           | year | rating |\n",
       "+----+-----------------+------+--------+\n",
       "| 3  | The Dark Knight | 2008 | 9      |\n",
       "+----+-----------------+------+--------+\n",
       "| 7  | Parasite        | 2019 | 8.5    |\n",
       "+----+-----------------+------+--------+\n",
       "2 rows in set (0.00 sec)"
      ]
     },
     "execution_count": 37,
     "metadata": {},
     "output_type": "execute_result"
    }
   ],
   "source": [
    "SELECT *\n",
    "  FROM movies;"
   ]
  },
  {
   "cell_type": "markdown",
   "metadata": {
    "slideshow": {
     "slide_type": "subslide"
    }
   },
   "source": [
    "## `UPDATE` statement\n",
    "\n",
    "```sql\n",
    "UPDATE table_name\n",
    "   SET column_names = values,\n",
    "       column_names = values\n",
    " WHERE conditions;\n",
    "```"
   ]
  },
  {
   "cell_type": "code",
   "execution_count": 38,
   "metadata": {
    "slideshow": {
     "slide_type": "subslide"
    }
   },
   "outputs": [],
   "source": [
    "UPDATE movies\n",
    "   SET title = 'Batman Trilogy: The Dark Knight'\n",
    " WHERE year = 2008;"
   ]
  },
  {
   "cell_type": "markdown",
   "metadata": {
    "slideshow": {
     "slide_type": "subslide"
    }
   },
   "source": [
    "## After `UPDATE` statement"
   ]
  },
  {
   "cell_type": "code",
   "execution_count": 39,
   "metadata": {},
   "outputs": [
    {
     "data": {
      "text/html": [
       "<table>\n",
       "<tr>\n",
       "<th>id</th>\n",
       "<th>title</th>\n",
       "<th>year</th>\n",
       "<th>rating</th>\n",
       "</tr>\n",
       "<tr>\n",
       "<td>3</td>\n",
       "<td>Batman Trilogy: The Dark Knight</td>\n",
       "<td>2008</td>\n",
       "<td>9</td>\n",
       "</tr>\n",
       "<tr>\n",
       "<td>7</td>\n",
       "<td>Parasite</td>\n",
       "<td>2019</td>\n",
       "<td>8.5</td>\n",
       "</tr>\n",
       "</table>\n",
       "2 rows in set (0.00 sec)"
      ],
      "text/plain": [
       "+----+---------------------------------+------+--------+\n",
       "| id | title                           | year | rating |\n",
       "+----+---------------------------------+------+--------+\n",
       "| 3  | Batman Trilogy: The Dark Knight | 2008 | 9      |\n",
       "+----+---------------------------------+------+--------+\n",
       "| 7  | Parasite                        | 2019 | 8.5    |\n",
       "+----+---------------------------------+------+--------+\n",
       "2 rows in set (0.00 sec)"
      ]
     },
     "execution_count": 39,
     "metadata": {},
     "output_type": "execute_result"
    }
   ],
   "source": [
    "SELECT *\n",
    "  FROM movies;"
   ]
  },
  {
   "cell_type": "markdown",
   "metadata": {
    "slideshow": {
     "slide_type": "slide"
    }
   },
   "source": [
    "## The `covid19.db` database"
   ]
  },
  {
   "cell_type": "markdown",
   "metadata": {
    "slideshow": {
     "slide_type": "subslide"
    }
   },
   "source": [
    "## Data sources\n",
    "\n",
    "- `lookup_table`: <https://raw.githubusercontent.com/CSSEGISandData/COVID-19/master/csse_covid_19_data/UID_ISO_FIPS_LookUp_Table.csv>\n",
    "- `daily_report`: <https://raw.githubusercontent.com/CSSEGISandData/COVID-19/master/csse_covid_19_data/csse_covid_19_daily_reports>\n",
    "- `time_series`\n",
    "    - Confirmed: <https://raw.githubusercontent.com/CSSEGISandData/COVID-19/master/csse_covid_19_data/csse_covid_19_time_series/time_series_covid19_confirmed_global.csv>\n",
    "    - Deaths: <https://raw.githubusercontent.com/CSSEGISandData/COVID-19/master/csse_covid_19_data/csse_covid_19_time_series/time_series_covid19_deaths_global.csv>"
   ]
  },
  {
   "cell_type": "markdown",
   "metadata": {
    "slideshow": {
     "slide_type": "subslide"
    }
   },
   "source": [
    "## The ETL steps\n",
    "\n",
    "1. Extract.\n",
    "2. Transform.\n",
    "3. Load.\n",
    "\n",
    "Source: <https://nbviewer.org/github/datainpoint/classroom-data-viz-with-modern-ds-2023/blob/main/get_covid19_data.ipynb>"
   ]
  },
  {
   "cell_type": "markdown",
   "metadata": {
    "slideshow": {
     "slide_type": "subslide"
    }
   },
   "source": [
    "## Extract and Transform\n",
    "\n",
    "```python\n",
    "covid19 = Covid19()\n",
    "lookup_table = covid19.get_lookup_table()\n",
    "daily_report = covid19.get_daily_report('01-31-2023')\n",
    "time_series = covid19.get_time_series()\n",
    "```"
   ]
  },
  {
   "cell_type": "markdown",
   "metadata": {
    "slideshow": {
     "slide_type": "subslide"
    }
   },
   "source": [
    "## Load\n",
    "\n",
    "```python\n",
    "con = sqlite3.connect('covid19.db')\n",
    "lookup_table.to_sql('lookup_table', con, if_exists='replace', index=False)\n",
    "daily_report.to_sql('daily_report', con, if_exists='replace', index=False)\n",
    "time_series.to_sql('time_series', con, if_exists='replace', index=False)\n",
    "cur = con.cursor()\n",
    "```"
   ]
  },
  {
   "cell_type": "markdown",
   "metadata": {
    "slideshow": {
     "slide_type": "subslide"
    }
   },
   "source": [
    "## Load: `lookup_table`\n",
    "\n",
    "```sql\n",
    "PRAGMA foreign_keys=off;\n",
    "BEGIN TRANSACTION;\n",
    "ALTER TABLE lookup_table RENAME TO lookup_table_no_keys;\n",
    "CREATE TABLE lookup_table (\n",
    "    UID INTEGER,\n",
    "    Combined_Key TEXT,\n",
    "    iso2 TEXT,\n",
    "    iso3 TEXT,\n",
    "    Country_Region TEXT,\n",
    "    Province_State TEXT,\n",
    "    Admin2 TEXT,\n",
    "    Lat REAL,\n",
    "    Long_ REAL,\n",
    "    Population INTEGER,\n",
    "    PRIMARY KEY (UID)\n",
    ");\n",
    "INSERT INTO lookup_table SELECT * FROM lookup_table_no_keys;\n",
    "COMMIT;\n",
    "PRAGMA foreign_keys=on;\n",
    "```"
   ]
  },
  {
   "cell_type": "markdown",
   "metadata": {
    "slideshow": {
     "slide_type": "subslide"
    }
   },
   "source": [
    "## Load: `daily_report`\n",
    "\n",
    "```sql\n",
    "PRAGMA foreign_keys=off;\n",
    "BEGIN TRANSACTION;\n",
    "ALTER TABLE daily_report RENAME TO daily_report_no_keys;\n",
    "CREATE TABLE daily_report (\n",
    "    Combined_Key TEXT,\n",
    "    Last_Update TEXT,\n",
    "    Confirmed INTEGER,\n",
    "    Deaths INTEGER,\n",
    "    PRIMARY KEY (Combined_Key),\n",
    "    FOREIGN KEY (Combined_Key) REFERENCES lookup_table (Combined_Key) \n",
    "            ON DELETE CASCADE ON UPDATE NO ACTION\n",
    ");\n",
    "INSERT INTO daily_report SELECT * FROM daily_report_no_keys;\n",
    "COMMIT;\n",
    "PRAGMA foreign_keys=on;\n",
    "```"
   ]
  },
  {
   "cell_type": "markdown",
   "metadata": {
    "slideshow": {
     "slide_type": "subslide"
    }
   },
   "source": [
    "## Load: `time_series`\n",
    "\n",
    "```sql\n",
    "PRAGMA foreign_keys=off;\n",
    "BEGIN TRANSACTION;\n",
    "ALTER TABLE time_series RENAME TO time_series_no_keys;\n",
    "CREATE TABLE time_series (\n",
    "    Date TEXT,\n",
    "    Country_Region TEXT,\n",
    "    Confirmed INTEGER,\n",
    "    Deaths INTEGER,\n",
    "    Daily_Cases INTEGER,\n",
    "    Daily_Deaths INTEGER,\n",
    "    PRIMARY KEY (Date, Country_Region),\n",
    "    FOREIGN KEY (Country_Region) REFERENCES lookup_table (Country_Region) \n",
    "            ON DELETE CASCADE ON UPDATE NO ACTION\n",
    ");\n",
    "INSERT INTO time_series SELECT * FROM time_series_no_keys;\n",
    "COMMIT;\n",
    "PRAGMA foreign_keys=on;\n",
    "```"
   ]
  },
  {
   "cell_type": "markdown",
   "metadata": {
    "slideshow": {
     "slide_type": "subslide"
    }
   },
   "source": [
    "## Load(Cont'd)\n",
    "\n",
    "```sql\n",
    "DROP TABLE lookup_table_no_keys;\n",
    "DROP TABLE daily_report_no_keys;\n",
    "DROP TABLE time_series_no_keys;\n",
    "```"
   ]
  },
  {
   "cell_type": "markdown",
   "metadata": {
    "slideshow": {
     "slide_type": "subslide"
    }
   },
   "source": [
    "## ER diagram\n",
    "\n",
    "> An entity–relationship model (or ER model) describes interrelated things of interest in a specific domain of knowledge. A basic ER model is composed of entity types (which classify the things of interest) and specifies relationships that can exist between entities (instances of those entity types).\n",
    "\n",
    "Source: <https://en.wikipedia.org/wiki/Entity%E2%80%93relationship_model>"
   ]
  },
  {
   "cell_type": "markdown",
   "metadata": {
    "slideshow": {
     "slide_type": "subslide"
    }
   },
   "source": [
    "## ER diagram of `covid19.db`\n",
    "\n",
    "![](https://i.imgur.com/FuQXsEj.png)"
   ]
  }
 ],
 "metadata": {
  "celltoolbar": "Slideshow",
  "kernelspec": {
   "display_name": "xsql",
   "language": "sqlite",
   "name": "xsql"
  },
  "language_info": {
   "codemirror_mode": "sql",
   "file_extension": "",
   "mimetype": "",
   "name": "mysql",
   "version": "0.1.5"
  }
 },
 "nbformat": 4,
 "nbformat_minor": 4
}
