{
 "cells": [
  {
   "cell_type": "markdown",
   "metadata": {
    "slideshow": {
     "slide_type": "slide"
    }
   },
   "source": [
    "# Data Visualization with Modern Data Science\n",
    "\n",
    "> Data Wrangling with Pandas\n",
    "\n",
    "Yao-Jen Kuo <yaojenkuo@ntu.edu.tw> from [DATAINPOINT](https://www.datainpoint.com/)"
   ]
  },
  {
   "cell_type": "code",
   "execution_count": 1,
   "metadata": {
    "slideshow": {
     "slide_type": "subslide"
    }
   },
   "outputs": [],
   "source": [
    "import re\n",
    "import pandas as pd"
   ]
  },
  {
   "cell_type": "markdown",
   "metadata": {
    "slideshow": {
     "slide_type": "slide"
    }
   },
   "source": [
    "## Basic attributes and methods"
   ]
  },
  {
   "cell_type": "code",
   "execution_count": 2,
   "metadata": {
    "slideshow": {
     "slide_type": "subslide"
    }
   },
   "outputs": [
    {
     "data": {
      "text/plain": [
       "pandas.core.frame.DataFrame"
      ]
     },
     "execution_count": 2,
     "metadata": {},
     "output_type": "execute_result"
    }
   ],
   "source": [
    "csv_url = \"https://raw.githubusercontent.com/CSSEGISandData/COVID-19/master/csse_covid_19_data/csse_covid_19_daily_reports/02-28-2023.csv\"\n",
    "daily_report = pd.read_csv(csv_url)\n",
    "type(daily_report)"
   ]
  },
  {
   "cell_type": "markdown",
   "metadata": {
    "slideshow": {
     "slide_type": "subslide"
    }
   },
   "source": [
    "## Basic attributes of a `DataFrame` object\n",
    "\n",
    "- `shape`\n",
    "- `dtypes`\n",
    "- `index`\n",
    "- `columns`"
   ]
  },
  {
   "cell_type": "code",
   "execution_count": 3,
   "metadata": {
    "slideshow": {
     "slide_type": "subslide"
    }
   },
   "outputs": [
    {
     "name": "stdout",
     "output_type": "stream",
     "text": [
      "(4016, 14)\n",
      "FIPS                   float64\n",
      "Admin2                  object\n",
      "Province_State          object\n",
      "Country_Region          object\n",
      "Last_Update             object\n",
      "Lat                    float64\n",
      "Long_                  float64\n",
      "Confirmed                int64\n",
      "Deaths                   int64\n",
      "Recovered              float64\n",
      "Active                 float64\n",
      "Combined_Key            object\n",
      "Incident_Rate          float64\n",
      "Case_Fatality_Ratio    float64\n",
      "dtype: object\n",
      "RangeIndex(start=0, stop=4016, step=1)\n",
      "Index(['FIPS', 'Admin2', 'Province_State', 'Country_Region', 'Last_Update',\n",
      "       'Lat', 'Long_', 'Confirmed', 'Deaths', 'Recovered', 'Active',\n",
      "       'Combined_Key', 'Incident_Rate', 'Case_Fatality_Ratio'],\n",
      "      dtype='object')\n"
     ]
    }
   ],
   "source": [
    "print(daily_report.shape)\n",
    "print(daily_report.dtypes)\n",
    "print(daily_report.index)\n",
    "print(daily_report.columns)"
   ]
  },
  {
   "cell_type": "markdown",
   "metadata": {
    "slideshow": {
     "slide_type": "subslide"
    }
   },
   "source": [
    "## Basic methods of a `DataFrame` object\n",
    "\n",
    "- `head(n)`\n",
    "- `tail(n)`\n",
    "- `describe()`\n",
    "- `info()`\n",
    "- `set_index()`\n",
    "- `reset_index()`"
   ]
  },
  {
   "cell_type": "markdown",
   "metadata": {
    "slideshow": {
     "slide_type": "subslide"
    }
   },
   "source": [
    "## `head(n)` returns the top n observations with header"
   ]
  },
  {
   "cell_type": "code",
   "execution_count": 4,
   "metadata": {
    "slideshow": {
     "slide_type": "-"
    }
   },
   "outputs": [
    {
     "data": {
      "text/html": [
       "<div>\n",
       "<style scoped>\n",
       "    .dataframe tbody tr th:only-of-type {\n",
       "        vertical-align: middle;\n",
       "    }\n",
       "\n",
       "    .dataframe tbody tr th {\n",
       "        vertical-align: top;\n",
       "    }\n",
       "\n",
       "    .dataframe thead th {\n",
       "        text-align: right;\n",
       "    }\n",
       "</style>\n",
       "<table border=\"1\" class=\"dataframe\">\n",
       "  <thead>\n",
       "    <tr style=\"text-align: right;\">\n",
       "      <th></th>\n",
       "      <th>FIPS</th>\n",
       "      <th>Admin2</th>\n",
       "      <th>Province_State</th>\n",
       "      <th>Country_Region</th>\n",
       "      <th>Last_Update</th>\n",
       "      <th>Lat</th>\n",
       "      <th>Long_</th>\n",
       "      <th>Confirmed</th>\n",
       "      <th>Deaths</th>\n",
       "      <th>Recovered</th>\n",
       "      <th>Active</th>\n",
       "      <th>Combined_Key</th>\n",
       "      <th>Incident_Rate</th>\n",
       "      <th>Case_Fatality_Ratio</th>\n",
       "    </tr>\n",
       "  </thead>\n",
       "  <tbody>\n",
       "    <tr>\n",
       "      <th>0</th>\n",
       "      <td>NaN</td>\n",
       "      <td>NaN</td>\n",
       "      <td>NaN</td>\n",
       "      <td>Afghanistan</td>\n",
       "      <td>2023-03-01 04:21:02</td>\n",
       "      <td>33.93911</td>\n",
       "      <td>67.709953</td>\n",
       "      <td>209322</td>\n",
       "      <td>7896</td>\n",
       "      <td>NaN</td>\n",
       "      <td>NaN</td>\n",
       "      <td>Afghanistan</td>\n",
       "      <td>537.711073</td>\n",
       "      <td>3.772179</td>\n",
       "    </tr>\n",
       "    <tr>\n",
       "      <th>1</th>\n",
       "      <td>NaN</td>\n",
       "      <td>NaN</td>\n",
       "      <td>NaN</td>\n",
       "      <td>Albania</td>\n",
       "      <td>2023-03-01 04:21:02</td>\n",
       "      <td>41.15330</td>\n",
       "      <td>20.168300</td>\n",
       "      <td>334391</td>\n",
       "      <td>3598</td>\n",
       "      <td>NaN</td>\n",
       "      <td>NaN</td>\n",
       "      <td>Albania</td>\n",
       "      <td>11619.674752</td>\n",
       "      <td>1.075986</td>\n",
       "    </tr>\n",
       "    <tr>\n",
       "      <th>2</th>\n",
       "      <td>NaN</td>\n",
       "      <td>NaN</td>\n",
       "      <td>NaN</td>\n",
       "      <td>Algeria</td>\n",
       "      <td>2023-03-01 04:21:02</td>\n",
       "      <td>28.03390</td>\n",
       "      <td>1.659600</td>\n",
       "      <td>271441</td>\n",
       "      <td>6881</td>\n",
       "      <td>NaN</td>\n",
       "      <td>NaN</td>\n",
       "      <td>Algeria</td>\n",
       "      <td>619.006941</td>\n",
       "      <td>2.534989</td>\n",
       "    </tr>\n",
       "    <tr>\n",
       "      <th>3</th>\n",
       "      <td>NaN</td>\n",
       "      <td>NaN</td>\n",
       "      <td>NaN</td>\n",
       "      <td>Andorra</td>\n",
       "      <td>2023-03-01 04:21:02</td>\n",
       "      <td>42.50630</td>\n",
       "      <td>1.521800</td>\n",
       "      <td>47866</td>\n",
       "      <td>165</td>\n",
       "      <td>NaN</td>\n",
       "      <td>NaN</td>\n",
       "      <td>Andorra</td>\n",
       "      <td>61950.430337</td>\n",
       "      <td>0.344712</td>\n",
       "    </tr>\n",
       "    <tr>\n",
       "      <th>4</th>\n",
       "      <td>NaN</td>\n",
       "      <td>NaN</td>\n",
       "      <td>NaN</td>\n",
       "      <td>Angola</td>\n",
       "      <td>2023-03-01 04:21:02</td>\n",
       "      <td>-11.20270</td>\n",
       "      <td>17.873900</td>\n",
       "      <td>105255</td>\n",
       "      <td>1933</td>\n",
       "      <td>NaN</td>\n",
       "      <td>NaN</td>\n",
       "      <td>Angola</td>\n",
       "      <td>320.252363</td>\n",
       "      <td>1.836492</td>\n",
       "    </tr>\n",
       "  </tbody>\n",
       "</table>\n",
       "</div>"
      ],
      "text/plain": [
       "   FIPS Admin2 Province_State Country_Region          Last_Update       Lat  \\\n",
       "0   NaN    NaN            NaN    Afghanistan  2023-03-01 04:21:02  33.93911   \n",
       "1   NaN    NaN            NaN        Albania  2023-03-01 04:21:02  41.15330   \n",
       "2   NaN    NaN            NaN        Algeria  2023-03-01 04:21:02  28.03390   \n",
       "3   NaN    NaN            NaN        Andorra  2023-03-01 04:21:02  42.50630   \n",
       "4   NaN    NaN            NaN         Angola  2023-03-01 04:21:02 -11.20270   \n",
       "\n",
       "       Long_  Confirmed  Deaths  Recovered  Active Combined_Key  \\\n",
       "0  67.709953     209322    7896        NaN     NaN  Afghanistan   \n",
       "1  20.168300     334391    3598        NaN     NaN      Albania   \n",
       "2   1.659600     271441    6881        NaN     NaN      Algeria   \n",
       "3   1.521800      47866     165        NaN     NaN      Andorra   \n",
       "4  17.873900     105255    1933        NaN     NaN       Angola   \n",
       "\n",
       "   Incident_Rate  Case_Fatality_Ratio  \n",
       "0     537.711073             3.772179  \n",
       "1   11619.674752             1.075986  \n",
       "2     619.006941             2.534989  \n",
       "3   61950.430337             0.344712  \n",
       "4     320.252363             1.836492  "
      ]
     },
     "execution_count": 4,
     "metadata": {},
     "output_type": "execute_result"
    }
   ],
   "source": [
    "daily_report.head() # n is default to 5"
   ]
  },
  {
   "cell_type": "markdown",
   "metadata": {
    "slideshow": {
     "slide_type": "subslide"
    }
   },
   "source": [
    "## `tail(n)` returns the bottom n observations with header"
   ]
  },
  {
   "cell_type": "code",
   "execution_count": 5,
   "metadata": {},
   "outputs": [
    {
     "data": {
      "text/html": [
       "<div>\n",
       "<style scoped>\n",
       "    .dataframe tbody tr th:only-of-type {\n",
       "        vertical-align: middle;\n",
       "    }\n",
       "\n",
       "    .dataframe tbody tr th {\n",
       "        vertical-align: top;\n",
       "    }\n",
       "\n",
       "    .dataframe thead th {\n",
       "        text-align: right;\n",
       "    }\n",
       "</style>\n",
       "<table border=\"1\" class=\"dataframe\">\n",
       "  <thead>\n",
       "    <tr style=\"text-align: right;\">\n",
       "      <th></th>\n",
       "      <th>FIPS</th>\n",
       "      <th>Admin2</th>\n",
       "      <th>Province_State</th>\n",
       "      <th>Country_Region</th>\n",
       "      <th>Last_Update</th>\n",
       "      <th>Lat</th>\n",
       "      <th>Long_</th>\n",
       "      <th>Confirmed</th>\n",
       "      <th>Deaths</th>\n",
       "      <th>Recovered</th>\n",
       "      <th>Active</th>\n",
       "      <th>Combined_Key</th>\n",
       "      <th>Incident_Rate</th>\n",
       "      <th>Case_Fatality_Ratio</th>\n",
       "    </tr>\n",
       "  </thead>\n",
       "  <tbody>\n",
       "    <tr>\n",
       "      <th>4013</th>\n",
       "      <td>NaN</td>\n",
       "      <td>NaN</td>\n",
       "      <td>NaN</td>\n",
       "      <td>Yemen</td>\n",
       "      <td>2023-03-01 04:21:02</td>\n",
       "      <td>15.552727</td>\n",
       "      <td>48.516388</td>\n",
       "      <td>11945</td>\n",
       "      <td>2159</td>\n",
       "      <td>NaN</td>\n",
       "      <td>NaN</td>\n",
       "      <td>Yemen</td>\n",
       "      <td>40.048994</td>\n",
       "      <td>18.074508</td>\n",
       "    </tr>\n",
       "    <tr>\n",
       "      <th>4014</th>\n",
       "      <td>NaN</td>\n",
       "      <td>NaN</td>\n",
       "      <td>NaN</td>\n",
       "      <td>Zambia</td>\n",
       "      <td>2023-03-01 04:21:02</td>\n",
       "      <td>-13.133897</td>\n",
       "      <td>27.849332</td>\n",
       "      <td>343012</td>\n",
       "      <td>4057</td>\n",
       "      <td>NaN</td>\n",
       "      <td>NaN</td>\n",
       "      <td>Zambia</td>\n",
       "      <td>1865.822568</td>\n",
       "      <td>1.182757</td>\n",
       "    </tr>\n",
       "    <tr>\n",
       "      <th>4015</th>\n",
       "      <td>NaN</td>\n",
       "      <td>NaN</td>\n",
       "      <td>NaN</td>\n",
       "      <td>Zimbabwe</td>\n",
       "      <td>2023-03-01 04:21:02</td>\n",
       "      <td>-19.015438</td>\n",
       "      <td>29.154857</td>\n",
       "      <td>263921</td>\n",
       "      <td>5663</td>\n",
       "      <td>NaN</td>\n",
       "      <td>NaN</td>\n",
       "      <td>Zimbabwe</td>\n",
       "      <td>1775.700035</td>\n",
       "      <td>2.145718</td>\n",
       "    </tr>\n",
       "  </tbody>\n",
       "</table>\n",
       "</div>"
      ],
      "text/plain": [
       "      FIPS Admin2 Province_State Country_Region          Last_Update  \\\n",
       "4013   NaN    NaN            NaN          Yemen  2023-03-01 04:21:02   \n",
       "4014   NaN    NaN            NaN         Zambia  2023-03-01 04:21:02   \n",
       "4015   NaN    NaN            NaN       Zimbabwe  2023-03-01 04:21:02   \n",
       "\n",
       "            Lat      Long_  Confirmed  Deaths  Recovered  Active Combined_Key  \\\n",
       "4013  15.552727  48.516388      11945    2159        NaN     NaN        Yemen   \n",
       "4014 -13.133897  27.849332     343012    4057        NaN     NaN       Zambia   \n",
       "4015 -19.015438  29.154857     263921    5663        NaN     NaN     Zimbabwe   \n",
       "\n",
       "      Incident_Rate  Case_Fatality_Ratio  \n",
       "4013      40.048994            18.074508  \n",
       "4014    1865.822568             1.182757  \n",
       "4015    1775.700035             2.145718  "
      ]
     },
     "execution_count": 5,
     "metadata": {},
     "output_type": "execute_result"
    }
   ],
   "source": [
    "daily_report.tail(3)"
   ]
  },
  {
   "cell_type": "markdown",
   "metadata": {
    "slideshow": {
     "slide_type": "subslide"
    }
   },
   "source": [
    "## `describe()` returns the descriptive summary for numeric columns"
   ]
  },
  {
   "cell_type": "code",
   "execution_count": 6,
   "metadata": {
    "slideshow": {
     "slide_type": "-"
    }
   },
   "outputs": [
    {
     "data": {
      "text/html": [
       "<div>\n",
       "<style scoped>\n",
       "    .dataframe tbody tr th:only-of-type {\n",
       "        vertical-align: middle;\n",
       "    }\n",
       "\n",
       "    .dataframe tbody tr th {\n",
       "        vertical-align: top;\n",
       "    }\n",
       "\n",
       "    .dataframe thead th {\n",
       "        text-align: right;\n",
       "    }\n",
       "</style>\n",
       "<table border=\"1\" class=\"dataframe\">\n",
       "  <thead>\n",
       "    <tr style=\"text-align: right;\">\n",
       "      <th></th>\n",
       "      <th>FIPS</th>\n",
       "      <th>Lat</th>\n",
       "      <th>Long_</th>\n",
       "      <th>Confirmed</th>\n",
       "      <th>Deaths</th>\n",
       "      <th>Recovered</th>\n",
       "      <th>Active</th>\n",
       "      <th>Incident_Rate</th>\n",
       "      <th>Case_Fatality_Ratio</th>\n",
       "    </tr>\n",
       "  </thead>\n",
       "  <tbody>\n",
       "    <tr>\n",
       "      <th>count</th>\n",
       "      <td>3268.000000</td>\n",
       "      <td>3925.000000</td>\n",
       "      <td>3925.000000</td>\n",
       "      <td>4.016000e+03</td>\n",
       "      <td>4016.000000</td>\n",
       "      <td>0.0</td>\n",
       "      <td>0.0</td>\n",
       "      <td>3922.000000</td>\n",
       "      <td>3975.000000</td>\n",
       "    </tr>\n",
       "    <tr>\n",
       "      <th>mean</th>\n",
       "      <td>32405.943390</td>\n",
       "      <td>35.736183</td>\n",
       "      <td>-71.109728</td>\n",
       "      <td>1.681579e+05</td>\n",
       "      <td>1711.325697</td>\n",
       "      <td>NaN</td>\n",
       "      <td>NaN</td>\n",
       "      <td>28441.653173</td>\n",
       "      <td>3.890604</td>\n",
       "    </tr>\n",
       "    <tr>\n",
       "      <th>std</th>\n",
       "      <td>18056.381177</td>\n",
       "      <td>13.441327</td>\n",
       "      <td>55.361480</td>\n",
       "      <td>1.065583e+06</td>\n",
       "      <td>8861.008507</td>\n",
       "      <td>NaN</td>\n",
       "      <td>NaN</td>\n",
       "      <td>10729.140265</td>\n",
       "      <td>125.500764</td>\n",
       "    </tr>\n",
       "    <tr>\n",
       "      <th>min</th>\n",
       "      <td>60.000000</td>\n",
       "      <td>-71.949900</td>\n",
       "      <td>-178.116500</td>\n",
       "      <td>0.000000e+00</td>\n",
       "      <td>0.000000</td>\n",
       "      <td>NaN</td>\n",
       "      <td>NaN</td>\n",
       "      <td>0.000000</td>\n",
       "      <td>0.000000</td>\n",
       "    </tr>\n",
       "    <tr>\n",
       "      <th>25%</th>\n",
       "      <td>19048.500000</td>\n",
       "      <td>33.191535</td>\n",
       "      <td>-96.595639</td>\n",
       "      <td>3.811250e+03</td>\n",
       "      <td>47.750000</td>\n",
       "      <td>NaN</td>\n",
       "      <td>NaN</td>\n",
       "      <td>24063.245882</td>\n",
       "      <td>0.891036</td>\n",
       "    </tr>\n",
       "    <tr>\n",
       "      <th>50%</th>\n",
       "      <td>30068.000000</td>\n",
       "      <td>37.895700</td>\n",
       "      <td>-86.717326</td>\n",
       "      <td>1.078150e+04</td>\n",
       "      <td>134.000000</td>\n",
       "      <td>NaN</td>\n",
       "      <td>NaN</td>\n",
       "      <td>29401.517006</td>\n",
       "      <td>1.282720</td>\n",
       "    </tr>\n",
       "    <tr>\n",
       "      <th>75%</th>\n",
       "      <td>47041.500000</td>\n",
       "      <td>42.176955</td>\n",
       "      <td>-77.357900</td>\n",
       "      <td>4.676800e+04</td>\n",
       "      <td>480.000000</td>\n",
       "      <td>NaN</td>\n",
       "      <td>NaN</td>\n",
       "      <td>34080.063562</td>\n",
       "      <td>1.734045</td>\n",
       "    </tr>\n",
       "    <tr>\n",
       "      <th>max</th>\n",
       "      <td>99999.000000</td>\n",
       "      <td>71.706900</td>\n",
       "      <td>178.065000</td>\n",
       "      <td>3.857927e+07</td>\n",
       "      <td>186138.000000</td>\n",
       "      <td>NaN</td>\n",
       "      <td>NaN</td>\n",
       "      <td>236094.674556</td>\n",
       "      <td>7761.538462</td>\n",
       "    </tr>\n",
       "  </tbody>\n",
       "</table>\n",
       "</div>"
      ],
      "text/plain": [
       "               FIPS          Lat        Long_     Confirmed         Deaths  \\\n",
       "count   3268.000000  3925.000000  3925.000000  4.016000e+03    4016.000000   \n",
       "mean   32405.943390    35.736183   -71.109728  1.681579e+05    1711.325697   \n",
       "std    18056.381177    13.441327    55.361480  1.065583e+06    8861.008507   \n",
       "min       60.000000   -71.949900  -178.116500  0.000000e+00       0.000000   \n",
       "25%    19048.500000    33.191535   -96.595639  3.811250e+03      47.750000   \n",
       "50%    30068.000000    37.895700   -86.717326  1.078150e+04     134.000000   \n",
       "75%    47041.500000    42.176955   -77.357900  4.676800e+04     480.000000   \n",
       "max    99999.000000    71.706900   178.065000  3.857927e+07  186138.000000   \n",
       "\n",
       "       Recovered  Active  Incident_Rate  Case_Fatality_Ratio  \n",
       "count        0.0     0.0    3922.000000          3975.000000  \n",
       "mean         NaN     NaN   28441.653173             3.890604  \n",
       "std          NaN     NaN   10729.140265           125.500764  \n",
       "min          NaN     NaN       0.000000             0.000000  \n",
       "25%          NaN     NaN   24063.245882             0.891036  \n",
       "50%          NaN     NaN   29401.517006             1.282720  \n",
       "75%          NaN     NaN   34080.063562             1.734045  \n",
       "max          NaN     NaN  236094.674556          7761.538462  "
      ]
     },
     "execution_count": 6,
     "metadata": {},
     "output_type": "execute_result"
    }
   ],
   "source": [
    "daily_report.describe()"
   ]
  },
  {
   "cell_type": "markdown",
   "metadata": {
    "slideshow": {
     "slide_type": "subslide"
    }
   },
   "source": [
    "## `info()` returns the concise information of the dataframe"
   ]
  },
  {
   "cell_type": "code",
   "execution_count": 7,
   "metadata": {
    "slideshow": {
     "slide_type": "-"
    }
   },
   "outputs": [
    {
     "name": "stdout",
     "output_type": "stream",
     "text": [
      "<class 'pandas.core.frame.DataFrame'>\n",
      "RangeIndex: 4016 entries, 0 to 4015\n",
      "Data columns (total 14 columns):\n",
      " #   Column               Non-Null Count  Dtype  \n",
      "---  ------               --------------  -----  \n",
      " 0   FIPS                 3268 non-null   float64\n",
      " 1   Admin2               3272 non-null   object \n",
      " 2   Province_State       3837 non-null   object \n",
      " 3   Country_Region       4016 non-null   object \n",
      " 4   Last_Update          4016 non-null   object \n",
      " 5   Lat                  3925 non-null   float64\n",
      " 6   Long_                3925 non-null   float64\n",
      " 7   Confirmed            4016 non-null   int64  \n",
      " 8   Deaths               4016 non-null   int64  \n",
      " 9   Recovered            0 non-null      float64\n",
      " 10  Active               0 non-null      float64\n",
      " 11  Combined_Key         4016 non-null   object \n",
      " 12  Incident_Rate        3922 non-null   float64\n",
      " 13  Case_Fatality_Ratio  3975 non-null   float64\n",
      "dtypes: float64(7), int64(2), object(5)\n",
      "memory usage: 439.4+ KB\n"
     ]
    }
   ],
   "source": [
    "daily_report.info()"
   ]
  },
  {
   "cell_type": "markdown",
   "metadata": {
    "slideshow": {
     "slide_type": "subslide"
    }
   },
   "source": [
    "## `set_index()` replaces current `Index` with a specific variable"
   ]
  },
  {
   "cell_type": "code",
   "execution_count": 8,
   "metadata": {},
   "outputs": [
    {
     "data": {
      "text/html": [
       "<div>\n",
       "<style scoped>\n",
       "    .dataframe tbody tr th:only-of-type {\n",
       "        vertical-align: middle;\n",
       "    }\n",
       "\n",
       "    .dataframe tbody tr th {\n",
       "        vertical-align: top;\n",
       "    }\n",
       "\n",
       "    .dataframe thead th {\n",
       "        text-align: right;\n",
       "    }\n",
       "</style>\n",
       "<table border=\"1\" class=\"dataframe\">\n",
       "  <thead>\n",
       "    <tr style=\"text-align: right;\">\n",
       "      <th></th>\n",
       "      <th>FIPS</th>\n",
       "      <th>Admin2</th>\n",
       "      <th>Province_State</th>\n",
       "      <th>Country_Region</th>\n",
       "      <th>Last_Update</th>\n",
       "      <th>Lat</th>\n",
       "      <th>Long_</th>\n",
       "      <th>Confirmed</th>\n",
       "      <th>Deaths</th>\n",
       "      <th>Recovered</th>\n",
       "      <th>Active</th>\n",
       "      <th>Incident_Rate</th>\n",
       "      <th>Case_Fatality_Ratio</th>\n",
       "    </tr>\n",
       "    <tr>\n",
       "      <th>Combined_Key</th>\n",
       "      <th></th>\n",
       "      <th></th>\n",
       "      <th></th>\n",
       "      <th></th>\n",
       "      <th></th>\n",
       "      <th></th>\n",
       "      <th></th>\n",
       "      <th></th>\n",
       "      <th></th>\n",
       "      <th></th>\n",
       "      <th></th>\n",
       "      <th></th>\n",
       "      <th></th>\n",
       "    </tr>\n",
       "  </thead>\n",
       "  <tbody>\n",
       "    <tr>\n",
       "      <th>Afghanistan</th>\n",
       "      <td>NaN</td>\n",
       "      <td>NaN</td>\n",
       "      <td>NaN</td>\n",
       "      <td>Afghanistan</td>\n",
       "      <td>2023-03-01 04:21:02</td>\n",
       "      <td>33.939110</td>\n",
       "      <td>67.709953</td>\n",
       "      <td>209322</td>\n",
       "      <td>7896</td>\n",
       "      <td>NaN</td>\n",
       "      <td>NaN</td>\n",
       "      <td>537.711073</td>\n",
       "      <td>3.772179</td>\n",
       "    </tr>\n",
       "    <tr>\n",
       "      <th>Albania</th>\n",
       "      <td>NaN</td>\n",
       "      <td>NaN</td>\n",
       "      <td>NaN</td>\n",
       "      <td>Albania</td>\n",
       "      <td>2023-03-01 04:21:02</td>\n",
       "      <td>41.153300</td>\n",
       "      <td>20.168300</td>\n",
       "      <td>334391</td>\n",
       "      <td>3598</td>\n",
       "      <td>NaN</td>\n",
       "      <td>NaN</td>\n",
       "      <td>11619.674752</td>\n",
       "      <td>1.075986</td>\n",
       "    </tr>\n",
       "    <tr>\n",
       "      <th>Algeria</th>\n",
       "      <td>NaN</td>\n",
       "      <td>NaN</td>\n",
       "      <td>NaN</td>\n",
       "      <td>Algeria</td>\n",
       "      <td>2023-03-01 04:21:02</td>\n",
       "      <td>28.033900</td>\n",
       "      <td>1.659600</td>\n",
       "      <td>271441</td>\n",
       "      <td>6881</td>\n",
       "      <td>NaN</td>\n",
       "      <td>NaN</td>\n",
       "      <td>619.006941</td>\n",
       "      <td>2.534989</td>\n",
       "    </tr>\n",
       "    <tr>\n",
       "      <th>Andorra</th>\n",
       "      <td>NaN</td>\n",
       "      <td>NaN</td>\n",
       "      <td>NaN</td>\n",
       "      <td>Andorra</td>\n",
       "      <td>2023-03-01 04:21:02</td>\n",
       "      <td>42.506300</td>\n",
       "      <td>1.521800</td>\n",
       "      <td>47866</td>\n",
       "      <td>165</td>\n",
       "      <td>NaN</td>\n",
       "      <td>NaN</td>\n",
       "      <td>61950.430337</td>\n",
       "      <td>0.344712</td>\n",
       "    </tr>\n",
       "    <tr>\n",
       "      <th>Angola</th>\n",
       "      <td>NaN</td>\n",
       "      <td>NaN</td>\n",
       "      <td>NaN</td>\n",
       "      <td>Angola</td>\n",
       "      <td>2023-03-01 04:21:02</td>\n",
       "      <td>-11.202700</td>\n",
       "      <td>17.873900</td>\n",
       "      <td>105255</td>\n",
       "      <td>1933</td>\n",
       "      <td>NaN</td>\n",
       "      <td>NaN</td>\n",
       "      <td>320.252363</td>\n",
       "      <td>1.836492</td>\n",
       "    </tr>\n",
       "    <tr>\n",
       "      <th>...</th>\n",
       "      <td>...</td>\n",
       "      <td>...</td>\n",
       "      <td>...</td>\n",
       "      <td>...</td>\n",
       "      <td>...</td>\n",
       "      <td>...</td>\n",
       "      <td>...</td>\n",
       "      <td>...</td>\n",
       "      <td>...</td>\n",
       "      <td>...</td>\n",
       "      <td>...</td>\n",
       "      <td>...</td>\n",
       "      <td>...</td>\n",
       "    </tr>\n",
       "    <tr>\n",
       "      <th>West Bank and Gaza</th>\n",
       "      <td>NaN</td>\n",
       "      <td>NaN</td>\n",
       "      <td>NaN</td>\n",
       "      <td>West Bank and Gaza</td>\n",
       "      <td>2023-03-01 04:21:02</td>\n",
       "      <td>31.952200</td>\n",
       "      <td>35.233200</td>\n",
       "      <td>703228</td>\n",
       "      <td>5708</td>\n",
       "      <td>NaN</td>\n",
       "      <td>NaN</td>\n",
       "      <td>13784.956961</td>\n",
       "      <td>0.811686</td>\n",
       "    </tr>\n",
       "    <tr>\n",
       "      <th>Winter Olympics 2022</th>\n",
       "      <td>NaN</td>\n",
       "      <td>NaN</td>\n",
       "      <td>NaN</td>\n",
       "      <td>Winter Olympics 2022</td>\n",
       "      <td>2023-03-01 04:21:02</td>\n",
       "      <td>39.904200</td>\n",
       "      <td>116.407400</td>\n",
       "      <td>535</td>\n",
       "      <td>0</td>\n",
       "      <td>NaN</td>\n",
       "      <td>NaN</td>\n",
       "      <td>NaN</td>\n",
       "      <td>0.000000</td>\n",
       "    </tr>\n",
       "    <tr>\n",
       "      <th>Yemen</th>\n",
       "      <td>NaN</td>\n",
       "      <td>NaN</td>\n",
       "      <td>NaN</td>\n",
       "      <td>Yemen</td>\n",
       "      <td>2023-03-01 04:21:02</td>\n",
       "      <td>15.552727</td>\n",
       "      <td>48.516388</td>\n",
       "      <td>11945</td>\n",
       "      <td>2159</td>\n",
       "      <td>NaN</td>\n",
       "      <td>NaN</td>\n",
       "      <td>40.048994</td>\n",
       "      <td>18.074508</td>\n",
       "    </tr>\n",
       "    <tr>\n",
       "      <th>Zambia</th>\n",
       "      <td>NaN</td>\n",
       "      <td>NaN</td>\n",
       "      <td>NaN</td>\n",
       "      <td>Zambia</td>\n",
       "      <td>2023-03-01 04:21:02</td>\n",
       "      <td>-13.133897</td>\n",
       "      <td>27.849332</td>\n",
       "      <td>343012</td>\n",
       "      <td>4057</td>\n",
       "      <td>NaN</td>\n",
       "      <td>NaN</td>\n",
       "      <td>1865.822568</td>\n",
       "      <td>1.182757</td>\n",
       "    </tr>\n",
       "    <tr>\n",
       "      <th>Zimbabwe</th>\n",
       "      <td>NaN</td>\n",
       "      <td>NaN</td>\n",
       "      <td>NaN</td>\n",
       "      <td>Zimbabwe</td>\n",
       "      <td>2023-03-01 04:21:02</td>\n",
       "      <td>-19.015438</td>\n",
       "      <td>29.154857</td>\n",
       "      <td>263921</td>\n",
       "      <td>5663</td>\n",
       "      <td>NaN</td>\n",
       "      <td>NaN</td>\n",
       "      <td>1775.700035</td>\n",
       "      <td>2.145718</td>\n",
       "    </tr>\n",
       "  </tbody>\n",
       "</table>\n",
       "<p>4016 rows × 13 columns</p>\n",
       "</div>"
      ],
      "text/plain": [
       "                      FIPS Admin2 Province_State        Country_Region  \\\n",
       "Combined_Key                                                             \n",
       "Afghanistan            NaN    NaN            NaN           Afghanistan   \n",
       "Albania                NaN    NaN            NaN               Albania   \n",
       "Algeria                NaN    NaN            NaN               Algeria   \n",
       "Andorra                NaN    NaN            NaN               Andorra   \n",
       "Angola                 NaN    NaN            NaN                Angola   \n",
       "...                    ...    ...            ...                   ...   \n",
       "West Bank and Gaza     NaN    NaN            NaN    West Bank and Gaza   \n",
       "Winter Olympics 2022   NaN    NaN            NaN  Winter Olympics 2022   \n",
       "Yemen                  NaN    NaN            NaN                 Yemen   \n",
       "Zambia                 NaN    NaN            NaN                Zambia   \n",
       "Zimbabwe               NaN    NaN            NaN              Zimbabwe   \n",
       "\n",
       "                              Last_Update        Lat       Long_  Confirmed  \\\n",
       "Combined_Key                                                                  \n",
       "Afghanistan           2023-03-01 04:21:02  33.939110   67.709953     209322   \n",
       "Albania               2023-03-01 04:21:02  41.153300   20.168300     334391   \n",
       "Algeria               2023-03-01 04:21:02  28.033900    1.659600     271441   \n",
       "Andorra               2023-03-01 04:21:02  42.506300    1.521800      47866   \n",
       "Angola                2023-03-01 04:21:02 -11.202700   17.873900     105255   \n",
       "...                                   ...        ...         ...        ...   \n",
       "West Bank and Gaza    2023-03-01 04:21:02  31.952200   35.233200     703228   \n",
       "Winter Olympics 2022  2023-03-01 04:21:02  39.904200  116.407400        535   \n",
       "Yemen                 2023-03-01 04:21:02  15.552727   48.516388      11945   \n",
       "Zambia                2023-03-01 04:21:02 -13.133897   27.849332     343012   \n",
       "Zimbabwe              2023-03-01 04:21:02 -19.015438   29.154857     263921   \n",
       "\n",
       "                      Deaths  Recovered  Active  Incident_Rate  \\\n",
       "Combined_Key                                                     \n",
       "Afghanistan             7896        NaN     NaN     537.711073   \n",
       "Albania                 3598        NaN     NaN   11619.674752   \n",
       "Algeria                 6881        NaN     NaN     619.006941   \n",
       "Andorra                  165        NaN     NaN   61950.430337   \n",
       "Angola                  1933        NaN     NaN     320.252363   \n",
       "...                      ...        ...     ...            ...   \n",
       "West Bank and Gaza      5708        NaN     NaN   13784.956961   \n",
       "Winter Olympics 2022       0        NaN     NaN            NaN   \n",
       "Yemen                   2159        NaN     NaN      40.048994   \n",
       "Zambia                  4057        NaN     NaN    1865.822568   \n",
       "Zimbabwe                5663        NaN     NaN    1775.700035   \n",
       "\n",
       "                      Case_Fatality_Ratio  \n",
       "Combined_Key                               \n",
       "Afghanistan                      3.772179  \n",
       "Albania                          1.075986  \n",
       "Algeria                          2.534989  \n",
       "Andorra                          0.344712  \n",
       "Angola                           1.836492  \n",
       "...                                   ...  \n",
       "West Bank and Gaza               0.811686  \n",
       "Winter Olympics 2022             0.000000  \n",
       "Yemen                           18.074508  \n",
       "Zambia                           1.182757  \n",
       "Zimbabwe                         2.145718  \n",
       "\n",
       "[4016 rows x 13 columns]"
      ]
     },
     "execution_count": 8,
     "metadata": {},
     "output_type": "execute_result"
    }
   ],
   "source": [
    "daily_report.set_index('Combined_Key')"
   ]
  },
  {
   "cell_type": "markdown",
   "metadata": {
    "slideshow": {
     "slide_type": "subslide"
    }
   },
   "source": [
    "## `reset_index()` resets current `Index` with default `RangeIndex` "
   ]
  },
  {
   "cell_type": "code",
   "execution_count": 9,
   "metadata": {},
   "outputs": [
    {
     "data": {
      "text/html": [
       "<div>\n",
       "<style scoped>\n",
       "    .dataframe tbody tr th:only-of-type {\n",
       "        vertical-align: middle;\n",
       "    }\n",
       "\n",
       "    .dataframe tbody tr th {\n",
       "        vertical-align: top;\n",
       "    }\n",
       "\n",
       "    .dataframe thead th {\n",
       "        text-align: right;\n",
       "    }\n",
       "</style>\n",
       "<table border=\"1\" class=\"dataframe\">\n",
       "  <thead>\n",
       "    <tr style=\"text-align: right;\">\n",
       "      <th></th>\n",
       "      <th>Combined_Key</th>\n",
       "      <th>FIPS</th>\n",
       "      <th>Admin2</th>\n",
       "      <th>Province_State</th>\n",
       "      <th>Country_Region</th>\n",
       "      <th>Last_Update</th>\n",
       "      <th>Lat</th>\n",
       "      <th>Long_</th>\n",
       "      <th>Confirmed</th>\n",
       "      <th>Deaths</th>\n",
       "      <th>Recovered</th>\n",
       "      <th>Active</th>\n",
       "      <th>Incident_Rate</th>\n",
       "      <th>Case_Fatality_Ratio</th>\n",
       "    </tr>\n",
       "  </thead>\n",
       "  <tbody>\n",
       "    <tr>\n",
       "      <th>0</th>\n",
       "      <td>Afghanistan</td>\n",
       "      <td>NaN</td>\n",
       "      <td>NaN</td>\n",
       "      <td>NaN</td>\n",
       "      <td>Afghanistan</td>\n",
       "      <td>2023-03-01 04:21:02</td>\n",
       "      <td>33.939110</td>\n",
       "      <td>67.709953</td>\n",
       "      <td>209322</td>\n",
       "      <td>7896</td>\n",
       "      <td>NaN</td>\n",
       "      <td>NaN</td>\n",
       "      <td>537.711073</td>\n",
       "      <td>3.772179</td>\n",
       "    </tr>\n",
       "    <tr>\n",
       "      <th>1</th>\n",
       "      <td>Albania</td>\n",
       "      <td>NaN</td>\n",
       "      <td>NaN</td>\n",
       "      <td>NaN</td>\n",
       "      <td>Albania</td>\n",
       "      <td>2023-03-01 04:21:02</td>\n",
       "      <td>41.153300</td>\n",
       "      <td>20.168300</td>\n",
       "      <td>334391</td>\n",
       "      <td>3598</td>\n",
       "      <td>NaN</td>\n",
       "      <td>NaN</td>\n",
       "      <td>11619.674752</td>\n",
       "      <td>1.075986</td>\n",
       "    </tr>\n",
       "    <tr>\n",
       "      <th>2</th>\n",
       "      <td>Algeria</td>\n",
       "      <td>NaN</td>\n",
       "      <td>NaN</td>\n",
       "      <td>NaN</td>\n",
       "      <td>Algeria</td>\n",
       "      <td>2023-03-01 04:21:02</td>\n",
       "      <td>28.033900</td>\n",
       "      <td>1.659600</td>\n",
       "      <td>271441</td>\n",
       "      <td>6881</td>\n",
       "      <td>NaN</td>\n",
       "      <td>NaN</td>\n",
       "      <td>619.006941</td>\n",
       "      <td>2.534989</td>\n",
       "    </tr>\n",
       "    <tr>\n",
       "      <th>3</th>\n",
       "      <td>Andorra</td>\n",
       "      <td>NaN</td>\n",
       "      <td>NaN</td>\n",
       "      <td>NaN</td>\n",
       "      <td>Andorra</td>\n",
       "      <td>2023-03-01 04:21:02</td>\n",
       "      <td>42.506300</td>\n",
       "      <td>1.521800</td>\n",
       "      <td>47866</td>\n",
       "      <td>165</td>\n",
       "      <td>NaN</td>\n",
       "      <td>NaN</td>\n",
       "      <td>61950.430337</td>\n",
       "      <td>0.344712</td>\n",
       "    </tr>\n",
       "    <tr>\n",
       "      <th>4</th>\n",
       "      <td>Angola</td>\n",
       "      <td>NaN</td>\n",
       "      <td>NaN</td>\n",
       "      <td>NaN</td>\n",
       "      <td>Angola</td>\n",
       "      <td>2023-03-01 04:21:02</td>\n",
       "      <td>-11.202700</td>\n",
       "      <td>17.873900</td>\n",
       "      <td>105255</td>\n",
       "      <td>1933</td>\n",
       "      <td>NaN</td>\n",
       "      <td>NaN</td>\n",
       "      <td>320.252363</td>\n",
       "      <td>1.836492</td>\n",
       "    </tr>\n",
       "    <tr>\n",
       "      <th>...</th>\n",
       "      <td>...</td>\n",
       "      <td>...</td>\n",
       "      <td>...</td>\n",
       "      <td>...</td>\n",
       "      <td>...</td>\n",
       "      <td>...</td>\n",
       "      <td>...</td>\n",
       "      <td>...</td>\n",
       "      <td>...</td>\n",
       "      <td>...</td>\n",
       "      <td>...</td>\n",
       "      <td>...</td>\n",
       "      <td>...</td>\n",
       "      <td>...</td>\n",
       "    </tr>\n",
       "    <tr>\n",
       "      <th>4011</th>\n",
       "      <td>West Bank and Gaza</td>\n",
       "      <td>NaN</td>\n",
       "      <td>NaN</td>\n",
       "      <td>NaN</td>\n",
       "      <td>West Bank and Gaza</td>\n",
       "      <td>2023-03-01 04:21:02</td>\n",
       "      <td>31.952200</td>\n",
       "      <td>35.233200</td>\n",
       "      <td>703228</td>\n",
       "      <td>5708</td>\n",
       "      <td>NaN</td>\n",
       "      <td>NaN</td>\n",
       "      <td>13784.956961</td>\n",
       "      <td>0.811686</td>\n",
       "    </tr>\n",
       "    <tr>\n",
       "      <th>4012</th>\n",
       "      <td>Winter Olympics 2022</td>\n",
       "      <td>NaN</td>\n",
       "      <td>NaN</td>\n",
       "      <td>NaN</td>\n",
       "      <td>Winter Olympics 2022</td>\n",
       "      <td>2023-03-01 04:21:02</td>\n",
       "      <td>39.904200</td>\n",
       "      <td>116.407400</td>\n",
       "      <td>535</td>\n",
       "      <td>0</td>\n",
       "      <td>NaN</td>\n",
       "      <td>NaN</td>\n",
       "      <td>NaN</td>\n",
       "      <td>0.000000</td>\n",
       "    </tr>\n",
       "    <tr>\n",
       "      <th>4013</th>\n",
       "      <td>Yemen</td>\n",
       "      <td>NaN</td>\n",
       "      <td>NaN</td>\n",
       "      <td>NaN</td>\n",
       "      <td>Yemen</td>\n",
       "      <td>2023-03-01 04:21:02</td>\n",
       "      <td>15.552727</td>\n",
       "      <td>48.516388</td>\n",
       "      <td>11945</td>\n",
       "      <td>2159</td>\n",
       "      <td>NaN</td>\n",
       "      <td>NaN</td>\n",
       "      <td>40.048994</td>\n",
       "      <td>18.074508</td>\n",
       "    </tr>\n",
       "    <tr>\n",
       "      <th>4014</th>\n",
       "      <td>Zambia</td>\n",
       "      <td>NaN</td>\n",
       "      <td>NaN</td>\n",
       "      <td>NaN</td>\n",
       "      <td>Zambia</td>\n",
       "      <td>2023-03-01 04:21:02</td>\n",
       "      <td>-13.133897</td>\n",
       "      <td>27.849332</td>\n",
       "      <td>343012</td>\n",
       "      <td>4057</td>\n",
       "      <td>NaN</td>\n",
       "      <td>NaN</td>\n",
       "      <td>1865.822568</td>\n",
       "      <td>1.182757</td>\n",
       "    </tr>\n",
       "    <tr>\n",
       "      <th>4015</th>\n",
       "      <td>Zimbabwe</td>\n",
       "      <td>NaN</td>\n",
       "      <td>NaN</td>\n",
       "      <td>NaN</td>\n",
       "      <td>Zimbabwe</td>\n",
       "      <td>2023-03-01 04:21:02</td>\n",
       "      <td>-19.015438</td>\n",
       "      <td>29.154857</td>\n",
       "      <td>263921</td>\n",
       "      <td>5663</td>\n",
       "      <td>NaN</td>\n",
       "      <td>NaN</td>\n",
       "      <td>1775.700035</td>\n",
       "      <td>2.145718</td>\n",
       "    </tr>\n",
       "  </tbody>\n",
       "</table>\n",
       "<p>4016 rows × 14 columns</p>\n",
       "</div>"
      ],
      "text/plain": [
       "              Combined_Key  FIPS Admin2 Province_State        Country_Region  \\\n",
       "0              Afghanistan   NaN    NaN            NaN           Afghanistan   \n",
       "1                  Albania   NaN    NaN            NaN               Albania   \n",
       "2                  Algeria   NaN    NaN            NaN               Algeria   \n",
       "3                  Andorra   NaN    NaN            NaN               Andorra   \n",
       "4                   Angola   NaN    NaN            NaN                Angola   \n",
       "...                    ...   ...    ...            ...                   ...   \n",
       "4011    West Bank and Gaza   NaN    NaN            NaN    West Bank and Gaza   \n",
       "4012  Winter Olympics 2022   NaN    NaN            NaN  Winter Olympics 2022   \n",
       "4013                 Yemen   NaN    NaN            NaN                 Yemen   \n",
       "4014                Zambia   NaN    NaN            NaN                Zambia   \n",
       "4015              Zimbabwe   NaN    NaN            NaN              Zimbabwe   \n",
       "\n",
       "              Last_Update        Lat       Long_  Confirmed  Deaths  \\\n",
       "0     2023-03-01 04:21:02  33.939110   67.709953     209322    7896   \n",
       "1     2023-03-01 04:21:02  41.153300   20.168300     334391    3598   \n",
       "2     2023-03-01 04:21:02  28.033900    1.659600     271441    6881   \n",
       "3     2023-03-01 04:21:02  42.506300    1.521800      47866     165   \n",
       "4     2023-03-01 04:21:02 -11.202700   17.873900     105255    1933   \n",
       "...                   ...        ...         ...        ...     ...   \n",
       "4011  2023-03-01 04:21:02  31.952200   35.233200     703228    5708   \n",
       "4012  2023-03-01 04:21:02  39.904200  116.407400        535       0   \n",
       "4013  2023-03-01 04:21:02  15.552727   48.516388      11945    2159   \n",
       "4014  2023-03-01 04:21:02 -13.133897   27.849332     343012    4057   \n",
       "4015  2023-03-01 04:21:02 -19.015438   29.154857     263921    5663   \n",
       "\n",
       "      Recovered  Active  Incident_Rate  Case_Fatality_Ratio  \n",
       "0           NaN     NaN     537.711073             3.772179  \n",
       "1           NaN     NaN   11619.674752             1.075986  \n",
       "2           NaN     NaN     619.006941             2.534989  \n",
       "3           NaN     NaN   61950.430337             0.344712  \n",
       "4           NaN     NaN     320.252363             1.836492  \n",
       "...         ...     ...            ...                  ...  \n",
       "4011        NaN     NaN   13784.956961             0.811686  \n",
       "4012        NaN     NaN            NaN             0.000000  \n",
       "4013        NaN     NaN      40.048994            18.074508  \n",
       "4014        NaN     NaN    1865.822568             1.182757  \n",
       "4015        NaN     NaN    1775.700035             2.145718  \n",
       "\n",
       "[4016 rows x 14 columns]"
      ]
     },
     "execution_count": 9,
     "metadata": {},
     "output_type": "execute_result"
    }
   ],
   "source": [
    "daily_report.set_index('Combined_Key').reset_index()"
   ]
  },
  {
   "cell_type": "markdown",
   "metadata": {
    "slideshow": {
     "slide_type": "slide"
    }
   },
   "source": [
    "## Basic Wrangling"
   ]
  },
  {
   "cell_type": "markdown",
   "metadata": {
    "slideshow": {
     "slide_type": "subslide"
    }
   },
   "source": [
    "## Basic wrangling is like writing SQL queries\n",
    "\n",
    "- Selecting: `SELECT FROM`\n",
    "- Filtering: `WHERE`\n",
    "- Subset: `SELECT FROM WHERE`"
   ]
  },
  {
   "cell_type": "markdown",
   "metadata": {
    "slideshow": {
     "slide_type": "subslide"
    }
   },
   "source": [
    "## Basic wrangling is like writing SQL queries(cont'd)\n",
    "\n",
    "- Indexing\n",
    "- Sorting: `ORDER BY`\n",
    "- Deriving\n",
    "- Summarizing\n",
    "- Summarizing and Grouping: `GROUP BY`"
   ]
  },
  {
   "cell_type": "markdown",
   "metadata": {
    "slideshow": {
     "slide_type": "subslide"
    }
   },
   "source": [
    "## Selecting a column as `Series`"
   ]
  },
  {
   "cell_type": "code",
   "execution_count": 10,
   "metadata": {},
   "outputs": [
    {
     "name": "stdout",
     "output_type": "stream",
     "text": [
      "0                Afghanistan\n",
      "1                    Albania\n",
      "2                    Algeria\n",
      "3                    Andorra\n",
      "4                     Angola\n",
      "                ...         \n",
      "4011      West Bank and Gaza\n",
      "4012    Winter Olympics 2022\n",
      "4013                   Yemen\n",
      "4014                  Zambia\n",
      "4015                Zimbabwe\n",
      "Name: Country_Region, Length: 4016, dtype: object\n",
      "<class 'pandas.core.series.Series'>\n"
     ]
    }
   ],
   "source": [
    "print(daily_report['Country_Region'])\n",
    "print(type(daily_report['Country_Region']))"
   ]
  },
  {
   "cell_type": "markdown",
   "metadata": {
    "slideshow": {
     "slide_type": "subslide"
    }
   },
   "source": [
    "## Selecting a column as `DataFrame`"
   ]
  },
  {
   "cell_type": "code",
   "execution_count": 11,
   "metadata": {},
   "outputs": [
    {
     "name": "stdout",
     "output_type": "stream",
     "text": [
      "<class 'pandas.core.frame.DataFrame'>\n"
     ]
    },
    {
     "data": {
      "text/html": [
       "<div>\n",
       "<style scoped>\n",
       "    .dataframe tbody tr th:only-of-type {\n",
       "        vertical-align: middle;\n",
       "    }\n",
       "\n",
       "    .dataframe tbody tr th {\n",
       "        vertical-align: top;\n",
       "    }\n",
       "\n",
       "    .dataframe thead th {\n",
       "        text-align: right;\n",
       "    }\n",
       "</style>\n",
       "<table border=\"1\" class=\"dataframe\">\n",
       "  <thead>\n",
       "    <tr style=\"text-align: right;\">\n",
       "      <th></th>\n",
       "      <th>Country_Region</th>\n",
       "    </tr>\n",
       "  </thead>\n",
       "  <tbody>\n",
       "    <tr>\n",
       "      <th>0</th>\n",
       "      <td>Afghanistan</td>\n",
       "    </tr>\n",
       "    <tr>\n",
       "      <th>1</th>\n",
       "      <td>Albania</td>\n",
       "    </tr>\n",
       "    <tr>\n",
       "      <th>2</th>\n",
       "      <td>Algeria</td>\n",
       "    </tr>\n",
       "    <tr>\n",
       "      <th>3</th>\n",
       "      <td>Andorra</td>\n",
       "    </tr>\n",
       "    <tr>\n",
       "      <th>4</th>\n",
       "      <td>Angola</td>\n",
       "    </tr>\n",
       "    <tr>\n",
       "      <th>...</th>\n",
       "      <td>...</td>\n",
       "    </tr>\n",
       "    <tr>\n",
       "      <th>4011</th>\n",
       "      <td>West Bank and Gaza</td>\n",
       "    </tr>\n",
       "    <tr>\n",
       "      <th>4012</th>\n",
       "      <td>Winter Olympics 2022</td>\n",
       "    </tr>\n",
       "    <tr>\n",
       "      <th>4013</th>\n",
       "      <td>Yemen</td>\n",
       "    </tr>\n",
       "    <tr>\n",
       "      <th>4014</th>\n",
       "      <td>Zambia</td>\n",
       "    </tr>\n",
       "    <tr>\n",
       "      <th>4015</th>\n",
       "      <td>Zimbabwe</td>\n",
       "    </tr>\n",
       "  </tbody>\n",
       "</table>\n",
       "<p>4016 rows × 1 columns</p>\n",
       "</div>"
      ],
      "text/plain": [
       "            Country_Region\n",
       "0              Afghanistan\n",
       "1                  Albania\n",
       "2                  Algeria\n",
       "3                  Andorra\n",
       "4                   Angola\n",
       "...                    ...\n",
       "4011    West Bank and Gaza\n",
       "4012  Winter Olympics 2022\n",
       "4013                 Yemen\n",
       "4014                Zambia\n",
       "4015              Zimbabwe\n",
       "\n",
       "[4016 rows x 1 columns]"
      ]
     },
     "execution_count": 11,
     "metadata": {},
     "output_type": "execute_result"
    }
   ],
   "source": [
    "print(type(daily_report[['Country_Region']]))\n",
    "daily_report[['Country_Region']]"
   ]
  },
  {
   "cell_type": "markdown",
   "metadata": {
    "slideshow": {
     "slide_type": "subslide"
    }
   },
   "source": [
    "## Selecting multiple columns as `DataFrame`, for sure"
   ]
  },
  {
   "cell_type": "code",
   "execution_count": 12,
   "metadata": {},
   "outputs": [
    {
     "data": {
      "text/html": [
       "<div>\n",
       "<style scoped>\n",
       "    .dataframe tbody tr th:only-of-type {\n",
       "        vertical-align: middle;\n",
       "    }\n",
       "\n",
       "    .dataframe tbody tr th {\n",
       "        vertical-align: top;\n",
       "    }\n",
       "\n",
       "    .dataframe thead th {\n",
       "        text-align: right;\n",
       "    }\n",
       "</style>\n",
       "<table border=\"1\" class=\"dataframe\">\n",
       "  <thead>\n",
       "    <tr style=\"text-align: right;\">\n",
       "      <th></th>\n",
       "      <th>Country_Region</th>\n",
       "      <th>Confirmed</th>\n",
       "      <th>Deaths</th>\n",
       "    </tr>\n",
       "  </thead>\n",
       "  <tbody>\n",
       "    <tr>\n",
       "      <th>0</th>\n",
       "      <td>Afghanistan</td>\n",
       "      <td>209322</td>\n",
       "      <td>7896</td>\n",
       "    </tr>\n",
       "    <tr>\n",
       "      <th>1</th>\n",
       "      <td>Albania</td>\n",
       "      <td>334391</td>\n",
       "      <td>3598</td>\n",
       "    </tr>\n",
       "    <tr>\n",
       "      <th>2</th>\n",
       "      <td>Algeria</td>\n",
       "      <td>271441</td>\n",
       "      <td>6881</td>\n",
       "    </tr>\n",
       "    <tr>\n",
       "      <th>3</th>\n",
       "      <td>Andorra</td>\n",
       "      <td>47866</td>\n",
       "      <td>165</td>\n",
       "    </tr>\n",
       "    <tr>\n",
       "      <th>4</th>\n",
       "      <td>Angola</td>\n",
       "      <td>105255</td>\n",
       "      <td>1933</td>\n",
       "    </tr>\n",
       "    <tr>\n",
       "      <th>...</th>\n",
       "      <td>...</td>\n",
       "      <td>...</td>\n",
       "      <td>...</td>\n",
       "    </tr>\n",
       "    <tr>\n",
       "      <th>4011</th>\n",
       "      <td>West Bank and Gaza</td>\n",
       "      <td>703228</td>\n",
       "      <td>5708</td>\n",
       "    </tr>\n",
       "    <tr>\n",
       "      <th>4012</th>\n",
       "      <td>Winter Olympics 2022</td>\n",
       "      <td>535</td>\n",
       "      <td>0</td>\n",
       "    </tr>\n",
       "    <tr>\n",
       "      <th>4013</th>\n",
       "      <td>Yemen</td>\n",
       "      <td>11945</td>\n",
       "      <td>2159</td>\n",
       "    </tr>\n",
       "    <tr>\n",
       "      <th>4014</th>\n",
       "      <td>Zambia</td>\n",
       "      <td>343012</td>\n",
       "      <td>4057</td>\n",
       "    </tr>\n",
       "    <tr>\n",
       "      <th>4015</th>\n",
       "      <td>Zimbabwe</td>\n",
       "      <td>263921</td>\n",
       "      <td>5663</td>\n",
       "    </tr>\n",
       "  </tbody>\n",
       "</table>\n",
       "<p>4016 rows × 3 columns</p>\n",
       "</div>"
      ],
      "text/plain": [
       "            Country_Region  Confirmed  Deaths\n",
       "0              Afghanistan     209322    7896\n",
       "1                  Albania     334391    3598\n",
       "2                  Algeria     271441    6881\n",
       "3                  Andorra      47866     165\n",
       "4                   Angola     105255    1933\n",
       "...                    ...        ...     ...\n",
       "4011    West Bank and Gaza     703228    5708\n",
       "4012  Winter Olympics 2022        535       0\n",
       "4013                 Yemen      11945    2159\n",
       "4014                Zambia     343012    4057\n",
       "4015              Zimbabwe     263921    5663\n",
       "\n",
       "[4016 rows x 3 columns]"
      ]
     },
     "execution_count": 12,
     "metadata": {},
     "output_type": "execute_result"
    }
   ],
   "source": [
    "cols = ['Country_Region', 'Confirmed', 'Deaths']\n",
    "daily_report[cols]"
   ]
  },
  {
   "cell_type": "markdown",
   "metadata": {
    "slideshow": {
     "slide_type": "subslide"
    }
   },
   "source": [
    "## Filtering rows with conditional statements"
   ]
  },
  {
   "cell_type": "code",
   "execution_count": 13,
   "metadata": {},
   "outputs": [
    {
     "data": {
      "text/html": [
       "<div>\n",
       "<style scoped>\n",
       "    .dataframe tbody tr th:only-of-type {\n",
       "        vertical-align: middle;\n",
       "    }\n",
       "\n",
       "    .dataframe tbody tr th {\n",
       "        vertical-align: top;\n",
       "    }\n",
       "\n",
       "    .dataframe thead th {\n",
       "        text-align: right;\n",
       "    }\n",
       "</style>\n",
       "<table border=\"1\" class=\"dataframe\">\n",
       "  <thead>\n",
       "    <tr style=\"text-align: right;\">\n",
       "      <th></th>\n",
       "      <th>FIPS</th>\n",
       "      <th>Admin2</th>\n",
       "      <th>Province_State</th>\n",
       "      <th>Country_Region</th>\n",
       "      <th>Last_Update</th>\n",
       "      <th>Lat</th>\n",
       "      <th>Long_</th>\n",
       "      <th>Confirmed</th>\n",
       "      <th>Deaths</th>\n",
       "      <th>Recovered</th>\n",
       "      <th>Active</th>\n",
       "      <th>Combined_Key</th>\n",
       "      <th>Incident_Rate</th>\n",
       "      <th>Case_Fatality_Ratio</th>\n",
       "    </tr>\n",
       "  </thead>\n",
       "  <tbody>\n",
       "    <tr>\n",
       "      <th>667</th>\n",
       "      <td>NaN</td>\n",
       "      <td>NaN</td>\n",
       "      <td>NaN</td>\n",
       "      <td>Taiwan*</td>\n",
       "      <td>2023-03-01 04:21:02</td>\n",
       "      <td>23.7</td>\n",
       "      <td>121.0</td>\n",
       "      <td>9970937</td>\n",
       "      <td>17672</td>\n",
       "      <td>NaN</td>\n",
       "      <td>NaN</td>\n",
       "      <td>Taiwan*</td>\n",
       "      <td>41865.185358</td>\n",
       "      <td>0.177235</td>\n",
       "    </tr>\n",
       "  </tbody>\n",
       "</table>\n",
       "</div>"
      ],
      "text/plain": [
       "     FIPS Admin2 Province_State Country_Region          Last_Update   Lat  \\\n",
       "667   NaN    NaN            NaN        Taiwan*  2023-03-01 04:21:02  23.7   \n",
       "\n",
       "     Long_  Confirmed  Deaths  Recovered  Active Combined_Key  Incident_Rate  \\\n",
       "667  121.0    9970937   17672        NaN     NaN      Taiwan*   41865.185358   \n",
       "\n",
       "     Case_Fatality_Ratio  \n",
       "667             0.177235  "
      ]
     },
     "execution_count": 13,
     "metadata": {},
     "output_type": "execute_result"
    }
   ],
   "source": [
    "is_taiwan = daily_report['Country_Region'] == 'Taiwan*'\n",
    "daily_report[is_taiwan]"
   ]
  },
  {
   "cell_type": "markdown",
   "metadata": {
    "slideshow": {
     "slide_type": "subslide"
    }
   },
   "source": [
    "## Subsetting columns and rows simultaneously"
   ]
  },
  {
   "cell_type": "code",
   "execution_count": 14,
   "metadata": {},
   "outputs": [
    {
     "data": {
      "text/html": [
       "<div>\n",
       "<style scoped>\n",
       "    .dataframe tbody tr th:only-of-type {\n",
       "        vertical-align: middle;\n",
       "    }\n",
       "\n",
       "    .dataframe tbody tr th {\n",
       "        vertical-align: top;\n",
       "    }\n",
       "\n",
       "    .dataframe thead th {\n",
       "        text-align: right;\n",
       "    }\n",
       "</style>\n",
       "<table border=\"1\" class=\"dataframe\">\n",
       "  <thead>\n",
       "    <tr style=\"text-align: right;\">\n",
       "      <th></th>\n",
       "      <th>Country_Region</th>\n",
       "      <th>Confirmed</th>\n",
       "      <th>Deaths</th>\n",
       "    </tr>\n",
       "  </thead>\n",
       "  <tbody>\n",
       "    <tr>\n",
       "      <th>667</th>\n",
       "      <td>Taiwan*</td>\n",
       "      <td>9970937</td>\n",
       "      <td>17672</td>\n",
       "    </tr>\n",
       "  </tbody>\n",
       "</table>\n",
       "</div>"
      ],
      "text/plain": [
       "    Country_Region  Confirmed  Deaths\n",
       "667        Taiwan*    9970937   17672"
      ]
     },
     "execution_count": 14,
     "metadata": {},
     "output_type": "execute_result"
    }
   ],
   "source": [
    "cols_to_select = ['Country_Region', 'Confirmed', 'Deaths']\n",
    "rows_to_filter = daily_report['Country_Region'] == 'Taiwan*'\n",
    "daily_report[rows_to_filter][cols_to_select]"
   ]
  },
  {
   "cell_type": "markdown",
   "metadata": {
    "slideshow": {
     "slide_type": "subslide"
    }
   },
   "source": [
    "## Indexing `DataFrame` with\n",
    "\n",
    "- `loc[]`\n",
    "- `iloc[]`"
   ]
  },
  {
   "cell_type": "markdown",
   "metadata": {
    "slideshow": {
     "slide_type": "subslide"
    }
   },
   "source": [
    "## `loc[]` is indexing `DataFrame` with `Index` "
   ]
  },
  {
   "cell_type": "code",
   "execution_count": 15,
   "metadata": {},
   "outputs": [
    {
     "name": "stdout",
     "output_type": "stream",
     "text": [
      "Country_Region    Taiwan*\n",
      "Confirmed         9970937\n",
      "Name: 667, dtype: object\n"
     ]
    },
    {
     "data": {
      "text/html": [
       "<div>\n",
       "<style scoped>\n",
       "    .dataframe tbody tr th:only-of-type {\n",
       "        vertical-align: middle;\n",
       "    }\n",
       "\n",
       "    .dataframe tbody tr th {\n",
       "        vertical-align: top;\n",
       "    }\n",
       "\n",
       "    .dataframe thead th {\n",
       "        text-align: right;\n",
       "    }\n",
       "</style>\n",
       "<table border=\"1\" class=\"dataframe\">\n",
       "  <thead>\n",
       "    <tr style=\"text-align: right;\">\n",
       "      <th></th>\n",
       "      <th>Country_Region</th>\n",
       "      <th>Confirmed</th>\n",
       "    </tr>\n",
       "  </thead>\n",
       "  <tbody>\n",
       "    <tr>\n",
       "      <th>667</th>\n",
       "      <td>Taiwan*</td>\n",
       "      <td>9970937</td>\n",
       "    </tr>\n",
       "  </tbody>\n",
       "</table>\n",
       "</div>"
      ],
      "text/plain": [
       "    Country_Region  Confirmed\n",
       "667        Taiwan*    9970937"
      ]
     },
     "execution_count": 15,
     "metadata": {},
     "output_type": "execute_result"
    }
   ],
   "source": [
    "taiwan_row_index = daily_report[is_taiwan].index[0]\n",
    "print(daily_report.loc[taiwan_row_index, ['Country_Region', 'Confirmed']]) # as Series\n",
    "daily_report.loc[[taiwan_row_index], ['Country_Region', 'Confirmed']] # as DataFrame"
   ]
  },
  {
   "cell_type": "markdown",
   "metadata": {
    "slideshow": {
     "slide_type": "subslide"
    }
   },
   "source": [
    "## `iloc[]` is indexing `DataFrame` with absolute position"
   ]
  },
  {
   "cell_type": "code",
   "execution_count": 16,
   "metadata": {},
   "outputs": [
    {
     "name": "stdout",
     "output_type": "stream",
     "text": [
      "Country_Region    Taiwan*\n",
      "Confirmed         9970937\n",
      "Name: 667, dtype: object\n"
     ]
    },
    {
     "data": {
      "text/html": [
       "<div>\n",
       "<style scoped>\n",
       "    .dataframe tbody tr th:only-of-type {\n",
       "        vertical-align: middle;\n",
       "    }\n",
       "\n",
       "    .dataframe tbody tr th {\n",
       "        vertical-align: top;\n",
       "    }\n",
       "\n",
       "    .dataframe thead th {\n",
       "        text-align: right;\n",
       "    }\n",
       "</style>\n",
       "<table border=\"1\" class=\"dataframe\">\n",
       "  <thead>\n",
       "    <tr style=\"text-align: right;\">\n",
       "      <th></th>\n",
       "      <th>Country_Region</th>\n",
       "      <th>Confirmed</th>\n",
       "    </tr>\n",
       "  </thead>\n",
       "  <tbody>\n",
       "    <tr>\n",
       "      <th>667</th>\n",
       "      <td>Taiwan*</td>\n",
       "      <td>9970937</td>\n",
       "    </tr>\n",
       "  </tbody>\n",
       "</table>\n",
       "</div>"
      ],
      "text/plain": [
       "    Country_Region  Confirmed\n",
       "667        Taiwan*    9970937"
      ]
     },
     "execution_count": 16,
     "metadata": {},
     "output_type": "execute_result"
    }
   ],
   "source": [
    "print(daily_report.iloc[taiwan_row_index, [3, 7]]) # as Series\n",
    "daily_report.iloc[[taiwan_row_index], [3, 7]] # as DataFrame"
   ]
  },
  {
   "cell_type": "markdown",
   "metadata": {
    "slideshow": {
     "slide_type": "subslide"
    }
   },
   "source": [
    "## Sorting `DataFrame` with\n",
    "\n",
    "- `sort_values`\n",
    "- `sort_index`"
   ]
  },
  {
   "cell_type": "markdown",
   "metadata": {
    "slideshow": {
     "slide_type": "subslide"
    }
   },
   "source": [
    "## `sort_values` sorts `DataFrame` with specific columns"
   ]
  },
  {
   "cell_type": "code",
   "execution_count": 17,
   "metadata": {},
   "outputs": [
    {
     "data": {
      "text/html": [
       "<div>\n",
       "<style scoped>\n",
       "    .dataframe tbody tr th:only-of-type {\n",
       "        vertical-align: middle;\n",
       "    }\n",
       "\n",
       "    .dataframe tbody tr th {\n",
       "        vertical-align: top;\n",
       "    }\n",
       "\n",
       "    .dataframe thead th {\n",
       "        text-align: right;\n",
       "    }\n",
       "</style>\n",
       "<table border=\"1\" class=\"dataframe\">\n",
       "  <thead>\n",
       "    <tr style=\"text-align: right;\">\n",
       "      <th></th>\n",
       "      <th>FIPS</th>\n",
       "      <th>Admin2</th>\n",
       "      <th>Province_State</th>\n",
       "      <th>Country_Region</th>\n",
       "      <th>Last_Update</th>\n",
       "      <th>Lat</th>\n",
       "      <th>Long_</th>\n",
       "      <th>Confirmed</th>\n",
       "      <th>Deaths</th>\n",
       "      <th>Recovered</th>\n",
       "      <th>Active</th>\n",
       "      <th>Combined_Key</th>\n",
       "      <th>Incident_Rate</th>\n",
       "      <th>Case_Fatality_Ratio</th>\n",
       "    </tr>\n",
       "  </thead>\n",
       "  <tbody>\n",
       "    <tr>\n",
       "      <th>0</th>\n",
       "      <td>NaN</td>\n",
       "      <td>NaN</td>\n",
       "      <td>NaN</td>\n",
       "      <td>Afghanistan</td>\n",
       "      <td>2023-03-01 04:21:02</td>\n",
       "      <td>33.939110</td>\n",
       "      <td>67.709953</td>\n",
       "      <td>209322</td>\n",
       "      <td>7896</td>\n",
       "      <td>NaN</td>\n",
       "      <td>NaN</td>\n",
       "      <td>Afghanistan</td>\n",
       "      <td>537.711073</td>\n",
       "      <td>3.772179</td>\n",
       "    </tr>\n",
       "    <tr>\n",
       "      <th>1</th>\n",
       "      <td>NaN</td>\n",
       "      <td>NaN</td>\n",
       "      <td>NaN</td>\n",
       "      <td>Albania</td>\n",
       "      <td>2023-03-01 04:21:02</td>\n",
       "      <td>41.153300</td>\n",
       "      <td>20.168300</td>\n",
       "      <td>334391</td>\n",
       "      <td>3598</td>\n",
       "      <td>NaN</td>\n",
       "      <td>NaN</td>\n",
       "      <td>Albania</td>\n",
       "      <td>11619.674752</td>\n",
       "      <td>1.075986</td>\n",
       "    </tr>\n",
       "    <tr>\n",
       "      <th>2</th>\n",
       "      <td>NaN</td>\n",
       "      <td>NaN</td>\n",
       "      <td>NaN</td>\n",
       "      <td>Algeria</td>\n",
       "      <td>2023-03-01 04:21:02</td>\n",
       "      <td>28.033900</td>\n",
       "      <td>1.659600</td>\n",
       "      <td>271441</td>\n",
       "      <td>6881</td>\n",
       "      <td>NaN</td>\n",
       "      <td>NaN</td>\n",
       "      <td>Algeria</td>\n",
       "      <td>619.006941</td>\n",
       "      <td>2.534989</td>\n",
       "    </tr>\n",
       "    <tr>\n",
       "      <th>3</th>\n",
       "      <td>NaN</td>\n",
       "      <td>NaN</td>\n",
       "      <td>NaN</td>\n",
       "      <td>Andorra</td>\n",
       "      <td>2023-03-01 04:21:02</td>\n",
       "      <td>42.506300</td>\n",
       "      <td>1.521800</td>\n",
       "      <td>47866</td>\n",
       "      <td>165</td>\n",
       "      <td>NaN</td>\n",
       "      <td>NaN</td>\n",
       "      <td>Andorra</td>\n",
       "      <td>61950.430337</td>\n",
       "      <td>0.344712</td>\n",
       "    </tr>\n",
       "    <tr>\n",
       "      <th>4</th>\n",
       "      <td>NaN</td>\n",
       "      <td>NaN</td>\n",
       "      <td>NaN</td>\n",
       "      <td>Angola</td>\n",
       "      <td>2023-03-01 04:21:02</td>\n",
       "      <td>-11.202700</td>\n",
       "      <td>17.873900</td>\n",
       "      <td>105255</td>\n",
       "      <td>1933</td>\n",
       "      <td>NaN</td>\n",
       "      <td>NaN</td>\n",
       "      <td>Angola</td>\n",
       "      <td>320.252363</td>\n",
       "      <td>1.836492</td>\n",
       "    </tr>\n",
       "    <tr>\n",
       "      <th>...</th>\n",
       "      <td>...</td>\n",
       "      <td>...</td>\n",
       "      <td>...</td>\n",
       "      <td>...</td>\n",
       "      <td>...</td>\n",
       "      <td>...</td>\n",
       "      <td>...</td>\n",
       "      <td>...</td>\n",
       "      <td>...</td>\n",
       "      <td>...</td>\n",
       "      <td>...</td>\n",
       "      <td>...</td>\n",
       "      <td>...</td>\n",
       "      <td>...</td>\n",
       "    </tr>\n",
       "    <tr>\n",
       "      <th>4011</th>\n",
       "      <td>NaN</td>\n",
       "      <td>NaN</td>\n",
       "      <td>NaN</td>\n",
       "      <td>West Bank and Gaza</td>\n",
       "      <td>2023-03-01 04:21:02</td>\n",
       "      <td>31.952200</td>\n",
       "      <td>35.233200</td>\n",
       "      <td>703228</td>\n",
       "      <td>5708</td>\n",
       "      <td>NaN</td>\n",
       "      <td>NaN</td>\n",
       "      <td>West Bank and Gaza</td>\n",
       "      <td>13784.956961</td>\n",
       "      <td>0.811686</td>\n",
       "    </tr>\n",
       "    <tr>\n",
       "      <th>4012</th>\n",
       "      <td>NaN</td>\n",
       "      <td>NaN</td>\n",
       "      <td>NaN</td>\n",
       "      <td>Winter Olympics 2022</td>\n",
       "      <td>2023-03-01 04:21:02</td>\n",
       "      <td>39.904200</td>\n",
       "      <td>116.407400</td>\n",
       "      <td>535</td>\n",
       "      <td>0</td>\n",
       "      <td>NaN</td>\n",
       "      <td>NaN</td>\n",
       "      <td>Winter Olympics 2022</td>\n",
       "      <td>NaN</td>\n",
       "      <td>0.000000</td>\n",
       "    </tr>\n",
       "    <tr>\n",
       "      <th>4013</th>\n",
       "      <td>NaN</td>\n",
       "      <td>NaN</td>\n",
       "      <td>NaN</td>\n",
       "      <td>Yemen</td>\n",
       "      <td>2023-03-01 04:21:02</td>\n",
       "      <td>15.552727</td>\n",
       "      <td>48.516388</td>\n",
       "      <td>11945</td>\n",
       "      <td>2159</td>\n",
       "      <td>NaN</td>\n",
       "      <td>NaN</td>\n",
       "      <td>Yemen</td>\n",
       "      <td>40.048994</td>\n",
       "      <td>18.074508</td>\n",
       "    </tr>\n",
       "    <tr>\n",
       "      <th>4014</th>\n",
       "      <td>NaN</td>\n",
       "      <td>NaN</td>\n",
       "      <td>NaN</td>\n",
       "      <td>Zambia</td>\n",
       "      <td>2023-03-01 04:21:02</td>\n",
       "      <td>-13.133897</td>\n",
       "      <td>27.849332</td>\n",
       "      <td>343012</td>\n",
       "      <td>4057</td>\n",
       "      <td>NaN</td>\n",
       "      <td>NaN</td>\n",
       "      <td>Zambia</td>\n",
       "      <td>1865.822568</td>\n",
       "      <td>1.182757</td>\n",
       "    </tr>\n",
       "    <tr>\n",
       "      <th>4015</th>\n",
       "      <td>NaN</td>\n",
       "      <td>NaN</td>\n",
       "      <td>NaN</td>\n",
       "      <td>Zimbabwe</td>\n",
       "      <td>2023-03-01 04:21:02</td>\n",
       "      <td>-19.015438</td>\n",
       "      <td>29.154857</td>\n",
       "      <td>263921</td>\n",
       "      <td>5663</td>\n",
       "      <td>NaN</td>\n",
       "      <td>NaN</td>\n",
       "      <td>Zimbabwe</td>\n",
       "      <td>1775.700035</td>\n",
       "      <td>2.145718</td>\n",
       "    </tr>\n",
       "  </tbody>\n",
       "</table>\n",
       "<p>4016 rows × 14 columns</p>\n",
       "</div>"
      ],
      "text/plain": [
       "      FIPS Admin2 Province_State        Country_Region          Last_Update  \\\n",
       "0      NaN    NaN            NaN           Afghanistan  2023-03-01 04:21:02   \n",
       "1      NaN    NaN            NaN               Albania  2023-03-01 04:21:02   \n",
       "2      NaN    NaN            NaN               Algeria  2023-03-01 04:21:02   \n",
       "3      NaN    NaN            NaN               Andorra  2023-03-01 04:21:02   \n",
       "4      NaN    NaN            NaN                Angola  2023-03-01 04:21:02   \n",
       "...    ...    ...            ...                   ...                  ...   \n",
       "4011   NaN    NaN            NaN    West Bank and Gaza  2023-03-01 04:21:02   \n",
       "4012   NaN    NaN            NaN  Winter Olympics 2022  2023-03-01 04:21:02   \n",
       "4013   NaN    NaN            NaN                 Yemen  2023-03-01 04:21:02   \n",
       "4014   NaN    NaN            NaN                Zambia  2023-03-01 04:21:02   \n",
       "4015   NaN    NaN            NaN              Zimbabwe  2023-03-01 04:21:02   \n",
       "\n",
       "            Lat       Long_  Confirmed  Deaths  Recovered  Active  \\\n",
       "0     33.939110   67.709953     209322    7896        NaN     NaN   \n",
       "1     41.153300   20.168300     334391    3598        NaN     NaN   \n",
       "2     28.033900    1.659600     271441    6881        NaN     NaN   \n",
       "3     42.506300    1.521800      47866     165        NaN     NaN   \n",
       "4    -11.202700   17.873900     105255    1933        NaN     NaN   \n",
       "...         ...         ...        ...     ...        ...     ...   \n",
       "4011  31.952200   35.233200     703228    5708        NaN     NaN   \n",
       "4012  39.904200  116.407400        535       0        NaN     NaN   \n",
       "4013  15.552727   48.516388      11945    2159        NaN     NaN   \n",
       "4014 -13.133897   27.849332     343012    4057        NaN     NaN   \n",
       "4015 -19.015438   29.154857     263921    5663        NaN     NaN   \n",
       "\n",
       "              Combined_Key  Incident_Rate  Case_Fatality_Ratio  \n",
       "0              Afghanistan     537.711073             3.772179  \n",
       "1                  Albania   11619.674752             1.075986  \n",
       "2                  Algeria     619.006941             2.534989  \n",
       "3                  Andorra   61950.430337             0.344712  \n",
       "4                   Angola     320.252363             1.836492  \n",
       "...                    ...            ...                  ...  \n",
       "4011    West Bank and Gaza   13784.956961             0.811686  \n",
       "4012  Winter Olympics 2022            NaN             0.000000  \n",
       "4013                 Yemen      40.048994            18.074508  \n",
       "4014                Zambia    1865.822568             1.182757  \n",
       "4015              Zimbabwe    1775.700035             2.145718  \n",
       "\n",
       "[4016 rows x 14 columns]"
      ]
     },
     "execution_count": 17,
     "metadata": {},
     "output_type": "execute_result"
    }
   ],
   "source": [
    "daily_report.sort_values(['Country_Region', 'Confirmed'])"
   ]
  },
  {
   "cell_type": "markdown",
   "metadata": {
    "slideshow": {
     "slide_type": "subslide"
    }
   },
   "source": [
    "## `sort_index` sorts `DataFrame` with the `Index` of `DataFrame`"
   ]
  },
  {
   "cell_type": "code",
   "execution_count": 18,
   "metadata": {},
   "outputs": [
    {
     "data": {
      "text/html": [
       "<div>\n",
       "<style scoped>\n",
       "    .dataframe tbody tr th:only-of-type {\n",
       "        vertical-align: middle;\n",
       "    }\n",
       "\n",
       "    .dataframe tbody tr th {\n",
       "        vertical-align: top;\n",
       "    }\n",
       "\n",
       "    .dataframe thead th {\n",
       "        text-align: right;\n",
       "    }\n",
       "</style>\n",
       "<table border=\"1\" class=\"dataframe\">\n",
       "  <thead>\n",
       "    <tr style=\"text-align: right;\">\n",
       "      <th></th>\n",
       "      <th>FIPS</th>\n",
       "      <th>Admin2</th>\n",
       "      <th>Province_State</th>\n",
       "      <th>Country_Region</th>\n",
       "      <th>Last_Update</th>\n",
       "      <th>Lat</th>\n",
       "      <th>Long_</th>\n",
       "      <th>Confirmed</th>\n",
       "      <th>Deaths</th>\n",
       "      <th>Recovered</th>\n",
       "      <th>Active</th>\n",
       "      <th>Combined_Key</th>\n",
       "      <th>Incident_Rate</th>\n",
       "      <th>Case_Fatality_Ratio</th>\n",
       "    </tr>\n",
       "  </thead>\n",
       "  <tbody>\n",
       "    <tr>\n",
       "      <th>4015</th>\n",
       "      <td>NaN</td>\n",
       "      <td>NaN</td>\n",
       "      <td>NaN</td>\n",
       "      <td>Zimbabwe</td>\n",
       "      <td>2023-03-01 04:21:02</td>\n",
       "      <td>-19.015438</td>\n",
       "      <td>29.154857</td>\n",
       "      <td>263921</td>\n",
       "      <td>5663</td>\n",
       "      <td>NaN</td>\n",
       "      <td>NaN</td>\n",
       "      <td>Zimbabwe</td>\n",
       "      <td>1775.700035</td>\n",
       "      <td>2.145718</td>\n",
       "    </tr>\n",
       "    <tr>\n",
       "      <th>4014</th>\n",
       "      <td>NaN</td>\n",
       "      <td>NaN</td>\n",
       "      <td>NaN</td>\n",
       "      <td>Zambia</td>\n",
       "      <td>2023-03-01 04:21:02</td>\n",
       "      <td>-13.133897</td>\n",
       "      <td>27.849332</td>\n",
       "      <td>343012</td>\n",
       "      <td>4057</td>\n",
       "      <td>NaN</td>\n",
       "      <td>NaN</td>\n",
       "      <td>Zambia</td>\n",
       "      <td>1865.822568</td>\n",
       "      <td>1.182757</td>\n",
       "    </tr>\n",
       "    <tr>\n",
       "      <th>4013</th>\n",
       "      <td>NaN</td>\n",
       "      <td>NaN</td>\n",
       "      <td>NaN</td>\n",
       "      <td>Yemen</td>\n",
       "      <td>2023-03-01 04:21:02</td>\n",
       "      <td>15.552727</td>\n",
       "      <td>48.516388</td>\n",
       "      <td>11945</td>\n",
       "      <td>2159</td>\n",
       "      <td>NaN</td>\n",
       "      <td>NaN</td>\n",
       "      <td>Yemen</td>\n",
       "      <td>40.048994</td>\n",
       "      <td>18.074508</td>\n",
       "    </tr>\n",
       "    <tr>\n",
       "      <th>4012</th>\n",
       "      <td>NaN</td>\n",
       "      <td>NaN</td>\n",
       "      <td>NaN</td>\n",
       "      <td>Winter Olympics 2022</td>\n",
       "      <td>2023-03-01 04:21:02</td>\n",
       "      <td>39.904200</td>\n",
       "      <td>116.407400</td>\n",
       "      <td>535</td>\n",
       "      <td>0</td>\n",
       "      <td>NaN</td>\n",
       "      <td>NaN</td>\n",
       "      <td>Winter Olympics 2022</td>\n",
       "      <td>NaN</td>\n",
       "      <td>0.000000</td>\n",
       "    </tr>\n",
       "    <tr>\n",
       "      <th>4011</th>\n",
       "      <td>NaN</td>\n",
       "      <td>NaN</td>\n",
       "      <td>NaN</td>\n",
       "      <td>West Bank and Gaza</td>\n",
       "      <td>2023-03-01 04:21:02</td>\n",
       "      <td>31.952200</td>\n",
       "      <td>35.233200</td>\n",
       "      <td>703228</td>\n",
       "      <td>5708</td>\n",
       "      <td>NaN</td>\n",
       "      <td>NaN</td>\n",
       "      <td>West Bank and Gaza</td>\n",
       "      <td>13784.956961</td>\n",
       "      <td>0.811686</td>\n",
       "    </tr>\n",
       "    <tr>\n",
       "      <th>...</th>\n",
       "      <td>...</td>\n",
       "      <td>...</td>\n",
       "      <td>...</td>\n",
       "      <td>...</td>\n",
       "      <td>...</td>\n",
       "      <td>...</td>\n",
       "      <td>...</td>\n",
       "      <td>...</td>\n",
       "      <td>...</td>\n",
       "      <td>...</td>\n",
       "      <td>...</td>\n",
       "      <td>...</td>\n",
       "      <td>...</td>\n",
       "      <td>...</td>\n",
       "    </tr>\n",
       "    <tr>\n",
       "      <th>4</th>\n",
       "      <td>NaN</td>\n",
       "      <td>NaN</td>\n",
       "      <td>NaN</td>\n",
       "      <td>Angola</td>\n",
       "      <td>2023-03-01 04:21:02</td>\n",
       "      <td>-11.202700</td>\n",
       "      <td>17.873900</td>\n",
       "      <td>105255</td>\n",
       "      <td>1933</td>\n",
       "      <td>NaN</td>\n",
       "      <td>NaN</td>\n",
       "      <td>Angola</td>\n",
       "      <td>320.252363</td>\n",
       "      <td>1.836492</td>\n",
       "    </tr>\n",
       "    <tr>\n",
       "      <th>3</th>\n",
       "      <td>NaN</td>\n",
       "      <td>NaN</td>\n",
       "      <td>NaN</td>\n",
       "      <td>Andorra</td>\n",
       "      <td>2023-03-01 04:21:02</td>\n",
       "      <td>42.506300</td>\n",
       "      <td>1.521800</td>\n",
       "      <td>47866</td>\n",
       "      <td>165</td>\n",
       "      <td>NaN</td>\n",
       "      <td>NaN</td>\n",
       "      <td>Andorra</td>\n",
       "      <td>61950.430337</td>\n",
       "      <td>0.344712</td>\n",
       "    </tr>\n",
       "    <tr>\n",
       "      <th>2</th>\n",
       "      <td>NaN</td>\n",
       "      <td>NaN</td>\n",
       "      <td>NaN</td>\n",
       "      <td>Algeria</td>\n",
       "      <td>2023-03-01 04:21:02</td>\n",
       "      <td>28.033900</td>\n",
       "      <td>1.659600</td>\n",
       "      <td>271441</td>\n",
       "      <td>6881</td>\n",
       "      <td>NaN</td>\n",
       "      <td>NaN</td>\n",
       "      <td>Algeria</td>\n",
       "      <td>619.006941</td>\n",
       "      <td>2.534989</td>\n",
       "    </tr>\n",
       "    <tr>\n",
       "      <th>1</th>\n",
       "      <td>NaN</td>\n",
       "      <td>NaN</td>\n",
       "      <td>NaN</td>\n",
       "      <td>Albania</td>\n",
       "      <td>2023-03-01 04:21:02</td>\n",
       "      <td>41.153300</td>\n",
       "      <td>20.168300</td>\n",
       "      <td>334391</td>\n",
       "      <td>3598</td>\n",
       "      <td>NaN</td>\n",
       "      <td>NaN</td>\n",
       "      <td>Albania</td>\n",
       "      <td>11619.674752</td>\n",
       "      <td>1.075986</td>\n",
       "    </tr>\n",
       "    <tr>\n",
       "      <th>0</th>\n",
       "      <td>NaN</td>\n",
       "      <td>NaN</td>\n",
       "      <td>NaN</td>\n",
       "      <td>Afghanistan</td>\n",
       "      <td>2023-03-01 04:21:02</td>\n",
       "      <td>33.939110</td>\n",
       "      <td>67.709953</td>\n",
       "      <td>209322</td>\n",
       "      <td>7896</td>\n",
       "      <td>NaN</td>\n",
       "      <td>NaN</td>\n",
       "      <td>Afghanistan</td>\n",
       "      <td>537.711073</td>\n",
       "      <td>3.772179</td>\n",
       "    </tr>\n",
       "  </tbody>\n",
       "</table>\n",
       "<p>4016 rows × 14 columns</p>\n",
       "</div>"
      ],
      "text/plain": [
       "      FIPS Admin2 Province_State        Country_Region          Last_Update  \\\n",
       "4015   NaN    NaN            NaN              Zimbabwe  2023-03-01 04:21:02   \n",
       "4014   NaN    NaN            NaN                Zambia  2023-03-01 04:21:02   \n",
       "4013   NaN    NaN            NaN                 Yemen  2023-03-01 04:21:02   \n",
       "4012   NaN    NaN            NaN  Winter Olympics 2022  2023-03-01 04:21:02   \n",
       "4011   NaN    NaN            NaN    West Bank and Gaza  2023-03-01 04:21:02   \n",
       "...    ...    ...            ...                   ...                  ...   \n",
       "4      NaN    NaN            NaN                Angola  2023-03-01 04:21:02   \n",
       "3      NaN    NaN            NaN               Andorra  2023-03-01 04:21:02   \n",
       "2      NaN    NaN            NaN               Algeria  2023-03-01 04:21:02   \n",
       "1      NaN    NaN            NaN               Albania  2023-03-01 04:21:02   \n",
       "0      NaN    NaN            NaN           Afghanistan  2023-03-01 04:21:02   \n",
       "\n",
       "            Lat       Long_  Confirmed  Deaths  Recovered  Active  \\\n",
       "4015 -19.015438   29.154857     263921    5663        NaN     NaN   \n",
       "4014 -13.133897   27.849332     343012    4057        NaN     NaN   \n",
       "4013  15.552727   48.516388      11945    2159        NaN     NaN   \n",
       "4012  39.904200  116.407400        535       0        NaN     NaN   \n",
       "4011  31.952200   35.233200     703228    5708        NaN     NaN   \n",
       "...         ...         ...        ...     ...        ...     ...   \n",
       "4    -11.202700   17.873900     105255    1933        NaN     NaN   \n",
       "3     42.506300    1.521800      47866     165        NaN     NaN   \n",
       "2     28.033900    1.659600     271441    6881        NaN     NaN   \n",
       "1     41.153300   20.168300     334391    3598        NaN     NaN   \n",
       "0     33.939110   67.709953     209322    7896        NaN     NaN   \n",
       "\n",
       "              Combined_Key  Incident_Rate  Case_Fatality_Ratio  \n",
       "4015              Zimbabwe    1775.700035             2.145718  \n",
       "4014                Zambia    1865.822568             1.182757  \n",
       "4013                 Yemen      40.048994            18.074508  \n",
       "4012  Winter Olympics 2022            NaN             0.000000  \n",
       "4011    West Bank and Gaza   13784.956961             0.811686  \n",
       "...                    ...            ...                  ...  \n",
       "4                   Angola     320.252363             1.836492  \n",
       "3                  Andorra   61950.430337             0.344712  \n",
       "2                  Algeria     619.006941             2.534989  \n",
       "1                  Albania   11619.674752             1.075986  \n",
       "0              Afghanistan     537.711073             3.772179  \n",
       "\n",
       "[4016 rows x 14 columns]"
      ]
     },
     "execution_count": 18,
     "metadata": {},
     "output_type": "execute_result"
    }
   ],
   "source": [
    "daily_report.sort_index(ascending=False)"
   ]
  },
  {
   "cell_type": "markdown",
   "metadata": {
    "slideshow": {
     "slide_type": "subslide"
    }
   },
   "source": [
    "## Deriving new variables from `DataFrame`\n",
    "\n",
    "- Simple operations\n",
    "- `map` with a `dict`\n",
    "- `map` with a function(or a lambda expression)"
   ]
  },
  {
   "cell_type": "markdown",
   "metadata": {
    "slideshow": {
     "slide_type": "subslide"
    }
   },
   "source": [
    "## Deriving new variable with simple operations"
   ]
  },
  {
   "cell_type": "code",
   "execution_count": 19,
   "metadata": {},
   "outputs": [
    {
     "data": {
      "text/plain": [
       "0       0.037722\n",
       "1       0.010760\n",
       "2       0.025350\n",
       "3       0.003447\n",
       "4       0.018365\n",
       "          ...   \n",
       "4011    0.008117\n",
       "4012    0.000000\n",
       "4013    0.180745\n",
       "4014    0.011828\n",
       "4015    0.021457\n",
       "Length: 4016, dtype: float64"
      ]
     },
     "execution_count": 19,
     "metadata": {},
     "output_type": "execute_result"
    }
   ],
   "source": [
    "case_fatality_ratio = daily_report['Deaths'] / daily_report['Confirmed']\n",
    "case_fatality_ratio"
   ]
  },
  {
   "cell_type": "markdown",
   "metadata": {
    "slideshow": {
     "slide_type": "subslide"
    }
   },
   "source": [
    "## Deriving categorical from categorical with `map`\n",
    "\n",
    "- Passing a `dict`\n",
    "- Passing a function(or lambda expression)"
   ]
  },
  {
   "cell_type": "code",
   "execution_count": 20,
   "metadata": {
    "slideshow": {
     "slide_type": "subslide"
    }
   },
   "outputs": [
    {
     "data": {
      "text/plain": [
       "667    Taiwan\n",
       "Name: Country_Region, dtype: object"
      ]
     },
     "execution_count": 20,
     "metadata": {},
     "output_type": "execute_result"
    }
   ],
   "source": [
    "# Passing a dict\n",
    "country_name = {\n",
    "    'Taiwan*': 'Taiwan'\n",
    "}\n",
    "daily_report_tw = daily_report[is_taiwan]\n",
    "daily_report_tw['Country_Region'].map(country_name)"
   ]
  },
  {
   "cell_type": "code",
   "execution_count": 21,
   "metadata": {
    "slideshow": {
     "slide_type": "subslide"
    }
   },
   "outputs": [
    {
     "data": {
      "text/plain": [
       "'Taiwan'"
      ]
     },
     "execution_count": 21,
     "metadata": {},
     "output_type": "execute_result"
    }
   ],
   "source": [
    "# Passing a function\n",
    "def replace_asterisk(x):\n",
    "    if \"*\" in x:\n",
    "        return x.replace(\"*\", \"\")\n",
    "    else:\n",
    "        return x\n",
    "\n",
    "daily_report['Country_Region'].map(replace_asterisk)[taiwan_row_index]"
   ]
  },
  {
   "cell_type": "code",
   "execution_count": 22,
   "metadata": {
    "slideshow": {
     "slide_type": "subslide"
    }
   },
   "outputs": [
    {
     "data": {
      "text/plain": [
       "'Taiwan'"
      ]
     },
     "execution_count": 22,
     "metadata": {},
     "output_type": "execute_result"
    }
   ],
   "source": [
    "# Passing a lambda expression)\n",
    "daily_report['Country_Region'].map(lambda x: x.replace(\"*\", \"\") if \"*\" in x else x)[taiwan_row_index]"
   ]
  },
  {
   "cell_type": "markdown",
   "metadata": {
    "slideshow": {
     "slide_type": "subslide"
    }
   },
   "source": [
    "## Summarizing `DataFrame` with aggregate methods"
   ]
  },
  {
   "cell_type": "code",
   "execution_count": 23,
   "metadata": {},
   "outputs": [
    {
     "data": {
      "text/plain": [
       "675322238"
      ]
     },
     "execution_count": 23,
     "metadata": {},
     "output_type": "execute_result"
    }
   ],
   "source": [
    "daily_report['Confirmed'].sum()"
   ]
  },
  {
   "cell_type": "markdown",
   "metadata": {
    "slideshow": {
     "slide_type": "subslide"
    }
   },
   "source": [
    "## Summarizing and grouping `DataFrame` with aggregate methods"
   ]
  },
  {
   "cell_type": "code",
   "execution_count": 24,
   "metadata": {},
   "outputs": [
    {
     "data": {
      "text/plain": [
       "Country_Region\n",
       "Afghanistan             209322\n",
       "Albania                 334391\n",
       "Algeria                 271441\n",
       "Andorra                  47866\n",
       "Angola                  105255\n",
       "                         ...  \n",
       "West Bank and Gaza      703228\n",
       "Winter Olympics 2022       535\n",
       "Yemen                    11945\n",
       "Zambia                  343012\n",
       "Zimbabwe                263921\n",
       "Name: Confirmed, Length: 201, dtype: int64"
      ]
     },
     "execution_count": 24,
     "metadata": {},
     "output_type": "execute_result"
    }
   ],
   "source": [
    "daily_report.groupby('Country_Region')['Confirmed'].sum()"
   ]
  },
  {
   "cell_type": "markdown",
   "metadata": {
    "slideshow": {
     "slide_type": "slide"
    }
   },
   "source": [
    "## Advanced Wrangling"
   ]
  },
  {
   "cell_type": "markdown",
   "metadata": {
    "slideshow": {
     "slide_type": "subslide"
    }
   },
   "source": [
    "## Other common wranglings including\n",
    "\n",
    "- Dealing with missing values.\n",
    "- Dealing with text values.\n",
    "- Reshaping dataframes.\n",
    "- Concatenating, merging and joining dataframes."
   ]
  },
  {
   "cell_type": "markdown",
   "metadata": {
    "slideshow": {
     "slide_type": "subslide"
    }
   },
   "source": [
    "## Dealing with missing values\n",
    "\n",
    "- Using `isnull` or `notnull` to check if `np.nan` exists.\n",
    "- Using `dropna` to drop rows with `np.nan`.\n",
    "- Using `fillna` to fill `np.nan` with specific values."
   ]
  },
  {
   "cell_type": "code",
   "execution_count": 25,
   "metadata": {
    "slideshow": {
     "slide_type": "subslide"
    }
   },
   "outputs": [
    {
     "name": "stdout",
     "output_type": "stream",
     "text": [
      "4016\n",
      "179\n",
      "3837\n"
     ]
    }
   ],
   "source": [
    "print(daily_report['Province_State'].size)\n",
    "print(daily_report['Province_State'].isnull().sum())\n",
    "print(daily_report['Province_State'].notnull().sum())"
   ]
  },
  {
   "cell_type": "code",
   "execution_count": 26,
   "metadata": {
    "slideshow": {
     "slide_type": "subslide"
    }
   },
   "outputs": [
    {
     "name": "stdout",
     "output_type": "stream",
     "text": [
      "(0, 14)\n",
      "0       0.0\n",
      "1       0.0\n",
      "2       0.0\n",
      "3       0.0\n",
      "4       0.0\n",
      "       ... \n",
      "4011    0.0\n",
      "4012    0.0\n",
      "4013    0.0\n",
      "4014    0.0\n",
      "4015    0.0\n",
      "Name: FIPS, Length: 4016, dtype: float64\n"
     ]
    }
   ],
   "source": [
    "print(daily_report.dropna().shape)\n",
    "print(daily_report['FIPS'].fillna(0))"
   ]
  },
  {
   "cell_type": "markdown",
   "metadata": {
    "slideshow": {
     "slide_type": "subslide"
    }
   },
   "source": [
    "## Summarizing text columns\n",
    "\n",
    "- `unique`\n",
    "- `nunique`\n",
    "- `value_counts`"
   ]
  },
  {
   "cell_type": "code",
   "execution_count": 27,
   "metadata": {
    "slideshow": {
     "slide_type": "subslide"
    }
   },
   "outputs": [
    {
     "name": "stdout",
     "output_type": "stream",
     "text": [
      "201\n",
      "['Afghanistan' 'Albania' 'Algeria' 'Andorra' 'Angola' 'Antarctica'\n",
      " 'Antigua and Barbuda' 'Argentina' 'Armenia' 'Australia' 'Austria'\n",
      " 'Azerbaijan' 'Bahamas' 'Bahrain' 'Bangladesh' 'Barbados' 'Belarus'\n",
      " 'Belgium' 'Belize' 'Benin' 'Bhutan' 'Bolivia' 'Bosnia and Herzegovina'\n",
      " 'Botswana' 'Brazil' 'Brunei' 'Bulgaria' 'Burkina Faso' 'Burma' 'Burundi'\n",
      " 'Cabo Verde' 'Cambodia' 'Cameroon' 'Canada' 'Central African Republic'\n",
      " 'Chad' 'Chile' 'China' 'Colombia' 'Comoros' 'Congo (Brazzaville)'\n",
      " 'Congo (Kinshasa)' 'Costa Rica' \"Cote d'Ivoire\" 'Croatia' 'Cuba' 'Cyprus'\n",
      " 'Czechia' 'Denmark' 'Diamond Princess' 'Djibouti' 'Dominica'\n",
      " 'Dominican Republic' 'Ecuador' 'Egypt' 'El Salvador' 'Equatorial Guinea'\n",
      " 'Eritrea' 'Estonia' 'Eswatini' 'Ethiopia' 'Fiji' 'Finland' 'France'\n",
      " 'Gabon' 'Gambia' 'Georgia' 'Germany' 'Ghana' 'Greece' 'Grenada'\n",
      " 'Guatemala' 'Guinea' 'Guinea-Bissau' 'Guyana' 'Haiti' 'Holy See'\n",
      " 'Honduras' 'Hungary' 'Iceland' 'India' 'Indonesia' 'Iran' 'Iraq'\n",
      " 'Ireland' 'Israel' 'Italy' 'Jamaica' 'Japan' 'Jordan' 'Kazakhstan'\n",
      " 'Kenya' 'Kiribati' 'Korea, North' 'Korea, South' 'Kosovo' 'Kuwait'\n",
      " 'Kyrgyzstan' 'Laos' 'Latvia' 'Lebanon' 'Lesotho' 'Liberia' 'Libya'\n",
      " 'Liechtenstein' 'Lithuania' 'Luxembourg' 'MS Zaandam' 'Madagascar'\n",
      " 'Malawi' 'Malaysia' 'Maldives' 'Mali' 'Malta' 'Marshall Islands'\n",
      " 'Mauritania' 'Mauritius' 'Mexico' 'Micronesia' 'Moldova' 'Monaco'\n",
      " 'Mongolia' 'Montenegro' 'Morocco' 'Mozambique' 'Namibia' 'Nauru' 'Nepal'\n",
      " 'Netherlands' 'New Zealand' 'Nicaragua' 'Niger' 'Nigeria'\n",
      " 'North Macedonia' 'Norway' 'Oman' 'Pakistan' 'Palau' 'Panama'\n",
      " 'Papua New Guinea' 'Paraguay' 'Peru' 'Philippines' 'Poland' 'Portugal'\n",
      " 'Qatar' 'Romania' 'Russia' 'Rwanda' 'Saint Kitts and Nevis' 'Saint Lucia'\n",
      " 'Saint Vincent and the Grenadines' 'Samoa' 'San Marino'\n",
      " 'Sao Tome and Principe' 'Saudi Arabia' 'Senegal' 'Serbia' 'Seychelles'\n",
      " 'Sierra Leone' 'Singapore' 'Slovakia' 'Slovenia' 'Solomon Islands'\n",
      " 'Somalia' 'South Africa' 'South Sudan' 'Spain' 'Sri Lanka' 'Sudan'\n",
      " 'Summer Olympics 2020' 'Suriname' 'Sweden' 'Switzerland' 'Syria'\n",
      " 'Taiwan*' 'Tajikistan' 'Tanzania' 'Thailand' 'Timor-Leste' 'Togo' 'Tonga'\n",
      " 'Trinidad and Tobago' 'Tunisia' 'Turkey' 'Tuvalu' 'US' 'Uganda' 'Ukraine'\n",
      " 'United Arab Emirates' 'United Kingdom' 'Uruguay' 'Uzbekistan' 'Vanuatu'\n",
      " 'Venezuela' 'Vietnam' 'West Bank and Gaza' 'Winter Olympics 2022' 'Yemen'\n",
      " 'Zambia' 'Zimbabwe']\n"
     ]
    }
   ],
   "source": [
    "print(daily_report['Country_Region'].nunique())\n",
    "print(daily_report['Country_Region'].unique())"
   ]
  },
  {
   "cell_type": "code",
   "execution_count": 28,
   "metadata": {
    "slideshow": {
     "slide_type": "subslide"
    }
   },
   "outputs": [
    {
     "data": {
      "text/plain": [
       "US          3279\n",
       "Russia        83\n",
       "Japan         49\n",
       "India         37\n",
       "China         34\n",
       "            ... \n",
       "Guyana         1\n",
       "Haiti          1\n",
       "Holy See       1\n",
       "Honduras       1\n",
       "Zimbabwe       1\n",
       "Name: Country_Region, Length: 201, dtype: int64"
      ]
     },
     "execution_count": 28,
     "metadata": {},
     "output_type": "execute_result"
    }
   ],
   "source": [
    "daily_report['Country_Region'].value_counts()"
   ]
  },
  {
   "cell_type": "markdown",
   "metadata": {
    "slideshow": {
     "slide_type": "subslide"
    }
   },
   "source": [
    "## Splitting strings with `str.split` as a `Series`"
   ]
  },
  {
   "cell_type": "code",
   "execution_count": 29,
   "metadata": {},
   "outputs": [
    {
     "data": {
      "text/html": [
       "<div>\n",
       "<style scoped>\n",
       "    .dataframe tbody tr th:only-of-type {\n",
       "        vertical-align: middle;\n",
       "    }\n",
       "\n",
       "    .dataframe tbody tr th {\n",
       "        vertical-align: top;\n",
       "    }\n",
       "\n",
       "    .dataframe thead th {\n",
       "        text-align: right;\n",
       "    }\n",
       "</style>\n",
       "<table border=\"1\" class=\"dataframe\">\n",
       "  <thead>\n",
       "    <tr style=\"text-align: right;\">\n",
       "      <th></th>\n",
       "      <th>Unnamed: 0</th>\n",
       "      <th>Rank &amp; Title</th>\n",
       "      <th>IMDb Rating</th>\n",
       "      <th>Your Rating</th>\n",
       "      <th>Unnamed: 4</th>\n",
       "    </tr>\n",
       "  </thead>\n",
       "  <tbody>\n",
       "    <tr>\n",
       "      <th>0</th>\n",
       "      <td>NaN</td>\n",
       "      <td>1.  刺激1995  (1994)</td>\n",
       "      <td>9.2</td>\n",
       "      <td>12345678910 NOT YET RELEASED  Seen</td>\n",
       "      <td>NaN</td>\n",
       "    </tr>\n",
       "    <tr>\n",
       "      <th>1</th>\n",
       "      <td>NaN</td>\n",
       "      <td>2.  教父  (1972)</td>\n",
       "      <td>9.2</td>\n",
       "      <td>12345678910 NOT YET RELEASED  Seen</td>\n",
       "      <td>NaN</td>\n",
       "    </tr>\n",
       "    <tr>\n",
       "      <th>2</th>\n",
       "      <td>NaN</td>\n",
       "      <td>3.  黑暗騎士  (2008)</td>\n",
       "      <td>9.0</td>\n",
       "      <td>12345678910 NOT YET RELEASED  Seen</td>\n",
       "      <td>NaN</td>\n",
       "    </tr>\n",
       "    <tr>\n",
       "      <th>3</th>\n",
       "      <td>NaN</td>\n",
       "      <td>4.  教父2  (1974)</td>\n",
       "      <td>9.0</td>\n",
       "      <td>12345678910 NOT YET RELEASED  Seen</td>\n",
       "      <td>NaN</td>\n",
       "    </tr>\n",
       "    <tr>\n",
       "      <th>4</th>\n",
       "      <td>NaN</td>\n",
       "      <td>5.  十二怒漢  (1957)</td>\n",
       "      <td>9.0</td>\n",
       "      <td>12345678910 NOT YET RELEASED  Seen</td>\n",
       "      <td>NaN</td>\n",
       "    </tr>\n",
       "  </tbody>\n",
       "</table>\n",
       "</div>"
      ],
      "text/plain": [
       "   Unnamed: 0        Rank & Title  IMDb Rating  \\\n",
       "0         NaN  1.  刺激1995  (1994)          9.2   \n",
       "1         NaN      2.  教父  (1972)          9.2   \n",
       "2         NaN    3.  黑暗騎士  (2008)          9.0   \n",
       "3         NaN     4.  教父2  (1974)          9.0   \n",
       "4         NaN    5.  十二怒漢  (1957)          9.0   \n",
       "\n",
       "                          Your Rating  Unnamed: 4  \n",
       "0  12345678910 NOT YET RELEASED  Seen         NaN  \n",
       "1  12345678910 NOT YET RELEASED  Seen         NaN  \n",
       "2  12345678910 NOT YET RELEASED  Seen         NaN  \n",
       "3  12345678910 NOT YET RELEASED  Seen         NaN  \n",
       "4  12345678910 NOT YET RELEASED  Seen         NaN  "
      ]
     },
     "execution_count": 29,
     "metadata": {},
     "output_type": "execute_result"
    }
   ],
   "source": [
    "request_url = \"https://www.imdb.com/chart/top\"\n",
    "html_tables = pd.read_html(request_url)\n",
    "html_table = html_tables[0]\n",
    "html_table.head()"
   ]
  },
  {
   "cell_type": "code",
   "execution_count": 30,
   "metadata": {
    "slideshow": {
     "slide_type": "subslide"
    }
   },
   "outputs": [
    {
     "data": {
      "text/plain": [
       "0      [1., 刺激1995, (1994)]\n",
       "1          [2., 教父, (1972)]\n",
       "2        [3., 黑暗騎士, (2008)]\n",
       "3         [4., 教父2, (1974)]\n",
       "4        [5., 十二怒漢, (1957)]\n",
       "               ...         \n",
       "245    [246., 萬世魔星, (1979)]\n",
       "246     [247., 鐵巨人, (1999)]\n",
       "247      [248., 姊妹, (2011)]\n",
       "248     [249., 阿拉丁, (1992)]\n",
       "249    [250., 與狼共舞, (1990)]\n",
       "Name: Rank & Title, Length: 250, dtype: object"
      ]
     },
     "execution_count": 30,
     "metadata": {},
     "output_type": "execute_result"
    }
   ],
   "source": [
    "html_table['Rank & Title'].str.split()"
   ]
  },
  {
   "cell_type": "markdown",
   "metadata": {
    "slideshow": {
     "slide_type": "subslide"
    }
   },
   "source": [
    "## Splitting strings with `str.split` as a `DataFrame`"
   ]
  },
  {
   "cell_type": "code",
   "execution_count": 31,
   "metadata": {
    "slideshow": {
     "slide_type": "-"
    }
   },
   "outputs": [
    {
     "data": {
      "text/html": [
       "<div>\n",
       "<style scoped>\n",
       "    .dataframe tbody tr th:only-of-type {\n",
       "        vertical-align: middle;\n",
       "    }\n",
       "\n",
       "    .dataframe tbody tr th {\n",
       "        vertical-align: top;\n",
       "    }\n",
       "\n",
       "    .dataframe thead th {\n",
       "        text-align: right;\n",
       "    }\n",
       "</style>\n",
       "<table border=\"1\" class=\"dataframe\">\n",
       "  <thead>\n",
       "    <tr style=\"text-align: right;\">\n",
       "      <th></th>\n",
       "      <th>0</th>\n",
       "      <th>1</th>\n",
       "      <th>2</th>\n",
       "      <th>3</th>\n",
       "    </tr>\n",
       "  </thead>\n",
       "  <tbody>\n",
       "    <tr>\n",
       "      <th>0</th>\n",
       "      <td>1.</td>\n",
       "      <td>刺激1995</td>\n",
       "      <td>(1994)</td>\n",
       "      <td>None</td>\n",
       "    </tr>\n",
       "    <tr>\n",
       "      <th>1</th>\n",
       "      <td>2.</td>\n",
       "      <td>教父</td>\n",
       "      <td>(1972)</td>\n",
       "      <td>None</td>\n",
       "    </tr>\n",
       "    <tr>\n",
       "      <th>2</th>\n",
       "      <td>3.</td>\n",
       "      <td>黑暗騎士</td>\n",
       "      <td>(2008)</td>\n",
       "      <td>None</td>\n",
       "    </tr>\n",
       "    <tr>\n",
       "      <th>3</th>\n",
       "      <td>4.</td>\n",
       "      <td>教父2</td>\n",
       "      <td>(1974)</td>\n",
       "      <td>None</td>\n",
       "    </tr>\n",
       "    <tr>\n",
       "      <th>4</th>\n",
       "      <td>5.</td>\n",
       "      <td>十二怒漢</td>\n",
       "      <td>(1957)</td>\n",
       "      <td>None</td>\n",
       "    </tr>\n",
       "    <tr>\n",
       "      <th>...</th>\n",
       "      <td>...</td>\n",
       "      <td>...</td>\n",
       "      <td>...</td>\n",
       "      <td>...</td>\n",
       "    </tr>\n",
       "    <tr>\n",
       "      <th>245</th>\n",
       "      <td>246.</td>\n",
       "      <td>萬世魔星</td>\n",
       "      <td>(1979)</td>\n",
       "      <td>None</td>\n",
       "    </tr>\n",
       "    <tr>\n",
       "      <th>246</th>\n",
       "      <td>247.</td>\n",
       "      <td>鐵巨人</td>\n",
       "      <td>(1999)</td>\n",
       "      <td>None</td>\n",
       "    </tr>\n",
       "    <tr>\n",
       "      <th>247</th>\n",
       "      <td>248.</td>\n",
       "      <td>姊妹</td>\n",
       "      <td>(2011)</td>\n",
       "      <td>None</td>\n",
       "    </tr>\n",
       "    <tr>\n",
       "      <th>248</th>\n",
       "      <td>249.</td>\n",
       "      <td>阿拉丁</td>\n",
       "      <td>(1992)</td>\n",
       "      <td>None</td>\n",
       "    </tr>\n",
       "    <tr>\n",
       "      <th>249</th>\n",
       "      <td>250.</td>\n",
       "      <td>與狼共舞</td>\n",
       "      <td>(1990)</td>\n",
       "      <td>None</td>\n",
       "    </tr>\n",
       "  </tbody>\n",
       "</table>\n",
       "<p>250 rows × 4 columns</p>\n",
       "</div>"
      ],
      "text/plain": [
       "        0       1       2     3\n",
       "0      1.  刺激1995  (1994)  None\n",
       "1      2.      教父  (1972)  None\n",
       "2      3.    黑暗騎士  (2008)  None\n",
       "3      4.     教父2  (1974)  None\n",
       "4      5.    十二怒漢  (1957)  None\n",
       "..    ...     ...     ...   ...\n",
       "245  246.    萬世魔星  (1979)  None\n",
       "246  247.     鐵巨人  (1999)  None\n",
       "247  248.      姊妹  (2011)  None\n",
       "248  249.     阿拉丁  (1992)  None\n",
       "249  250.    與狼共舞  (1990)  None\n",
       "\n",
       "[250 rows x 4 columns]"
      ]
     },
     "execution_count": 31,
     "metadata": {},
     "output_type": "execute_result"
    }
   ],
   "source": [
    "html_table['Rank & Title'].str.split(expand=True)"
   ]
  },
  {
   "cell_type": "markdown",
   "metadata": {
    "slideshow": {
     "slide_type": "subslide"
    }
   },
   "source": [
    "## Replacing strings with `str.replace`"
   ]
  },
  {
   "cell_type": "code",
   "execution_count": 32,
   "metadata": {},
   "outputs": [
    {
     "data": {
      "text/plain": [
       "0        1\n",
       "1        2\n",
       "2        3\n",
       "3        4\n",
       "4        5\n",
       "      ... \n",
       "245    246\n",
       "246    247\n",
       "247    248\n",
       "248    249\n",
       "249    250\n",
       "Name: 0, Length: 250, dtype: object"
      ]
     },
     "execution_count": 32,
     "metadata": {},
     "output_type": "execute_result"
    }
   ],
   "source": [
    "split_dataframe = html_table['Rank & Title'].str.split(expand=True)\n",
    "ranks = split_dataframe[0].str.replace(\".\", '', regex=False)\n",
    "ranks"
   ]
  },
  {
   "cell_type": "code",
   "execution_count": 33,
   "metadata": {
    "slideshow": {
     "slide_type": "subslide"
    }
   },
   "outputs": [
    {
     "data": {
      "text/plain": [
       "0      1994\n",
       "1      1972\n",
       "2      2008\n",
       "3      1974\n",
       "4      1957\n",
       "       ... \n",
       "245    1979\n",
       "246    1999\n",
       "247    2011\n",
       "248    1992\n",
       "249    1990\n",
       "Name: 2, Length: 250, dtype: object"
      ]
     },
     "execution_count": 33,
     "metadata": {},
     "output_type": "execute_result"
    }
   ],
   "source": [
    "split_dataframe = html_table['Rank & Title'].str.split(expand=True)\n",
    "years = split_dataframe[2].str.replace(\"\\(|\\)\", '', regex=True)\n",
    "years"
   ]
  },
  {
   "cell_type": "markdown",
   "metadata": {
    "slideshow": {
     "slide_type": "subslide"
    }
   },
   "source": [
    "## Testing for strings that match or contain a pattern with `str.contains`"
   ]
  },
  {
   "cell_type": "code",
   "execution_count": 34,
   "metadata": {},
   "outputs": [
    {
     "name": "stdout",
     "output_type": "stream",
     "text": [
      "3\n"
     ]
    },
    {
     "data": {
      "text/html": [
       "<div>\n",
       "<style scoped>\n",
       "    .dataframe tbody tr th:only-of-type {\n",
       "        vertical-align: middle;\n",
       "    }\n",
       "\n",
       "    .dataframe tbody tr th {\n",
       "        vertical-align: top;\n",
       "    }\n",
       "\n",
       "    .dataframe thead th {\n",
       "        text-align: right;\n",
       "    }\n",
       "</style>\n",
       "<table border=\"1\" class=\"dataframe\">\n",
       "  <thead>\n",
       "    <tr style=\"text-align: right;\">\n",
       "      <th></th>\n",
       "      <th>Unnamed: 0</th>\n",
       "      <th>Rank &amp; Title</th>\n",
       "      <th>IMDb Rating</th>\n",
       "      <th>Your Rating</th>\n",
       "      <th>Unnamed: 4</th>\n",
       "    </tr>\n",
       "  </thead>\n",
       "  <tbody>\n",
       "    <tr>\n",
       "      <th>6</th>\n",
       "      <td>NaN</td>\n",
       "      <td>7.  魔戒三部曲：王者再臨  (2003)</td>\n",
       "      <td>8.9</td>\n",
       "      <td>12345678910 NOT YET RELEASED  Seen</td>\n",
       "      <td>NaN</td>\n",
       "    </tr>\n",
       "    <tr>\n",
       "      <th>8</th>\n",
       "      <td>NaN</td>\n",
       "      <td>9.  魔戒首部曲：魔戒現身  (2001)</td>\n",
       "      <td>8.8</td>\n",
       "      <td>12345678910 NOT YET RELEASED  Seen</td>\n",
       "      <td>NaN</td>\n",
       "    </tr>\n",
       "    <tr>\n",
       "      <th>12</th>\n",
       "      <td>NaN</td>\n",
       "      <td>13.  魔戒二部曲：雙城奇謀  (2002)</td>\n",
       "      <td>8.7</td>\n",
       "      <td>12345678910 NOT YET RELEASED  Seen</td>\n",
       "      <td>NaN</td>\n",
       "    </tr>\n",
       "  </tbody>\n",
       "</table>\n",
       "</div>"
      ],
      "text/plain": [
       "    Unnamed: 0             Rank & Title  IMDb Rating  \\\n",
       "6          NaN   7.  魔戒三部曲：王者再臨  (2003)          8.9   \n",
       "8          NaN   9.  魔戒首部曲：魔戒現身  (2001)          8.8   \n",
       "12         NaN  13.  魔戒二部曲：雙城奇謀  (2002)          8.7   \n",
       "\n",
       "                           Your Rating  Unnamed: 4  \n",
       "6   12345678910 NOT YET RELEASED  Seen         NaN  \n",
       "8   12345678910 NOT YET RELEASED  Seen         NaN  \n",
       "12  12345678910 NOT YET RELEASED  Seen         NaN  "
      ]
     },
     "execution_count": 34,
     "metadata": {},
     "output_type": "execute_result"
    }
   ],
   "source": [
    "print(html_table['Rank & Title'].str.contains('魔戒').sum())\n",
    "html_table[html_table['Rank & Title'].str.contains('魔戒')]"
   ]
  },
  {
   "cell_type": "markdown",
   "metadata": {
    "slideshow": {
     "slide_type": "subslide"
    }
   },
   "source": [
    "## Two formats of a table\n",
    "\n",
    "- Wide: data is presented with each different data variable in a separate column.\n",
    "- Long: data is presented with one column containing all the values and another column listing the context of the value.\n",
    "\n",
    "Source: <https://en.wikipedia.org/wiki/Wide_and_narrow_data>"
   ]
  },
  {
   "cell_type": "markdown",
   "metadata": {
    "slideshow": {
     "slide_type": "subslide"
    }
   },
   "source": [
    "## Wide, or unstacked data"
   ]
  },
  {
   "cell_type": "code",
   "execution_count": 35,
   "metadata": {
    "slideshow": {
     "slide_type": "-"
    }
   },
   "outputs": [
    {
     "data": {
      "text/html": [
       "<div>\n",
       "<style scoped>\n",
       "    .dataframe tbody tr th:only-of-type {\n",
       "        vertical-align: middle;\n",
       "    }\n",
       "\n",
       "    .dataframe tbody tr th {\n",
       "        vertical-align: top;\n",
       "    }\n",
       "\n",
       "    .dataframe thead th {\n",
       "        text-align: right;\n",
       "    }\n",
       "</style>\n",
       "<table border=\"1\" class=\"dataframe\">\n",
       "  <thead>\n",
       "    <tr style=\"text-align: right;\">\n",
       "      <th></th>\n",
       "      <th>Person</th>\n",
       "      <th>Age</th>\n",
       "      <th>Weight</th>\n",
       "      <th>Height</th>\n",
       "    </tr>\n",
       "  </thead>\n",
       "  <tbody>\n",
       "    <tr>\n",
       "      <th>0</th>\n",
       "      <td>Bob</td>\n",
       "      <td>32</td>\n",
       "      <td>168</td>\n",
       "      <td>180</td>\n",
       "    </tr>\n",
       "    <tr>\n",
       "      <th>1</th>\n",
       "      <td>Alice</td>\n",
       "      <td>24</td>\n",
       "      <td>150</td>\n",
       "      <td>175</td>\n",
       "    </tr>\n",
       "    <tr>\n",
       "      <th>2</th>\n",
       "      <td>Steve</td>\n",
       "      <td>64</td>\n",
       "      <td>144</td>\n",
       "      <td>165</td>\n",
       "    </tr>\n",
       "  </tbody>\n",
       "</table>\n",
       "</div>"
      ],
      "text/plain": [
       "  Person  Age  Weight  Height\n",
       "0    Bob   32     168     180\n",
       "1  Alice   24     150     175\n",
       "2  Steve   64     144     165"
      ]
     },
     "execution_count": 35,
     "metadata": {},
     "output_type": "execute_result"
    }
   ],
   "source": [
    "request_url = \"https://en.wikipedia.org/wiki/Wide_and_narrow_data\"\n",
    "wide_format = pd.read_html(request_url)[0]\n",
    "wide_format"
   ]
  },
  {
   "cell_type": "markdown",
   "metadata": {
    "slideshow": {
     "slide_type": "subslide"
    }
   },
   "source": [
    "## Narrow, stacked, or long data"
   ]
  },
  {
   "cell_type": "code",
   "execution_count": 36,
   "metadata": {},
   "outputs": [
    {
     "data": {
      "text/html": [
       "<div>\n",
       "<style scoped>\n",
       "    .dataframe tbody tr th:only-of-type {\n",
       "        vertical-align: middle;\n",
       "    }\n",
       "\n",
       "    .dataframe tbody tr th {\n",
       "        vertical-align: top;\n",
       "    }\n",
       "\n",
       "    .dataframe thead th {\n",
       "        text-align: right;\n",
       "    }\n",
       "</style>\n",
       "<table border=\"1\" class=\"dataframe\">\n",
       "  <thead>\n",
       "    <tr style=\"text-align: right;\">\n",
       "      <th></th>\n",
       "      <th>Person</th>\n",
       "      <th>Variable</th>\n",
       "      <th>Value</th>\n",
       "    </tr>\n",
       "  </thead>\n",
       "  <tbody>\n",
       "    <tr>\n",
       "      <th>0</th>\n",
       "      <td>Bob</td>\n",
       "      <td>Age</td>\n",
       "      <td>32</td>\n",
       "    </tr>\n",
       "    <tr>\n",
       "      <th>1</th>\n",
       "      <td>Bob</td>\n",
       "      <td>Weight</td>\n",
       "      <td>168</td>\n",
       "    </tr>\n",
       "    <tr>\n",
       "      <th>2</th>\n",
       "      <td>Bob</td>\n",
       "      <td>Height</td>\n",
       "      <td>180</td>\n",
       "    </tr>\n",
       "    <tr>\n",
       "      <th>3</th>\n",
       "      <td>Alice</td>\n",
       "      <td>Age</td>\n",
       "      <td>24</td>\n",
       "    </tr>\n",
       "    <tr>\n",
       "      <th>4</th>\n",
       "      <td>Alice</td>\n",
       "      <td>Weight</td>\n",
       "      <td>150</td>\n",
       "    </tr>\n",
       "    <tr>\n",
       "      <th>5</th>\n",
       "      <td>Alice</td>\n",
       "      <td>Height</td>\n",
       "      <td>175</td>\n",
       "    </tr>\n",
       "    <tr>\n",
       "      <th>6</th>\n",
       "      <td>Steve</td>\n",
       "      <td>Age</td>\n",
       "      <td>64</td>\n",
       "    </tr>\n",
       "    <tr>\n",
       "      <th>7</th>\n",
       "      <td>Steve</td>\n",
       "      <td>Weight</td>\n",
       "      <td>144</td>\n",
       "    </tr>\n",
       "    <tr>\n",
       "      <th>8</th>\n",
       "      <td>Steve</td>\n",
       "      <td>Height</td>\n",
       "      <td>165</td>\n",
       "    </tr>\n",
       "  </tbody>\n",
       "</table>\n",
       "</div>"
      ],
      "text/plain": [
       "  Person Variable  Value\n",
       "0    Bob      Age     32\n",
       "1    Bob   Weight    168\n",
       "2    Bob   Height    180\n",
       "3  Alice      Age     24\n",
       "4  Alice   Weight    150\n",
       "5  Alice   Height    175\n",
       "6  Steve      Age     64\n",
       "7  Steve   Weight    144\n",
       "8  Steve   Height    165"
      ]
     },
     "execution_count": 36,
     "metadata": {},
     "output_type": "execute_result"
    }
   ],
   "source": [
    "request_url = \"https://en.wikipedia.org/wiki/Wide_and_narrow_data\"\n",
    "long_format = pd.read_html(request_url)[1]\n",
    "long_format"
   ]
  },
  {
   "cell_type": "markdown",
   "metadata": {
    "slideshow": {
     "slide_type": "subslide"
    }
   },
   "source": [
    "## Reshaping dataframes from wide to long format with `pd.melt()`"
   ]
  },
  {
   "cell_type": "code",
   "execution_count": 37,
   "metadata": {},
   "outputs": [
    {
     "data": {
      "text/html": [
       "<div>\n",
       "<style scoped>\n",
       "    .dataframe tbody tr th:only-of-type {\n",
       "        vertical-align: middle;\n",
       "    }\n",
       "\n",
       "    .dataframe tbody tr th {\n",
       "        vertical-align: top;\n",
       "    }\n",
       "\n",
       "    .dataframe thead th {\n",
       "        text-align: right;\n",
       "    }\n",
       "</style>\n",
       "<table border=\"1\" class=\"dataframe\">\n",
       "  <thead>\n",
       "    <tr style=\"text-align: right;\">\n",
       "      <th></th>\n",
       "      <th>Person</th>\n",
       "      <th>Variable</th>\n",
       "      <th>Value</th>\n",
       "    </tr>\n",
       "  </thead>\n",
       "  <tbody>\n",
       "    <tr>\n",
       "      <th>0</th>\n",
       "      <td>Bob</td>\n",
       "      <td>Age</td>\n",
       "      <td>32</td>\n",
       "    </tr>\n",
       "    <tr>\n",
       "      <th>1</th>\n",
       "      <td>Alice</td>\n",
       "      <td>Age</td>\n",
       "      <td>24</td>\n",
       "    </tr>\n",
       "    <tr>\n",
       "      <th>2</th>\n",
       "      <td>Steve</td>\n",
       "      <td>Age</td>\n",
       "      <td>64</td>\n",
       "    </tr>\n",
       "    <tr>\n",
       "      <th>3</th>\n",
       "      <td>Bob</td>\n",
       "      <td>Weight</td>\n",
       "      <td>168</td>\n",
       "    </tr>\n",
       "    <tr>\n",
       "      <th>4</th>\n",
       "      <td>Alice</td>\n",
       "      <td>Weight</td>\n",
       "      <td>150</td>\n",
       "    </tr>\n",
       "    <tr>\n",
       "      <th>5</th>\n",
       "      <td>Steve</td>\n",
       "      <td>Weight</td>\n",
       "      <td>144</td>\n",
       "    </tr>\n",
       "    <tr>\n",
       "      <th>6</th>\n",
       "      <td>Bob</td>\n",
       "      <td>Height</td>\n",
       "      <td>180</td>\n",
       "    </tr>\n",
       "    <tr>\n",
       "      <th>7</th>\n",
       "      <td>Alice</td>\n",
       "      <td>Height</td>\n",
       "      <td>175</td>\n",
       "    </tr>\n",
       "    <tr>\n",
       "      <th>8</th>\n",
       "      <td>Steve</td>\n",
       "      <td>Height</td>\n",
       "      <td>165</td>\n",
       "    </tr>\n",
       "  </tbody>\n",
       "</table>\n",
       "</div>"
      ],
      "text/plain": [
       "  Person Variable  Value\n",
       "0    Bob      Age     32\n",
       "1  Alice      Age     24\n",
       "2  Steve      Age     64\n",
       "3    Bob   Weight    168\n",
       "4  Alice   Weight    150\n",
       "5  Steve   Weight    144\n",
       "6    Bob   Height    180\n",
       "7  Alice   Height    175\n",
       "8  Steve   Height    165"
      ]
     },
     "execution_count": 37,
     "metadata": {},
     "output_type": "execute_result"
    }
   ],
   "source": [
    "pd.melt(wide_format, \n",
    "        id_vars=\"Person\", value_vars=[\"Age\", \"Weight\", \"Height\"],\n",
    "        var_name=\"Variable\", value_name=\"Value\")"
   ]
  },
  {
   "cell_type": "markdown",
   "metadata": {
    "slideshow": {
     "slide_type": "subslide"
    }
   },
   "source": [
    "## Reshaping dataframes from long to wide format with `pivot()`"
   ]
  },
  {
   "cell_type": "code",
   "execution_count": 38,
   "metadata": {},
   "outputs": [
    {
     "data": {
      "text/html": [
       "<div>\n",
       "<style scoped>\n",
       "    .dataframe tbody tr th:only-of-type {\n",
       "        vertical-align: middle;\n",
       "    }\n",
       "\n",
       "    .dataframe tbody tr th {\n",
       "        vertical-align: top;\n",
       "    }\n",
       "\n",
       "    .dataframe thead th {\n",
       "        text-align: right;\n",
       "    }\n",
       "</style>\n",
       "<table border=\"1\" class=\"dataframe\">\n",
       "  <thead>\n",
       "    <tr style=\"text-align: right;\">\n",
       "      <th></th>\n",
       "      <th>Person</th>\n",
       "      <th>Age</th>\n",
       "      <th>Height</th>\n",
       "      <th>Weight</th>\n",
       "    </tr>\n",
       "  </thead>\n",
       "  <tbody>\n",
       "    <tr>\n",
       "      <th>0</th>\n",
       "      <td>Alice</td>\n",
       "      <td>24</td>\n",
       "      <td>175</td>\n",
       "      <td>150</td>\n",
       "    </tr>\n",
       "    <tr>\n",
       "      <th>1</th>\n",
       "      <td>Bob</td>\n",
       "      <td>32</td>\n",
       "      <td>180</td>\n",
       "      <td>168</td>\n",
       "    </tr>\n",
       "    <tr>\n",
       "      <th>2</th>\n",
       "      <td>Steve</td>\n",
       "      <td>64</td>\n",
       "      <td>165</td>\n",
       "      <td>144</td>\n",
       "    </tr>\n",
       "  </tbody>\n",
       "</table>\n",
       "</div>"
      ],
      "text/plain": [
       "  Person  Age  Height  Weight\n",
       "0  Alice   24     175     150\n",
       "1    Bob   32     180     168\n",
       "2  Steve   64     165     144"
      ]
     },
     "execution_count": 38,
     "metadata": {},
     "output_type": "execute_result"
    }
   ],
   "source": [
    "long_format.pivot(index=\"Person\", columns=\"Variable\", values=\"Value\").reset_index().rename_axis(None, axis=1)"
   ]
  },
  {
   "cell_type": "markdown",
   "metadata": {
    "slideshow": {
     "slide_type": "subslide"
    }
   },
   "source": [
    "## A common problem is that a dataset where some of the column names are not names of variables, but values of a variable"
   ]
  },
  {
   "cell_type": "code",
   "execution_count": 39,
   "metadata": {},
   "outputs": [
    {
     "data": {
      "text/html": [
       "<div>\n",
       "<style scoped>\n",
       "    .dataframe tbody tr th:only-of-type {\n",
       "        vertical-align: middle;\n",
       "    }\n",
       "\n",
       "    .dataframe tbody tr th {\n",
       "        vertical-align: top;\n",
       "    }\n",
       "\n",
       "    .dataframe thead th {\n",
       "        text-align: right;\n",
       "    }\n",
       "</style>\n",
       "<table border=\"1\" class=\"dataframe\">\n",
       "  <thead>\n",
       "    <tr style=\"text-align: right;\">\n",
       "      <th></th>\n",
       "      <th>Province/State</th>\n",
       "      <th>Country/Region</th>\n",
       "      <th>Lat</th>\n",
       "      <th>Long</th>\n",
       "      <th>1/22/20</th>\n",
       "      <th>1/23/20</th>\n",
       "      <th>1/24/20</th>\n",
       "      <th>1/25/20</th>\n",
       "      <th>1/26/20</th>\n",
       "      <th>1/27/20</th>\n",
       "      <th>...</th>\n",
       "      <th>2/28/23</th>\n",
       "      <th>3/1/23</th>\n",
       "      <th>3/2/23</th>\n",
       "      <th>3/3/23</th>\n",
       "      <th>3/4/23</th>\n",
       "      <th>3/5/23</th>\n",
       "      <th>3/6/23</th>\n",
       "      <th>3/7/23</th>\n",
       "      <th>3/8/23</th>\n",
       "      <th>3/9/23</th>\n",
       "    </tr>\n",
       "  </thead>\n",
       "  <tbody>\n",
       "    <tr>\n",
       "      <th>0</th>\n",
       "      <td>NaN</td>\n",
       "      <td>Afghanistan</td>\n",
       "      <td>33.939110</td>\n",
       "      <td>67.709953</td>\n",
       "      <td>0</td>\n",
       "      <td>0</td>\n",
       "      <td>0</td>\n",
       "      <td>0</td>\n",
       "      <td>0</td>\n",
       "      <td>0</td>\n",
       "      <td>...</td>\n",
       "      <td>209322</td>\n",
       "      <td>209340</td>\n",
       "      <td>209358</td>\n",
       "      <td>209362</td>\n",
       "      <td>209369</td>\n",
       "      <td>209390</td>\n",
       "      <td>209406</td>\n",
       "      <td>209436</td>\n",
       "      <td>209451</td>\n",
       "      <td>209451</td>\n",
       "    </tr>\n",
       "    <tr>\n",
       "      <th>1</th>\n",
       "      <td>NaN</td>\n",
       "      <td>Albania</td>\n",
       "      <td>41.153300</td>\n",
       "      <td>20.168300</td>\n",
       "      <td>0</td>\n",
       "      <td>0</td>\n",
       "      <td>0</td>\n",
       "      <td>0</td>\n",
       "      <td>0</td>\n",
       "      <td>0</td>\n",
       "      <td>...</td>\n",
       "      <td>334391</td>\n",
       "      <td>334408</td>\n",
       "      <td>334408</td>\n",
       "      <td>334427</td>\n",
       "      <td>334427</td>\n",
       "      <td>334427</td>\n",
       "      <td>334427</td>\n",
       "      <td>334427</td>\n",
       "      <td>334443</td>\n",
       "      <td>334457</td>\n",
       "    </tr>\n",
       "    <tr>\n",
       "      <th>2</th>\n",
       "      <td>NaN</td>\n",
       "      <td>Algeria</td>\n",
       "      <td>28.033900</td>\n",
       "      <td>1.659600</td>\n",
       "      <td>0</td>\n",
       "      <td>0</td>\n",
       "      <td>0</td>\n",
       "      <td>0</td>\n",
       "      <td>0</td>\n",
       "      <td>0</td>\n",
       "      <td>...</td>\n",
       "      <td>271441</td>\n",
       "      <td>271448</td>\n",
       "      <td>271463</td>\n",
       "      <td>271469</td>\n",
       "      <td>271469</td>\n",
       "      <td>271477</td>\n",
       "      <td>271477</td>\n",
       "      <td>271490</td>\n",
       "      <td>271494</td>\n",
       "      <td>271496</td>\n",
       "    </tr>\n",
       "    <tr>\n",
       "      <th>3</th>\n",
       "      <td>NaN</td>\n",
       "      <td>Andorra</td>\n",
       "      <td>42.506300</td>\n",
       "      <td>1.521800</td>\n",
       "      <td>0</td>\n",
       "      <td>0</td>\n",
       "      <td>0</td>\n",
       "      <td>0</td>\n",
       "      <td>0</td>\n",
       "      <td>0</td>\n",
       "      <td>...</td>\n",
       "      <td>47866</td>\n",
       "      <td>47875</td>\n",
       "      <td>47875</td>\n",
       "      <td>47875</td>\n",
       "      <td>47875</td>\n",
       "      <td>47875</td>\n",
       "      <td>47875</td>\n",
       "      <td>47875</td>\n",
       "      <td>47890</td>\n",
       "      <td>47890</td>\n",
       "    </tr>\n",
       "    <tr>\n",
       "      <th>4</th>\n",
       "      <td>NaN</td>\n",
       "      <td>Angola</td>\n",
       "      <td>-11.202700</td>\n",
       "      <td>17.873900</td>\n",
       "      <td>0</td>\n",
       "      <td>0</td>\n",
       "      <td>0</td>\n",
       "      <td>0</td>\n",
       "      <td>0</td>\n",
       "      <td>0</td>\n",
       "      <td>...</td>\n",
       "      <td>105255</td>\n",
       "      <td>105277</td>\n",
       "      <td>105277</td>\n",
       "      <td>105277</td>\n",
       "      <td>105277</td>\n",
       "      <td>105277</td>\n",
       "      <td>105277</td>\n",
       "      <td>105277</td>\n",
       "      <td>105288</td>\n",
       "      <td>105288</td>\n",
       "    </tr>\n",
       "    <tr>\n",
       "      <th>...</th>\n",
       "      <td>...</td>\n",
       "      <td>...</td>\n",
       "      <td>...</td>\n",
       "      <td>...</td>\n",
       "      <td>...</td>\n",
       "      <td>...</td>\n",
       "      <td>...</td>\n",
       "      <td>...</td>\n",
       "      <td>...</td>\n",
       "      <td>...</td>\n",
       "      <td>...</td>\n",
       "      <td>...</td>\n",
       "      <td>...</td>\n",
       "      <td>...</td>\n",
       "      <td>...</td>\n",
       "      <td>...</td>\n",
       "      <td>...</td>\n",
       "      <td>...</td>\n",
       "      <td>...</td>\n",
       "      <td>...</td>\n",
       "      <td>...</td>\n",
       "    </tr>\n",
       "    <tr>\n",
       "      <th>284</th>\n",
       "      <td>NaN</td>\n",
       "      <td>West Bank and Gaza</td>\n",
       "      <td>31.952200</td>\n",
       "      <td>35.233200</td>\n",
       "      <td>0</td>\n",
       "      <td>0</td>\n",
       "      <td>0</td>\n",
       "      <td>0</td>\n",
       "      <td>0</td>\n",
       "      <td>0</td>\n",
       "      <td>...</td>\n",
       "      <td>703228</td>\n",
       "      <td>703228</td>\n",
       "      <td>703228</td>\n",
       "      <td>703228</td>\n",
       "      <td>703228</td>\n",
       "      <td>703228</td>\n",
       "      <td>703228</td>\n",
       "      <td>703228</td>\n",
       "      <td>703228</td>\n",
       "      <td>703228</td>\n",
       "    </tr>\n",
       "    <tr>\n",
       "      <th>285</th>\n",
       "      <td>NaN</td>\n",
       "      <td>Winter Olympics 2022</td>\n",
       "      <td>39.904200</td>\n",
       "      <td>116.407400</td>\n",
       "      <td>0</td>\n",
       "      <td>0</td>\n",
       "      <td>0</td>\n",
       "      <td>0</td>\n",
       "      <td>0</td>\n",
       "      <td>0</td>\n",
       "      <td>...</td>\n",
       "      <td>535</td>\n",
       "      <td>535</td>\n",
       "      <td>535</td>\n",
       "      <td>535</td>\n",
       "      <td>535</td>\n",
       "      <td>535</td>\n",
       "      <td>535</td>\n",
       "      <td>535</td>\n",
       "      <td>535</td>\n",
       "      <td>535</td>\n",
       "    </tr>\n",
       "    <tr>\n",
       "      <th>286</th>\n",
       "      <td>NaN</td>\n",
       "      <td>Yemen</td>\n",
       "      <td>15.552727</td>\n",
       "      <td>48.516388</td>\n",
       "      <td>0</td>\n",
       "      <td>0</td>\n",
       "      <td>0</td>\n",
       "      <td>0</td>\n",
       "      <td>0</td>\n",
       "      <td>0</td>\n",
       "      <td>...</td>\n",
       "      <td>11945</td>\n",
       "      <td>11945</td>\n",
       "      <td>11945</td>\n",
       "      <td>11945</td>\n",
       "      <td>11945</td>\n",
       "      <td>11945</td>\n",
       "      <td>11945</td>\n",
       "      <td>11945</td>\n",
       "      <td>11945</td>\n",
       "      <td>11945</td>\n",
       "    </tr>\n",
       "    <tr>\n",
       "      <th>287</th>\n",
       "      <td>NaN</td>\n",
       "      <td>Zambia</td>\n",
       "      <td>-13.133897</td>\n",
       "      <td>27.849332</td>\n",
       "      <td>0</td>\n",
       "      <td>0</td>\n",
       "      <td>0</td>\n",
       "      <td>0</td>\n",
       "      <td>0</td>\n",
       "      <td>0</td>\n",
       "      <td>...</td>\n",
       "      <td>343012</td>\n",
       "      <td>343012</td>\n",
       "      <td>343079</td>\n",
       "      <td>343079</td>\n",
       "      <td>343079</td>\n",
       "      <td>343135</td>\n",
       "      <td>343135</td>\n",
       "      <td>343135</td>\n",
       "      <td>343135</td>\n",
       "      <td>343135</td>\n",
       "    </tr>\n",
       "    <tr>\n",
       "      <th>288</th>\n",
       "      <td>NaN</td>\n",
       "      <td>Zimbabwe</td>\n",
       "      <td>-19.015438</td>\n",
       "      <td>29.154857</td>\n",
       "      <td>0</td>\n",
       "      <td>0</td>\n",
       "      <td>0</td>\n",
       "      <td>0</td>\n",
       "      <td>0</td>\n",
       "      <td>0</td>\n",
       "      <td>...</td>\n",
       "      <td>263921</td>\n",
       "      <td>264127</td>\n",
       "      <td>264127</td>\n",
       "      <td>264127</td>\n",
       "      <td>264127</td>\n",
       "      <td>264127</td>\n",
       "      <td>264127</td>\n",
       "      <td>264127</td>\n",
       "      <td>264276</td>\n",
       "      <td>264276</td>\n",
       "    </tr>\n",
       "  </tbody>\n",
       "</table>\n",
       "<p>289 rows × 1147 columns</p>\n",
       "</div>"
      ],
      "text/plain": [
       "    Province/State        Country/Region        Lat        Long  1/22/20  \\\n",
       "0              NaN           Afghanistan  33.939110   67.709953        0   \n",
       "1              NaN               Albania  41.153300   20.168300        0   \n",
       "2              NaN               Algeria  28.033900    1.659600        0   \n",
       "3              NaN               Andorra  42.506300    1.521800        0   \n",
       "4              NaN                Angola -11.202700   17.873900        0   \n",
       "..             ...                   ...        ...         ...      ...   \n",
       "284            NaN    West Bank and Gaza  31.952200   35.233200        0   \n",
       "285            NaN  Winter Olympics 2022  39.904200  116.407400        0   \n",
       "286            NaN                 Yemen  15.552727   48.516388        0   \n",
       "287            NaN                Zambia -13.133897   27.849332        0   \n",
       "288            NaN              Zimbabwe -19.015438   29.154857        0   \n",
       "\n",
       "     1/23/20  1/24/20  1/25/20  1/26/20  1/27/20  ...  2/28/23  3/1/23  \\\n",
       "0          0        0        0        0        0  ...   209322  209340   \n",
       "1          0        0        0        0        0  ...   334391  334408   \n",
       "2          0        0        0        0        0  ...   271441  271448   \n",
       "3          0        0        0        0        0  ...    47866   47875   \n",
       "4          0        0        0        0        0  ...   105255  105277   \n",
       "..       ...      ...      ...      ...      ...  ...      ...     ...   \n",
       "284        0        0        0        0        0  ...   703228  703228   \n",
       "285        0        0        0        0        0  ...      535     535   \n",
       "286        0        0        0        0        0  ...    11945   11945   \n",
       "287        0        0        0        0        0  ...   343012  343012   \n",
       "288        0        0        0        0        0  ...   263921  264127   \n",
       "\n",
       "     3/2/23  3/3/23  3/4/23  3/5/23  3/6/23  3/7/23  3/8/23  3/9/23  \n",
       "0    209358  209362  209369  209390  209406  209436  209451  209451  \n",
       "1    334408  334427  334427  334427  334427  334427  334443  334457  \n",
       "2    271463  271469  271469  271477  271477  271490  271494  271496  \n",
       "3     47875   47875   47875   47875   47875   47875   47890   47890  \n",
       "4    105277  105277  105277  105277  105277  105277  105288  105288  \n",
       "..      ...     ...     ...     ...     ...     ...     ...     ...  \n",
       "284  703228  703228  703228  703228  703228  703228  703228  703228  \n",
       "285     535     535     535     535     535     535     535     535  \n",
       "286   11945   11945   11945   11945   11945   11945   11945   11945  \n",
       "287  343079  343079  343079  343135  343135  343135  343135  343135  \n",
       "288  264127  264127  264127  264127  264127  264127  264276  264276  \n",
       "\n",
       "[289 rows x 1147 columns]"
      ]
     },
     "execution_count": 39,
     "metadata": {},
     "output_type": "execute_result"
    }
   ],
   "source": [
    "ts_confirmed_global_url = \"https://raw.githubusercontent.com/CSSEGISandData\\\n",
    "/COVID-19/master/csse_covid_19_data/csse_covid_19_time_series\\\n",
    "/time_series_covid19_confirmed_global.csv\"\n",
    "ts_confirmed_global = pd.read_csv(ts_confirmed_global_url)\n",
    "ts_confirmed_global"
   ]
  },
  {
   "cell_type": "markdown",
   "metadata": {
    "slideshow": {
     "slide_type": "subslide"
    }
   },
   "source": [
    "## We can pivot the columns into a new pair of variables\n",
    "\n",
    "To describe that operation we need four parameters:\n",
    "\n",
    "- The set of columns whose names are not values\n",
    "- The set of columns whose names are values\n",
    "- The name of the variable to move the column names to\n",
    "- The name of the variable to move the column values to"
   ]
  },
  {
   "cell_type": "markdown",
   "metadata": {
    "slideshow": {
     "slide_type": "subslide"
    }
   },
   "source": [
    "## In this example, the four parameters are\n",
    "\n",
    "- `id_vars`: `['Province/State', 'Country/Region', 'Lat', 'Long']`\n",
    "- `value_vars`: The columns from `1/22/20` to the last column\n",
    "- `var_name`: Let's name it `Date`\n",
    "- `value_name`: Let's name it `Confirmed`"
   ]
  },
  {
   "cell_type": "code",
   "execution_count": 40,
   "metadata": {
    "slideshow": {
     "slide_type": "subslide"
    }
   },
   "outputs": [
    {
     "data": {
      "text/html": [
       "<div>\n",
       "<style scoped>\n",
       "    .dataframe tbody tr th:only-of-type {\n",
       "        vertical-align: middle;\n",
       "    }\n",
       "\n",
       "    .dataframe tbody tr th {\n",
       "        vertical-align: top;\n",
       "    }\n",
       "\n",
       "    .dataframe thead th {\n",
       "        text-align: right;\n",
       "    }\n",
       "</style>\n",
       "<table border=\"1\" class=\"dataframe\">\n",
       "  <thead>\n",
       "    <tr style=\"text-align: right;\">\n",
       "      <th></th>\n",
       "      <th>Province/State</th>\n",
       "      <th>Country/Region</th>\n",
       "      <th>Lat</th>\n",
       "      <th>Long</th>\n",
       "      <th>Date</th>\n",
       "      <th>Confirmed</th>\n",
       "    </tr>\n",
       "  </thead>\n",
       "  <tbody>\n",
       "    <tr>\n",
       "      <th>0</th>\n",
       "      <td>NaN</td>\n",
       "      <td>Afghanistan</td>\n",
       "      <td>33.939110</td>\n",
       "      <td>67.709953</td>\n",
       "      <td>1/22/20</td>\n",
       "      <td>0</td>\n",
       "    </tr>\n",
       "    <tr>\n",
       "      <th>1</th>\n",
       "      <td>NaN</td>\n",
       "      <td>Albania</td>\n",
       "      <td>41.153300</td>\n",
       "      <td>20.168300</td>\n",
       "      <td>1/22/20</td>\n",
       "      <td>0</td>\n",
       "    </tr>\n",
       "    <tr>\n",
       "      <th>2</th>\n",
       "      <td>NaN</td>\n",
       "      <td>Algeria</td>\n",
       "      <td>28.033900</td>\n",
       "      <td>1.659600</td>\n",
       "      <td>1/22/20</td>\n",
       "      <td>0</td>\n",
       "    </tr>\n",
       "    <tr>\n",
       "      <th>3</th>\n",
       "      <td>NaN</td>\n",
       "      <td>Andorra</td>\n",
       "      <td>42.506300</td>\n",
       "      <td>1.521800</td>\n",
       "      <td>1/22/20</td>\n",
       "      <td>0</td>\n",
       "    </tr>\n",
       "    <tr>\n",
       "      <th>4</th>\n",
       "      <td>NaN</td>\n",
       "      <td>Angola</td>\n",
       "      <td>-11.202700</td>\n",
       "      <td>17.873900</td>\n",
       "      <td>1/22/20</td>\n",
       "      <td>0</td>\n",
       "    </tr>\n",
       "    <tr>\n",
       "      <th>...</th>\n",
       "      <td>...</td>\n",
       "      <td>...</td>\n",
       "      <td>...</td>\n",
       "      <td>...</td>\n",
       "      <td>...</td>\n",
       "      <td>...</td>\n",
       "    </tr>\n",
       "    <tr>\n",
       "      <th>330322</th>\n",
       "      <td>NaN</td>\n",
       "      <td>West Bank and Gaza</td>\n",
       "      <td>31.952200</td>\n",
       "      <td>35.233200</td>\n",
       "      <td>3/9/23</td>\n",
       "      <td>703228</td>\n",
       "    </tr>\n",
       "    <tr>\n",
       "      <th>330323</th>\n",
       "      <td>NaN</td>\n",
       "      <td>Winter Olympics 2022</td>\n",
       "      <td>39.904200</td>\n",
       "      <td>116.407400</td>\n",
       "      <td>3/9/23</td>\n",
       "      <td>535</td>\n",
       "    </tr>\n",
       "    <tr>\n",
       "      <th>330324</th>\n",
       "      <td>NaN</td>\n",
       "      <td>Yemen</td>\n",
       "      <td>15.552727</td>\n",
       "      <td>48.516388</td>\n",
       "      <td>3/9/23</td>\n",
       "      <td>11945</td>\n",
       "    </tr>\n",
       "    <tr>\n",
       "      <th>330325</th>\n",
       "      <td>NaN</td>\n",
       "      <td>Zambia</td>\n",
       "      <td>-13.133897</td>\n",
       "      <td>27.849332</td>\n",
       "      <td>3/9/23</td>\n",
       "      <td>343135</td>\n",
       "    </tr>\n",
       "    <tr>\n",
       "      <th>330326</th>\n",
       "      <td>NaN</td>\n",
       "      <td>Zimbabwe</td>\n",
       "      <td>-19.015438</td>\n",
       "      <td>29.154857</td>\n",
       "      <td>3/9/23</td>\n",
       "      <td>264276</td>\n",
       "    </tr>\n",
       "  </tbody>\n",
       "</table>\n",
       "<p>330327 rows × 6 columns</p>\n",
       "</div>"
      ],
      "text/plain": [
       "       Province/State        Country/Region        Lat        Long     Date  \\\n",
       "0                 NaN           Afghanistan  33.939110   67.709953  1/22/20   \n",
       "1                 NaN               Albania  41.153300   20.168300  1/22/20   \n",
       "2                 NaN               Algeria  28.033900    1.659600  1/22/20   \n",
       "3                 NaN               Andorra  42.506300    1.521800  1/22/20   \n",
       "4                 NaN                Angola -11.202700   17.873900  1/22/20   \n",
       "...               ...                   ...        ...         ...      ...   \n",
       "330322            NaN    West Bank and Gaza  31.952200   35.233200   3/9/23   \n",
       "330323            NaN  Winter Olympics 2022  39.904200  116.407400   3/9/23   \n",
       "330324            NaN                 Yemen  15.552727   48.516388   3/9/23   \n",
       "330325            NaN                Zambia -13.133897   27.849332   3/9/23   \n",
       "330326            NaN              Zimbabwe -19.015438   29.154857   3/9/23   \n",
       "\n",
       "        Confirmed  \n",
       "0               0  \n",
       "1               0  \n",
       "2               0  \n",
       "3               0  \n",
       "4               0  \n",
       "...           ...  \n",
       "330322     703228  \n",
       "330323        535  \n",
       "330324      11945  \n",
       "330325     343135  \n",
       "330326     264276  \n",
       "\n",
       "[330327 rows x 6 columns]"
      ]
     },
     "execution_count": 40,
     "metadata": {},
     "output_type": "execute_result"
    }
   ],
   "source": [
    "idVars = ['Province/State', 'Country/Region', 'Lat', 'Long']\n",
    "ts_confirmed_global_long = pd.melt(ts_confirmed_global,\n",
    "                                   id_vars=idVars,\n",
    "                                   var_name='Date',\n",
    "                                   value_name='Confirmed')\n",
    "ts_confirmed_global_long"
   ]
  },
  {
   "cell_type": "markdown",
   "metadata": {
    "slideshow": {
     "slide_type": "subslide"
    }
   },
   "source": [
    "## Concatenating, merging and joining dataframes\n",
    "\n",
    "- `concat()` vertically or horizontally.\n",
    "- `merge()` horizontally on column names.\n",
    "- `join()` horizontally on index."
   ]
  },
  {
   "cell_type": "code",
   "execution_count": 41,
   "metadata": {
    "slideshow": {
     "slide_type": "subslide"
    }
   },
   "outputs": [],
   "source": [
    "def get_top_rated_movies():\n",
    "    request_url = \"https://www.imdb.com/chart/top\"\n",
    "    html_tables = pd.read_html(request_url)\n",
    "    html_table = html_tables[0]\n",
    "    split_dataframe = html_table['Rank & Title'].str.split(expand=True)\n",
    "    ranks = split_dataframe[0].str.replace(\".\", '', regex=False).values\n",
    "    split_series = html_table['Rank & Title'].str.split()\n",
    "    years, titles = list(), list()\n",
    "    for lst in split_series:\n",
    "        year = re.sub(\"\\(|\\)\", '', lst[-1])\n",
    "        title = \" \".join(lst[1:-1])\n",
    "        years.append(int(year))\n",
    "        titles.append(title)\n",
    "    ratings = html_table['IMDb Rating'].values\n",
    "    out = pd.DataFrame()\n",
    "    out['rank'] = ranks\n",
    "    out['title'] = titles\n",
    "    out['year'] = years\n",
    "    out['rating'] = ratings\n",
    "    return out\n",
    "\n",
    "top_rated_movies = get_top_rated_movies()"
   ]
  },
  {
   "cell_type": "code",
   "execution_count": 42,
   "metadata": {
    "slideshow": {
     "slide_type": "subslide"
    }
   },
   "outputs": [
    {
     "data": {
      "text/html": [
       "<div>\n",
       "<style scoped>\n",
       "    .dataframe tbody tr th:only-of-type {\n",
       "        vertical-align: middle;\n",
       "    }\n",
       "\n",
       "    .dataframe tbody tr th {\n",
       "        vertical-align: top;\n",
       "    }\n",
       "\n",
       "    .dataframe thead th {\n",
       "        text-align: right;\n",
       "    }\n",
       "</style>\n",
       "<table border=\"1\" class=\"dataframe\">\n",
       "  <thead>\n",
       "    <tr style=\"text-align: right;\">\n",
       "      <th></th>\n",
       "      <th>rank</th>\n",
       "      <th>title</th>\n",
       "      <th>year</th>\n",
       "      <th>rating</th>\n",
       "    </tr>\n",
       "  </thead>\n",
       "  <tbody>\n",
       "    <tr>\n",
       "      <th>2</th>\n",
       "      <td>3</td>\n",
       "      <td>黑暗騎士</td>\n",
       "      <td>2008</td>\n",
       "      <td>9.0</td>\n",
       "    </tr>\n",
       "    <tr>\n",
       "      <th>68</th>\n",
       "      <td>69</td>\n",
       "      <td>黑暗騎士：黎明昇起</td>\n",
       "      <td>2012</td>\n",
       "      <td>8.3</td>\n",
       "    </tr>\n",
       "    <tr>\n",
       "      <th>126</th>\n",
       "      <td>127</td>\n",
       "      <td>蝙蝠俠：開戰時刻</td>\n",
       "      <td>2005</td>\n",
       "      <td>8.2</td>\n",
       "    </tr>\n",
       "  </tbody>\n",
       "</table>\n",
       "</div>"
      ],
      "text/plain": [
       "    rank      title  year  rating\n",
       "2      3       黑暗騎士  2008     9.0\n",
       "68    69  黑暗騎士：黎明昇起  2012     8.3\n",
       "126  127   蝙蝠俠：開戰時刻  2005     8.2"
      ]
     },
     "execution_count": 42,
     "metadata": {},
     "output_type": "execute_result"
    }
   ],
   "source": [
    "batman_trilogy = top_rated_movies[top_rated_movies[\"title\"].str.contains(\"蝙蝠俠|黑暗騎士\", regex=True)]\n",
    "batman_trilogy"
   ]
  },
  {
   "cell_type": "code",
   "execution_count": 43,
   "metadata": {
    "slideshow": {
     "slide_type": "subslide"
    }
   },
   "outputs": [
    {
     "data": {
      "text/html": [
       "<div>\n",
       "<style scoped>\n",
       "    .dataframe tbody tr th:only-of-type {\n",
       "        vertical-align: middle;\n",
       "    }\n",
       "\n",
       "    .dataframe tbody tr th {\n",
       "        vertical-align: top;\n",
       "    }\n",
       "\n",
       "    .dataframe thead th {\n",
       "        text-align: right;\n",
       "    }\n",
       "</style>\n",
       "<table border=\"1\" class=\"dataframe\">\n",
       "  <thead>\n",
       "    <tr style=\"text-align: right;\">\n",
       "      <th></th>\n",
       "      <th>rank</th>\n",
       "      <th>title</th>\n",
       "      <th>year</th>\n",
       "      <th>rating</th>\n",
       "    </tr>\n",
       "  </thead>\n",
       "  <tbody>\n",
       "    <tr>\n",
       "      <th>6</th>\n",
       "      <td>7</td>\n",
       "      <td>魔戒三部曲：王者再臨</td>\n",
       "      <td>2003</td>\n",
       "      <td>8.9</td>\n",
       "    </tr>\n",
       "    <tr>\n",
       "      <th>8</th>\n",
       "      <td>9</td>\n",
       "      <td>魔戒首部曲：魔戒現身</td>\n",
       "      <td>2001</td>\n",
       "      <td>8.8</td>\n",
       "    </tr>\n",
       "    <tr>\n",
       "      <th>12</th>\n",
       "      <td>13</td>\n",
       "      <td>魔戒二部曲：雙城奇謀</td>\n",
       "      <td>2002</td>\n",
       "      <td>8.7</td>\n",
       "    </tr>\n",
       "  </tbody>\n",
       "</table>\n",
       "</div>"
      ],
      "text/plain": [
       "   rank       title  year  rating\n",
       "6     7  魔戒三部曲：王者再臨  2003     8.9\n",
       "8     9  魔戒首部曲：魔戒現身  2001     8.8\n",
       "12   13  魔戒二部曲：雙城奇謀  2002     8.7"
      ]
     },
     "execution_count": 43,
     "metadata": {},
     "output_type": "execute_result"
    }
   ],
   "source": [
    "lord_of_the_rings_trilogy = top_rated_movies[top_rated_movies[\"title\"].str.contains(\"魔戒\", regex=False)]\n",
    "lord_of_the_rings_trilogy"
   ]
  },
  {
   "cell_type": "markdown",
   "metadata": {
    "slideshow": {
     "slide_type": "subslide"
    }
   },
   "source": [
    "## Use `concat()` function to concatenate vertically or horizontally"
   ]
  },
  {
   "cell_type": "code",
   "execution_count": 44,
   "metadata": {},
   "outputs": [
    {
     "data": {
      "text/html": [
       "<div>\n",
       "<style scoped>\n",
       "    .dataframe tbody tr th:only-of-type {\n",
       "        vertical-align: middle;\n",
       "    }\n",
       "\n",
       "    .dataframe tbody tr th {\n",
       "        vertical-align: top;\n",
       "    }\n",
       "\n",
       "    .dataframe thead th {\n",
       "        text-align: right;\n",
       "    }\n",
       "</style>\n",
       "<table border=\"1\" class=\"dataframe\">\n",
       "  <thead>\n",
       "    <tr style=\"text-align: right;\">\n",
       "      <th></th>\n",
       "      <th>rank</th>\n",
       "      <th>title</th>\n",
       "      <th>year</th>\n",
       "      <th>rating</th>\n",
       "    </tr>\n",
       "  </thead>\n",
       "  <tbody>\n",
       "    <tr>\n",
       "      <th>2</th>\n",
       "      <td>3</td>\n",
       "      <td>黑暗騎士</td>\n",
       "      <td>2008</td>\n",
       "      <td>9.0</td>\n",
       "    </tr>\n",
       "    <tr>\n",
       "      <th>68</th>\n",
       "      <td>69</td>\n",
       "      <td>黑暗騎士：黎明昇起</td>\n",
       "      <td>2012</td>\n",
       "      <td>8.3</td>\n",
       "    </tr>\n",
       "    <tr>\n",
       "      <th>126</th>\n",
       "      <td>127</td>\n",
       "      <td>蝙蝠俠：開戰時刻</td>\n",
       "      <td>2005</td>\n",
       "      <td>8.2</td>\n",
       "    </tr>\n",
       "    <tr>\n",
       "      <th>6</th>\n",
       "      <td>7</td>\n",
       "      <td>魔戒三部曲：王者再臨</td>\n",
       "      <td>2003</td>\n",
       "      <td>8.9</td>\n",
       "    </tr>\n",
       "    <tr>\n",
       "      <th>8</th>\n",
       "      <td>9</td>\n",
       "      <td>魔戒首部曲：魔戒現身</td>\n",
       "      <td>2001</td>\n",
       "      <td>8.8</td>\n",
       "    </tr>\n",
       "    <tr>\n",
       "      <th>12</th>\n",
       "      <td>13</td>\n",
       "      <td>魔戒二部曲：雙城奇謀</td>\n",
       "      <td>2002</td>\n",
       "      <td>8.7</td>\n",
       "    </tr>\n",
       "  </tbody>\n",
       "</table>\n",
       "</div>"
      ],
      "text/plain": [
       "    rank       title  year  rating\n",
       "2      3        黑暗騎士  2008     9.0\n",
       "68    69   黑暗騎士：黎明昇起  2012     8.3\n",
       "126  127    蝙蝠俠：開戰時刻  2005     8.2\n",
       "6      7  魔戒三部曲：王者再臨  2003     8.9\n",
       "8      9  魔戒首部曲：魔戒現身  2001     8.8\n",
       "12    13  魔戒二部曲：雙城奇謀  2002     8.7"
      ]
     },
     "execution_count": 44,
     "metadata": {},
     "output_type": "execute_result"
    }
   ],
   "source": [
    "pd.concat((batman_trilogy, lord_of_the_rings_trilogy))"
   ]
  },
  {
   "cell_type": "code",
   "execution_count": 45,
   "metadata": {
    "slideshow": {
     "slide_type": "subslide"
    }
   },
   "outputs": [
    {
     "data": {
      "text/html": [
       "<div>\n",
       "<style scoped>\n",
       "    .dataframe tbody tr th:only-of-type {\n",
       "        vertical-align: middle;\n",
       "    }\n",
       "\n",
       "    .dataframe tbody tr th {\n",
       "        vertical-align: top;\n",
       "    }\n",
       "\n",
       "    .dataframe thead th {\n",
       "        text-align: right;\n",
       "    }\n",
       "</style>\n",
       "<table border=\"1\" class=\"dataframe\">\n",
       "  <thead>\n",
       "    <tr style=\"text-align: right;\">\n",
       "      <th></th>\n",
       "      <th>title</th>\n",
       "      <th>title</th>\n",
       "    </tr>\n",
       "  </thead>\n",
       "  <tbody>\n",
       "    <tr>\n",
       "      <th>2</th>\n",
       "      <td>黑暗騎士</td>\n",
       "      <td>NaN</td>\n",
       "    </tr>\n",
       "    <tr>\n",
       "      <th>68</th>\n",
       "      <td>黑暗騎士：黎明昇起</td>\n",
       "      <td>NaN</td>\n",
       "    </tr>\n",
       "    <tr>\n",
       "      <th>126</th>\n",
       "      <td>蝙蝠俠：開戰時刻</td>\n",
       "      <td>NaN</td>\n",
       "    </tr>\n",
       "    <tr>\n",
       "      <th>6</th>\n",
       "      <td>NaN</td>\n",
       "      <td>魔戒三部曲：王者再臨</td>\n",
       "    </tr>\n",
       "    <tr>\n",
       "      <th>8</th>\n",
       "      <td>NaN</td>\n",
       "      <td>魔戒首部曲：魔戒現身</td>\n",
       "    </tr>\n",
       "    <tr>\n",
       "      <th>12</th>\n",
       "      <td>NaN</td>\n",
       "      <td>魔戒二部曲：雙城奇謀</td>\n",
       "    </tr>\n",
       "  </tbody>\n",
       "</table>\n",
       "</div>"
      ],
      "text/plain": [
       "         title       title\n",
       "2         黑暗騎士         NaN\n",
       "68   黑暗騎士：黎明昇起         NaN\n",
       "126   蝙蝠俠：開戰時刻         NaN\n",
       "6          NaN  魔戒三部曲：王者再臨\n",
       "8          NaN  魔戒首部曲：魔戒現身\n",
       "12         NaN  魔戒二部曲：雙城奇謀"
      ]
     },
     "execution_count": 45,
     "metadata": {},
     "output_type": "execute_result"
    }
   ],
   "source": [
    "pd.concat((batman_trilogy[\"title\"], lord_of_the_rings_trilogy[\"title\"]), axis=1)"
   ]
  },
  {
   "cell_type": "code",
   "execution_count": 46,
   "metadata": {
    "slideshow": {
     "slide_type": "subslide"
    }
   },
   "outputs": [
    {
     "data": {
      "text/html": [
       "<div>\n",
       "<style scoped>\n",
       "    .dataframe tbody tr th:only-of-type {\n",
       "        vertical-align: middle;\n",
       "    }\n",
       "\n",
       "    .dataframe tbody tr th {\n",
       "        vertical-align: top;\n",
       "    }\n",
       "\n",
       "    .dataframe thead th {\n",
       "        text-align: right;\n",
       "    }\n",
       "</style>\n",
       "<table border=\"1\" class=\"dataframe\">\n",
       "  <thead>\n",
       "    <tr style=\"text-align: right;\">\n",
       "      <th></th>\n",
       "      <th>title</th>\n",
       "      <th>title</th>\n",
       "    </tr>\n",
       "  </thead>\n",
       "  <tbody>\n",
       "    <tr>\n",
       "      <th>0</th>\n",
       "      <td>黑暗騎士</td>\n",
       "      <td>魔戒三部曲：王者再臨</td>\n",
       "    </tr>\n",
       "    <tr>\n",
       "      <th>1</th>\n",
       "      <td>黑暗騎士：黎明昇起</td>\n",
       "      <td>魔戒首部曲：魔戒現身</td>\n",
       "    </tr>\n",
       "    <tr>\n",
       "      <th>2</th>\n",
       "      <td>蝙蝠俠：開戰時刻</td>\n",
       "      <td>魔戒二部曲：雙城奇謀</td>\n",
       "    </tr>\n",
       "  </tbody>\n",
       "</table>\n",
       "</div>"
      ],
      "text/plain": [
       "       title       title\n",
       "0       黑暗騎士  魔戒三部曲：王者再臨\n",
       "1  黑暗騎士：黎明昇起  魔戒首部曲：魔戒現身\n",
       "2   蝙蝠俠：開戰時刻  魔戒二部曲：雙城奇謀"
      ]
     },
     "execution_count": 46,
     "metadata": {},
     "output_type": "execute_result"
    }
   ],
   "source": [
    "pd.concat((batman_trilogy[\"title\"].reset_index(drop=True),\n",
    "           lord_of_the_rings_trilogy[\"title\"].reset_index(drop=True)),\n",
    "          axis=1)"
   ]
  },
  {
   "cell_type": "code",
   "execution_count": 47,
   "metadata": {
    "slideshow": {
     "slide_type": "subslide"
    }
   },
   "outputs": [
    {
     "data": {
      "text/html": [
       "<div>\n",
       "<style scoped>\n",
       "    .dataframe tbody tr th:only-of-type {\n",
       "        vertical-align: middle;\n",
       "    }\n",
       "\n",
       "    .dataframe tbody tr th {\n",
       "        vertical-align: top;\n",
       "    }\n",
       "\n",
       "    .dataframe thead th {\n",
       "        text-align: right;\n",
       "    }\n",
       "</style>\n",
       "<table border=\"1\" class=\"dataframe\">\n",
       "  <thead>\n",
       "    <tr style=\"text-align: right;\">\n",
       "      <th></th>\n",
       "      <th>title</th>\n",
       "      <th>year</th>\n",
       "    </tr>\n",
       "  </thead>\n",
       "  <tbody>\n",
       "    <tr>\n",
       "      <th>0</th>\n",
       "      <td>刺激1995</td>\n",
       "      <td>1994</td>\n",
       "    </tr>\n",
       "    <tr>\n",
       "      <th>1</th>\n",
       "      <td>教父</td>\n",
       "      <td>1972</td>\n",
       "    </tr>\n",
       "    <tr>\n",
       "      <th>2</th>\n",
       "      <td>黑暗騎士</td>\n",
       "      <td>2008</td>\n",
       "    </tr>\n",
       "    <tr>\n",
       "      <th>3</th>\n",
       "      <td>教父2</td>\n",
       "      <td>1974</td>\n",
       "    </tr>\n",
       "    <tr>\n",
       "      <th>4</th>\n",
       "      <td>十二怒漢</td>\n",
       "      <td>1957</td>\n",
       "    </tr>\n",
       "    <tr>\n",
       "      <th>5</th>\n",
       "      <td>辛德勒的名單</td>\n",
       "      <td>1993</td>\n",
       "    </tr>\n",
       "    <tr>\n",
       "      <th>6</th>\n",
       "      <td>魔戒三部曲：王者再臨</td>\n",
       "      <td>2003</td>\n",
       "    </tr>\n",
       "    <tr>\n",
       "      <th>7</th>\n",
       "      <td>黑色追緝令</td>\n",
       "      <td>1994</td>\n",
       "    </tr>\n",
       "    <tr>\n",
       "      <th>8</th>\n",
       "      <td>魔戒首部曲：魔戒現身</td>\n",
       "      <td>2001</td>\n",
       "    </tr>\n",
       "    <tr>\n",
       "      <th>9</th>\n",
       "      <td>黃昏三鏢客</td>\n",
       "      <td>1966</td>\n",
       "    </tr>\n",
       "  </tbody>\n",
       "</table>\n",
       "</div>"
      ],
      "text/plain": [
       "        title  year\n",
       "0      刺激1995  1994\n",
       "1          教父  1972\n",
       "2        黑暗騎士  2008\n",
       "3         教父2  1974\n",
       "4        十二怒漢  1957\n",
       "5      辛德勒的名單  1993\n",
       "6  魔戒三部曲：王者再臨  2003\n",
       "7       黑色追緝令  1994\n",
       "8  魔戒首部曲：魔戒現身  2001\n",
       "9       黃昏三鏢客  1966"
      ]
     },
     "execution_count": 47,
     "metadata": {},
     "output_type": "execute_result"
    }
   ],
   "source": [
    "left_df = top_rated_movies.loc[:9, ['title', 'year']]\n",
    "right_df = top_rated_movies[top_rated_movies['title'].str.contains('魔戒')][['title', 'rating']].reset_index(drop=True)\n",
    "left_df"
   ]
  },
  {
   "cell_type": "code",
   "execution_count": 48,
   "metadata": {
    "slideshow": {
     "slide_type": "subslide"
    }
   },
   "outputs": [
    {
     "data": {
      "text/html": [
       "<div>\n",
       "<style scoped>\n",
       "    .dataframe tbody tr th:only-of-type {\n",
       "        vertical-align: middle;\n",
       "    }\n",
       "\n",
       "    .dataframe tbody tr th {\n",
       "        vertical-align: top;\n",
       "    }\n",
       "\n",
       "    .dataframe thead th {\n",
       "        text-align: right;\n",
       "    }\n",
       "</style>\n",
       "<table border=\"1\" class=\"dataframe\">\n",
       "  <thead>\n",
       "    <tr style=\"text-align: right;\">\n",
       "      <th></th>\n",
       "      <th>title</th>\n",
       "      <th>rating</th>\n",
       "    </tr>\n",
       "  </thead>\n",
       "  <tbody>\n",
       "    <tr>\n",
       "      <th>0</th>\n",
       "      <td>魔戒三部曲：王者再臨</td>\n",
       "      <td>8.9</td>\n",
       "    </tr>\n",
       "    <tr>\n",
       "      <th>1</th>\n",
       "      <td>魔戒首部曲：魔戒現身</td>\n",
       "      <td>8.8</td>\n",
       "    </tr>\n",
       "    <tr>\n",
       "      <th>2</th>\n",
       "      <td>魔戒二部曲：雙城奇謀</td>\n",
       "      <td>8.7</td>\n",
       "    </tr>\n",
       "  </tbody>\n",
       "</table>\n",
       "</div>"
      ],
      "text/plain": [
       "        title  rating\n",
       "0  魔戒三部曲：王者再臨     8.9\n",
       "1  魔戒首部曲：魔戒現身     8.8\n",
       "2  魔戒二部曲：雙城奇謀     8.7"
      ]
     },
     "execution_count": 48,
     "metadata": {},
     "output_type": "execute_result"
    }
   ],
   "source": [
    "right_df"
   ]
  },
  {
   "cell_type": "markdown",
   "metadata": {
    "slideshow": {
     "slide_type": "subslide"
    }
   },
   "source": [
    "## Using `merge` function to join dataframes on columns"
   ]
  },
  {
   "cell_type": "code",
   "execution_count": 49,
   "metadata": {},
   "outputs": [
    {
     "data": {
      "text/html": [
       "<div>\n",
       "<style scoped>\n",
       "    .dataframe tbody tr th:only-of-type {\n",
       "        vertical-align: middle;\n",
       "    }\n",
       "\n",
       "    .dataframe tbody tr th {\n",
       "        vertical-align: top;\n",
       "    }\n",
       "\n",
       "    .dataframe thead th {\n",
       "        text-align: right;\n",
       "    }\n",
       "</style>\n",
       "<table border=\"1\" class=\"dataframe\">\n",
       "  <thead>\n",
       "    <tr style=\"text-align: right;\">\n",
       "      <th></th>\n",
       "      <th>title</th>\n",
       "      <th>year</th>\n",
       "      <th>rating</th>\n",
       "    </tr>\n",
       "  </thead>\n",
       "  <tbody>\n",
       "    <tr>\n",
       "      <th>0</th>\n",
       "      <td>魔戒三部曲：王者再臨</td>\n",
       "      <td>2003</td>\n",
       "      <td>8.9</td>\n",
       "    </tr>\n",
       "    <tr>\n",
       "      <th>1</th>\n",
       "      <td>魔戒首部曲：魔戒現身</td>\n",
       "      <td>2001</td>\n",
       "      <td>8.8</td>\n",
       "    </tr>\n",
       "  </tbody>\n",
       "</table>\n",
       "</div>"
      ],
      "text/plain": [
       "        title  year  rating\n",
       "0  魔戒三部曲：王者再臨  2003     8.9\n",
       "1  魔戒首部曲：魔戒現身  2001     8.8"
      ]
     },
     "execution_count": 49,
     "metadata": {},
     "output_type": "execute_result"
    }
   ],
   "source": [
    "# default: inner join\n",
    "pd.merge(left_df, right_df)"
   ]
  },
  {
   "cell_type": "code",
   "execution_count": 50,
   "metadata": {
    "slideshow": {
     "slide_type": "subslide"
    }
   },
   "outputs": [
    {
     "data": {
      "text/html": [
       "<div>\n",
       "<style scoped>\n",
       "    .dataframe tbody tr th:only-of-type {\n",
       "        vertical-align: middle;\n",
       "    }\n",
       "\n",
       "    .dataframe tbody tr th {\n",
       "        vertical-align: top;\n",
       "    }\n",
       "\n",
       "    .dataframe thead th {\n",
       "        text-align: right;\n",
       "    }\n",
       "</style>\n",
       "<table border=\"1\" class=\"dataframe\">\n",
       "  <thead>\n",
       "    <tr style=\"text-align: right;\">\n",
       "      <th></th>\n",
       "      <th>title</th>\n",
       "      <th>year</th>\n",
       "      <th>rating</th>\n",
       "    </tr>\n",
       "  </thead>\n",
       "  <tbody>\n",
       "    <tr>\n",
       "      <th>0</th>\n",
       "      <td>刺激1995</td>\n",
       "      <td>1994</td>\n",
       "      <td>NaN</td>\n",
       "    </tr>\n",
       "    <tr>\n",
       "      <th>1</th>\n",
       "      <td>教父</td>\n",
       "      <td>1972</td>\n",
       "      <td>NaN</td>\n",
       "    </tr>\n",
       "    <tr>\n",
       "      <th>2</th>\n",
       "      <td>黑暗騎士</td>\n",
       "      <td>2008</td>\n",
       "      <td>NaN</td>\n",
       "    </tr>\n",
       "    <tr>\n",
       "      <th>3</th>\n",
       "      <td>教父2</td>\n",
       "      <td>1974</td>\n",
       "      <td>NaN</td>\n",
       "    </tr>\n",
       "    <tr>\n",
       "      <th>4</th>\n",
       "      <td>十二怒漢</td>\n",
       "      <td>1957</td>\n",
       "      <td>NaN</td>\n",
       "    </tr>\n",
       "    <tr>\n",
       "      <th>5</th>\n",
       "      <td>辛德勒的名單</td>\n",
       "      <td>1993</td>\n",
       "      <td>NaN</td>\n",
       "    </tr>\n",
       "    <tr>\n",
       "      <th>6</th>\n",
       "      <td>魔戒三部曲：王者再臨</td>\n",
       "      <td>2003</td>\n",
       "      <td>8.9</td>\n",
       "    </tr>\n",
       "    <tr>\n",
       "      <th>7</th>\n",
       "      <td>黑色追緝令</td>\n",
       "      <td>1994</td>\n",
       "      <td>NaN</td>\n",
       "    </tr>\n",
       "    <tr>\n",
       "      <th>8</th>\n",
       "      <td>魔戒首部曲：魔戒現身</td>\n",
       "      <td>2001</td>\n",
       "      <td>8.8</td>\n",
       "    </tr>\n",
       "    <tr>\n",
       "      <th>9</th>\n",
       "      <td>黃昏三鏢客</td>\n",
       "      <td>1966</td>\n",
       "      <td>NaN</td>\n",
       "    </tr>\n",
       "  </tbody>\n",
       "</table>\n",
       "</div>"
      ],
      "text/plain": [
       "        title  year  rating\n",
       "0      刺激1995  1994     NaN\n",
       "1          教父  1972     NaN\n",
       "2        黑暗騎士  2008     NaN\n",
       "3         教父2  1974     NaN\n",
       "4        十二怒漢  1957     NaN\n",
       "5      辛德勒的名單  1993     NaN\n",
       "6  魔戒三部曲：王者再臨  2003     8.9\n",
       "7       黑色追緝令  1994     NaN\n",
       "8  魔戒首部曲：魔戒現身  2001     8.8\n",
       "9       黃昏三鏢客  1966     NaN"
      ]
     },
     "execution_count": 50,
     "metadata": {},
     "output_type": "execute_result"
    }
   ],
   "source": [
    "# left join\n",
    "pd.merge(left_df, right_df, how='left')"
   ]
  },
  {
   "cell_type": "code",
   "execution_count": 51,
   "metadata": {
    "slideshow": {
     "slide_type": "subslide"
    }
   },
   "outputs": [
    {
     "data": {
      "text/html": [
       "<div>\n",
       "<style scoped>\n",
       "    .dataframe tbody tr th:only-of-type {\n",
       "        vertical-align: middle;\n",
       "    }\n",
       "\n",
       "    .dataframe tbody tr th {\n",
       "        vertical-align: top;\n",
       "    }\n",
       "\n",
       "    .dataframe thead th {\n",
       "        text-align: right;\n",
       "    }\n",
       "</style>\n",
       "<table border=\"1\" class=\"dataframe\">\n",
       "  <thead>\n",
       "    <tr style=\"text-align: right;\">\n",
       "      <th></th>\n",
       "      <th>title</th>\n",
       "      <th>year</th>\n",
       "      <th>rating</th>\n",
       "    </tr>\n",
       "  </thead>\n",
       "  <tbody>\n",
       "    <tr>\n",
       "      <th>0</th>\n",
       "      <td>魔戒三部曲：王者再臨</td>\n",
       "      <td>2003.0</td>\n",
       "      <td>8.9</td>\n",
       "    </tr>\n",
       "    <tr>\n",
       "      <th>1</th>\n",
       "      <td>魔戒首部曲：魔戒現身</td>\n",
       "      <td>2001.0</td>\n",
       "      <td>8.8</td>\n",
       "    </tr>\n",
       "    <tr>\n",
       "      <th>2</th>\n",
       "      <td>魔戒二部曲：雙城奇謀</td>\n",
       "      <td>NaN</td>\n",
       "      <td>8.7</td>\n",
       "    </tr>\n",
       "  </tbody>\n",
       "</table>\n",
       "</div>"
      ],
      "text/plain": [
       "        title    year  rating\n",
       "0  魔戒三部曲：王者再臨  2003.0     8.9\n",
       "1  魔戒首部曲：魔戒現身  2001.0     8.8\n",
       "2  魔戒二部曲：雙城奇謀     NaN     8.7"
      ]
     },
     "execution_count": 51,
     "metadata": {},
     "output_type": "execute_result"
    }
   ],
   "source": [
    "# right join\n",
    "pd.merge(left_df, right_df, how='right')"
   ]
  },
  {
   "cell_type": "markdown",
   "metadata": {
    "slideshow": {
     "slide_type": "subslide"
    }
   },
   "source": [
    "## Using `join` method to join dataframes on index"
   ]
  },
  {
   "cell_type": "code",
   "execution_count": 52,
   "metadata": {
    "slideshow": {
     "slide_type": "-"
    }
   },
   "outputs": [
    {
     "data": {
      "text/html": [
       "<div>\n",
       "<style scoped>\n",
       "    .dataframe tbody tr th:only-of-type {\n",
       "        vertical-align: middle;\n",
       "    }\n",
       "\n",
       "    .dataframe tbody tr th {\n",
       "        vertical-align: top;\n",
       "    }\n",
       "\n",
       "    .dataframe thead th {\n",
       "        text-align: right;\n",
       "    }\n",
       "</style>\n",
       "<table border=\"1\" class=\"dataframe\">\n",
       "  <thead>\n",
       "    <tr style=\"text-align: right;\">\n",
       "      <th></th>\n",
       "      <th>title_x</th>\n",
       "      <th>year</th>\n",
       "      <th>title_y</th>\n",
       "      <th>rating</th>\n",
       "    </tr>\n",
       "  </thead>\n",
       "  <tbody>\n",
       "    <tr>\n",
       "      <th>0</th>\n",
       "      <td>刺激1995</td>\n",
       "      <td>1994</td>\n",
       "      <td>魔戒三部曲：王者再臨</td>\n",
       "      <td>8.9</td>\n",
       "    </tr>\n",
       "    <tr>\n",
       "      <th>1</th>\n",
       "      <td>教父</td>\n",
       "      <td>1972</td>\n",
       "      <td>魔戒首部曲：魔戒現身</td>\n",
       "      <td>8.8</td>\n",
       "    </tr>\n",
       "    <tr>\n",
       "      <th>2</th>\n",
       "      <td>黑暗騎士</td>\n",
       "      <td>2008</td>\n",
       "      <td>魔戒二部曲：雙城奇謀</td>\n",
       "      <td>8.7</td>\n",
       "    </tr>\n",
       "    <tr>\n",
       "      <th>3</th>\n",
       "      <td>教父2</td>\n",
       "      <td>1974</td>\n",
       "      <td>NaN</td>\n",
       "      <td>NaN</td>\n",
       "    </tr>\n",
       "    <tr>\n",
       "      <th>4</th>\n",
       "      <td>十二怒漢</td>\n",
       "      <td>1957</td>\n",
       "      <td>NaN</td>\n",
       "      <td>NaN</td>\n",
       "    </tr>\n",
       "    <tr>\n",
       "      <th>5</th>\n",
       "      <td>辛德勒的名單</td>\n",
       "      <td>1993</td>\n",
       "      <td>NaN</td>\n",
       "      <td>NaN</td>\n",
       "    </tr>\n",
       "    <tr>\n",
       "      <th>6</th>\n",
       "      <td>魔戒三部曲：王者再臨</td>\n",
       "      <td>2003</td>\n",
       "      <td>NaN</td>\n",
       "      <td>NaN</td>\n",
       "    </tr>\n",
       "    <tr>\n",
       "      <th>7</th>\n",
       "      <td>黑色追緝令</td>\n",
       "      <td>1994</td>\n",
       "      <td>NaN</td>\n",
       "      <td>NaN</td>\n",
       "    </tr>\n",
       "    <tr>\n",
       "      <th>8</th>\n",
       "      <td>魔戒首部曲：魔戒現身</td>\n",
       "      <td>2001</td>\n",
       "      <td>NaN</td>\n",
       "      <td>NaN</td>\n",
       "    </tr>\n",
       "    <tr>\n",
       "      <th>9</th>\n",
       "      <td>黃昏三鏢客</td>\n",
       "      <td>1966</td>\n",
       "      <td>NaN</td>\n",
       "      <td>NaN</td>\n",
       "    </tr>\n",
       "  </tbody>\n",
       "</table>\n",
       "</div>"
      ],
      "text/plain": [
       "      title_x  year     title_y  rating\n",
       "0      刺激1995  1994  魔戒三部曲：王者再臨     8.9\n",
       "1          教父  1972  魔戒首部曲：魔戒現身     8.8\n",
       "2        黑暗騎士  2008  魔戒二部曲：雙城奇謀     8.7\n",
       "3         教父2  1974         NaN     NaN\n",
       "4        十二怒漢  1957         NaN     NaN\n",
       "5      辛德勒的名單  1993         NaN     NaN\n",
       "6  魔戒三部曲：王者再臨  2003         NaN     NaN\n",
       "7       黑色追緝令  1994         NaN     NaN\n",
       "8  魔戒首部曲：魔戒現身  2001         NaN     NaN\n",
       "9       黃昏三鏢客  1966         NaN     NaN"
      ]
     },
     "execution_count": 52,
     "metadata": {},
     "output_type": "execute_result"
    }
   ],
   "source": [
    "# join dataframes on index\n",
    "left_df.join(right_df, lsuffix='_x', rsuffix='_y')"
   ]
  },
  {
   "cell_type": "code",
   "execution_count": 53,
   "metadata": {
    "slideshow": {
     "slide_type": "subslide"
    }
   },
   "outputs": [
    {
     "data": {
      "text/html": [
       "<div>\n",
       "<style scoped>\n",
       "    .dataframe tbody tr th:only-of-type {\n",
       "        vertical-align: middle;\n",
       "    }\n",
       "\n",
       "    .dataframe tbody tr th {\n",
       "        vertical-align: top;\n",
       "    }\n",
       "\n",
       "    .dataframe thead th {\n",
       "        text-align: right;\n",
       "    }\n",
       "</style>\n",
       "<table border=\"1\" class=\"dataframe\">\n",
       "  <thead>\n",
       "    <tr style=\"text-align: right;\">\n",
       "      <th></th>\n",
       "      <th>year</th>\n",
       "      <th>rating</th>\n",
       "    </tr>\n",
       "    <tr>\n",
       "      <th>title</th>\n",
       "      <th></th>\n",
       "      <th></th>\n",
       "    </tr>\n",
       "  </thead>\n",
       "  <tbody>\n",
       "    <tr>\n",
       "      <th>刺激1995</th>\n",
       "      <td>1994</td>\n",
       "      <td>NaN</td>\n",
       "    </tr>\n",
       "    <tr>\n",
       "      <th>教父</th>\n",
       "      <td>1972</td>\n",
       "      <td>NaN</td>\n",
       "    </tr>\n",
       "    <tr>\n",
       "      <th>黑暗騎士</th>\n",
       "      <td>2008</td>\n",
       "      <td>NaN</td>\n",
       "    </tr>\n",
       "    <tr>\n",
       "      <th>教父2</th>\n",
       "      <td>1974</td>\n",
       "      <td>NaN</td>\n",
       "    </tr>\n",
       "    <tr>\n",
       "      <th>十二怒漢</th>\n",
       "      <td>1957</td>\n",
       "      <td>NaN</td>\n",
       "    </tr>\n",
       "    <tr>\n",
       "      <th>辛德勒的名單</th>\n",
       "      <td>1993</td>\n",
       "      <td>NaN</td>\n",
       "    </tr>\n",
       "    <tr>\n",
       "      <th>魔戒三部曲：王者再臨</th>\n",
       "      <td>2003</td>\n",
       "      <td>8.9</td>\n",
       "    </tr>\n",
       "    <tr>\n",
       "      <th>黑色追緝令</th>\n",
       "      <td>1994</td>\n",
       "      <td>NaN</td>\n",
       "    </tr>\n",
       "    <tr>\n",
       "      <th>魔戒首部曲：魔戒現身</th>\n",
       "      <td>2001</td>\n",
       "      <td>8.8</td>\n",
       "    </tr>\n",
       "    <tr>\n",
       "      <th>黃昏三鏢客</th>\n",
       "      <td>1966</td>\n",
       "      <td>NaN</td>\n",
       "    </tr>\n",
       "  </tbody>\n",
       "</table>\n",
       "</div>"
      ],
      "text/plain": [
       "            year  rating\n",
       "title                   \n",
       "刺激1995      1994     NaN\n",
       "教父          1972     NaN\n",
       "黑暗騎士        2008     NaN\n",
       "教父2         1974     NaN\n",
       "十二怒漢        1957     NaN\n",
       "辛德勒的名單      1993     NaN\n",
       "魔戒三部曲：王者再臨  2003     8.9\n",
       "黑色追緝令       1994     NaN\n",
       "魔戒首部曲：魔戒現身  2001     8.8\n",
       "黃昏三鏢客       1966     NaN"
      ]
     },
     "execution_count": 53,
     "metadata": {},
     "output_type": "execute_result"
    }
   ],
   "source": [
    "left_df = left_df.set_index('title')\n",
    "right_df = right_df.set_index('title')\n",
    "# default: left join\n",
    "left_df.join(right_df)"
   ]
  },
  {
   "cell_type": "code",
   "execution_count": 54,
   "metadata": {
    "slideshow": {
     "slide_type": "subslide"
    }
   },
   "outputs": [
    {
     "data": {
      "text/html": [
       "<div>\n",
       "<style scoped>\n",
       "    .dataframe tbody tr th:only-of-type {\n",
       "        vertical-align: middle;\n",
       "    }\n",
       "\n",
       "    .dataframe tbody tr th {\n",
       "        vertical-align: top;\n",
       "    }\n",
       "\n",
       "    .dataframe thead th {\n",
       "        text-align: right;\n",
       "    }\n",
       "</style>\n",
       "<table border=\"1\" class=\"dataframe\">\n",
       "  <thead>\n",
       "    <tr style=\"text-align: right;\">\n",
       "      <th></th>\n",
       "      <th>year</th>\n",
       "      <th>rating</th>\n",
       "    </tr>\n",
       "    <tr>\n",
       "      <th>title</th>\n",
       "      <th></th>\n",
       "      <th></th>\n",
       "    </tr>\n",
       "  </thead>\n",
       "  <tbody>\n",
       "    <tr>\n",
       "      <th>魔戒三部曲：王者再臨</th>\n",
       "      <td>2003</td>\n",
       "      <td>8.9</td>\n",
       "    </tr>\n",
       "    <tr>\n",
       "      <th>魔戒首部曲：魔戒現身</th>\n",
       "      <td>2001</td>\n",
       "      <td>8.8</td>\n",
       "    </tr>\n",
       "  </tbody>\n",
       "</table>\n",
       "</div>"
      ],
      "text/plain": [
       "            year  rating\n",
       "title                   \n",
       "魔戒三部曲：王者再臨  2003     8.9\n",
       "魔戒首部曲：魔戒現身  2001     8.8"
      ]
     },
     "execution_count": 54,
     "metadata": {},
     "output_type": "execute_result"
    }
   ],
   "source": [
    "# inner join\n",
    "left_df.join(right_df, how='inner')"
   ]
  },
  {
   "cell_type": "code",
   "execution_count": 55,
   "metadata": {
    "slideshow": {
     "slide_type": "subslide"
    }
   },
   "outputs": [
    {
     "data": {
      "text/html": [
       "<div>\n",
       "<style scoped>\n",
       "    .dataframe tbody tr th:only-of-type {\n",
       "        vertical-align: middle;\n",
       "    }\n",
       "\n",
       "    .dataframe tbody tr th {\n",
       "        vertical-align: top;\n",
       "    }\n",
       "\n",
       "    .dataframe thead th {\n",
       "        text-align: right;\n",
       "    }\n",
       "</style>\n",
       "<table border=\"1\" class=\"dataframe\">\n",
       "  <thead>\n",
       "    <tr style=\"text-align: right;\">\n",
       "      <th></th>\n",
       "      <th>year</th>\n",
       "      <th>rating</th>\n",
       "    </tr>\n",
       "    <tr>\n",
       "      <th>title</th>\n",
       "      <th></th>\n",
       "      <th></th>\n",
       "    </tr>\n",
       "  </thead>\n",
       "  <tbody>\n",
       "    <tr>\n",
       "      <th>魔戒三部曲：王者再臨</th>\n",
       "      <td>2003.0</td>\n",
       "      <td>8.9</td>\n",
       "    </tr>\n",
       "    <tr>\n",
       "      <th>魔戒首部曲：魔戒現身</th>\n",
       "      <td>2001.0</td>\n",
       "      <td>8.8</td>\n",
       "    </tr>\n",
       "    <tr>\n",
       "      <th>魔戒二部曲：雙城奇謀</th>\n",
       "      <td>NaN</td>\n",
       "      <td>8.7</td>\n",
       "    </tr>\n",
       "  </tbody>\n",
       "</table>\n",
       "</div>"
      ],
      "text/plain": [
       "              year  rating\n",
       "title                     \n",
       "魔戒三部曲：王者再臨  2003.0     8.9\n",
       "魔戒首部曲：魔戒現身  2001.0     8.8\n",
       "魔戒二部曲：雙城奇謀     NaN     8.7"
      ]
     },
     "execution_count": 55,
     "metadata": {},
     "output_type": "execute_result"
    }
   ],
   "source": [
    "# right join\n",
    "left_df.join(right_df, how='right')"
   ]
  }
 ],
 "metadata": {
  "celltoolbar": "Slideshow",
  "kernelspec": {
   "display_name": "Python 3 (ipykernel)",
   "language": "python",
   "name": "python3"
  },
  "language_info": {
   "codemirror_mode": {
    "name": "ipython",
    "version": 3
   },
   "file_extension": ".py",
   "mimetype": "text/x-python",
   "name": "python",
   "nbconvert_exporter": "python",
   "pygments_lexer": "ipython3",
   "version": "3.9.12"
  }
 },
 "nbformat": 4,
 "nbformat_minor": 4
}
